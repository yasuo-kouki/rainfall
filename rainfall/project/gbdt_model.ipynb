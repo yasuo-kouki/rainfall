{
 "cells": [
  {
   "cell_type": "code",
   "execution_count": 1,
   "metadata": {},
   "outputs": [],
   "source": [
    "import pandas as pd\n",
    "import numpy as np"
   ]
  },
  {
   "cell_type": "markdown",
   "metadata": {},
   "source": [
    "### データの読み込み"
   ]
  },
  {
   "cell_type": "code",
   "execution_count": 2,
   "metadata": {},
   "outputs": [],
   "source": [
    "train = pd.read_csv('data/train.csv')\n",
    "test = pd.read_csv('data/test.csv')"
   ]
  },
  {
   "cell_type": "code",
   "execution_count": 3,
   "metadata": {},
   "outputs": [
    {
     "data": {
      "text/html": [
       "<div>\n",
       "<style scoped>\n",
       "    .dataframe tbody tr th:only-of-type {\n",
       "        vertical-align: middle;\n",
       "    }\n",
       "\n",
       "    .dataframe tbody tr th {\n",
       "        vertical-align: top;\n",
       "    }\n",
       "\n",
       "    .dataframe thead th {\n",
       "        text-align: right;\n",
       "    }\n",
       "</style>\n",
       "<table border=\"1\" class=\"dataframe\">\n",
       "  <thead>\n",
       "    <tr style=\"text-align: right;\">\n",
       "      <th></th>\n",
       "      <th>id</th>\n",
       "      <th>day</th>\n",
       "      <th>pressure</th>\n",
       "      <th>maxtemp</th>\n",
       "      <th>temparature</th>\n",
       "      <th>mintemp</th>\n",
       "      <th>dewpoint</th>\n",
       "      <th>humidity</th>\n",
       "      <th>cloud</th>\n",
       "      <th>sunshine</th>\n",
       "      <th>winddirection</th>\n",
       "      <th>windspeed</th>\n",
       "      <th>rainfall</th>\n",
       "    </tr>\n",
       "  </thead>\n",
       "  <tbody>\n",
       "    <tr>\n",
       "      <th>0</th>\n",
       "      <td>0</td>\n",
       "      <td>1</td>\n",
       "      <td>1017.4</td>\n",
       "      <td>21.2</td>\n",
       "      <td>20.6</td>\n",
       "      <td>19.9</td>\n",
       "      <td>19.4</td>\n",
       "      <td>87.0</td>\n",
       "      <td>88.0</td>\n",
       "      <td>1.1</td>\n",
       "      <td>60.0</td>\n",
       "      <td>17.2</td>\n",
       "      <td>1</td>\n",
       "    </tr>\n",
       "    <tr>\n",
       "      <th>1</th>\n",
       "      <td>1</td>\n",
       "      <td>2</td>\n",
       "      <td>1019.5</td>\n",
       "      <td>16.2</td>\n",
       "      <td>16.9</td>\n",
       "      <td>15.8</td>\n",
       "      <td>15.4</td>\n",
       "      <td>95.0</td>\n",
       "      <td>91.0</td>\n",
       "      <td>0.0</td>\n",
       "      <td>50.0</td>\n",
       "      <td>21.9</td>\n",
       "      <td>1</td>\n",
       "    </tr>\n",
       "    <tr>\n",
       "      <th>2</th>\n",
       "      <td>2</td>\n",
       "      <td>3</td>\n",
       "      <td>1024.1</td>\n",
       "      <td>19.4</td>\n",
       "      <td>16.1</td>\n",
       "      <td>14.6</td>\n",
       "      <td>9.3</td>\n",
       "      <td>75.0</td>\n",
       "      <td>47.0</td>\n",
       "      <td>8.3</td>\n",
       "      <td>70.0</td>\n",
       "      <td>18.1</td>\n",
       "      <td>1</td>\n",
       "    </tr>\n",
       "    <tr>\n",
       "      <th>3</th>\n",
       "      <td>3</td>\n",
       "      <td>4</td>\n",
       "      <td>1013.4</td>\n",
       "      <td>18.1</td>\n",
       "      <td>17.8</td>\n",
       "      <td>16.9</td>\n",
       "      <td>16.8</td>\n",
       "      <td>95.0</td>\n",
       "      <td>95.0</td>\n",
       "      <td>0.0</td>\n",
       "      <td>60.0</td>\n",
       "      <td>35.6</td>\n",
       "      <td>1</td>\n",
       "    </tr>\n",
       "    <tr>\n",
       "      <th>4</th>\n",
       "      <td>4</td>\n",
       "      <td>5</td>\n",
       "      <td>1021.8</td>\n",
       "      <td>21.3</td>\n",
       "      <td>18.4</td>\n",
       "      <td>15.2</td>\n",
       "      <td>9.6</td>\n",
       "      <td>52.0</td>\n",
       "      <td>45.0</td>\n",
       "      <td>3.6</td>\n",
       "      <td>40.0</td>\n",
       "      <td>24.8</td>\n",
       "      <td>0</td>\n",
       "    </tr>\n",
       "  </tbody>\n",
       "</table>\n",
       "</div>"
      ],
      "text/plain": [
       "   id  day  pressure  maxtemp  temparature  mintemp  dewpoint  humidity  \\\n",
       "0   0    1    1017.4     21.2         20.6     19.9      19.4      87.0   \n",
       "1   1    2    1019.5     16.2         16.9     15.8      15.4      95.0   \n",
       "2   2    3    1024.1     19.4         16.1     14.6       9.3      75.0   \n",
       "3   3    4    1013.4     18.1         17.8     16.9      16.8      95.0   \n",
       "4   4    5    1021.8     21.3         18.4     15.2       9.6      52.0   \n",
       "\n",
       "   cloud  sunshine  winddirection  windspeed  rainfall  \n",
       "0   88.0       1.1           60.0       17.2         1  \n",
       "1   91.0       0.0           50.0       21.9         1  \n",
       "2   47.0       8.3           70.0       18.1         1  \n",
       "3   95.0       0.0           60.0       35.6         1  \n",
       "4   45.0       3.6           40.0       24.8         0  "
      ]
     },
     "execution_count": 3,
     "metadata": {},
     "output_type": "execute_result"
    }
   ],
   "source": [
    "train.head()"
   ]
  },
  {
   "cell_type": "code",
   "execution_count": 4,
   "metadata": {},
   "outputs": [
    {
     "data": {
      "text/html": [
       "<div>\n",
       "<style scoped>\n",
       "    .dataframe tbody tr th:only-of-type {\n",
       "        vertical-align: middle;\n",
       "    }\n",
       "\n",
       "    .dataframe tbody tr th {\n",
       "        vertical-align: top;\n",
       "    }\n",
       "\n",
       "    .dataframe thead th {\n",
       "        text-align: right;\n",
       "    }\n",
       "</style>\n",
       "<table border=\"1\" class=\"dataframe\">\n",
       "  <thead>\n",
       "    <tr style=\"text-align: right;\">\n",
       "      <th></th>\n",
       "      <th>id</th>\n",
       "      <th>day</th>\n",
       "      <th>pressure</th>\n",
       "      <th>maxtemp</th>\n",
       "      <th>temparature</th>\n",
       "      <th>mintemp</th>\n",
       "      <th>dewpoint</th>\n",
       "      <th>humidity</th>\n",
       "      <th>cloud</th>\n",
       "      <th>sunshine</th>\n",
       "      <th>winddirection</th>\n",
       "      <th>windspeed</th>\n",
       "    </tr>\n",
       "  </thead>\n",
       "  <tbody>\n",
       "    <tr>\n",
       "      <th>0</th>\n",
       "      <td>2190</td>\n",
       "      <td>1</td>\n",
       "      <td>1019.5</td>\n",
       "      <td>17.5</td>\n",
       "      <td>15.8</td>\n",
       "      <td>12.7</td>\n",
       "      <td>14.9</td>\n",
       "      <td>96.0</td>\n",
       "      <td>99.0</td>\n",
       "      <td>0.0</td>\n",
       "      <td>50.0</td>\n",
       "      <td>24.3</td>\n",
       "    </tr>\n",
       "    <tr>\n",
       "      <th>1</th>\n",
       "      <td>2191</td>\n",
       "      <td>2</td>\n",
       "      <td>1016.5</td>\n",
       "      <td>17.5</td>\n",
       "      <td>16.5</td>\n",
       "      <td>15.8</td>\n",
       "      <td>15.1</td>\n",
       "      <td>97.0</td>\n",
       "      <td>99.0</td>\n",
       "      <td>0.0</td>\n",
       "      <td>50.0</td>\n",
       "      <td>35.3</td>\n",
       "    </tr>\n",
       "    <tr>\n",
       "      <th>2</th>\n",
       "      <td>2192</td>\n",
       "      <td>3</td>\n",
       "      <td>1023.9</td>\n",
       "      <td>11.2</td>\n",
       "      <td>10.4</td>\n",
       "      <td>9.4</td>\n",
       "      <td>8.9</td>\n",
       "      <td>86.0</td>\n",
       "      <td>96.0</td>\n",
       "      <td>0.0</td>\n",
       "      <td>40.0</td>\n",
       "      <td>16.9</td>\n",
       "    </tr>\n",
       "    <tr>\n",
       "      <th>3</th>\n",
       "      <td>2193</td>\n",
       "      <td>4</td>\n",
       "      <td>1022.9</td>\n",
       "      <td>20.6</td>\n",
       "      <td>17.3</td>\n",
       "      <td>15.2</td>\n",
       "      <td>9.5</td>\n",
       "      <td>75.0</td>\n",
       "      <td>45.0</td>\n",
       "      <td>7.1</td>\n",
       "      <td>20.0</td>\n",
       "      <td>50.6</td>\n",
       "    </tr>\n",
       "    <tr>\n",
       "      <th>4</th>\n",
       "      <td>2194</td>\n",
       "      <td>5</td>\n",
       "      <td>1022.2</td>\n",
       "      <td>16.1</td>\n",
       "      <td>13.8</td>\n",
       "      <td>6.4</td>\n",
       "      <td>4.3</td>\n",
       "      <td>68.0</td>\n",
       "      <td>49.0</td>\n",
       "      <td>9.2</td>\n",
       "      <td>20.0</td>\n",
       "      <td>19.4</td>\n",
       "    </tr>\n",
       "  </tbody>\n",
       "</table>\n",
       "</div>"
      ],
      "text/plain": [
       "     id  day  pressure  maxtemp  temparature  mintemp  dewpoint  humidity  \\\n",
       "0  2190    1    1019.5     17.5         15.8     12.7      14.9      96.0   \n",
       "1  2191    2    1016.5     17.5         16.5     15.8      15.1      97.0   \n",
       "2  2192    3    1023.9     11.2         10.4      9.4       8.9      86.0   \n",
       "3  2193    4    1022.9     20.6         17.3     15.2       9.5      75.0   \n",
       "4  2194    5    1022.2     16.1         13.8      6.4       4.3      68.0   \n",
       "\n",
       "   cloud  sunshine  winddirection  windspeed  \n",
       "0   99.0       0.0           50.0       24.3  \n",
       "1   99.0       0.0           50.0       35.3  \n",
       "2   96.0       0.0           40.0       16.9  \n",
       "3   45.0       7.1           20.0       50.6  \n",
       "4   49.0       9.2           20.0       19.4  "
      ]
     },
     "execution_count": 4,
     "metadata": {},
     "output_type": "execute_result"
    }
   ],
   "source": [
    "test.head()"
   ]
  },
  {
   "cell_type": "markdown",
   "metadata": {},
   "source": [
    "### 学習データを特徴量と目的変数に分ける"
   ]
  },
  {
   "cell_type": "code",
   "execution_count": 5,
   "metadata": {},
   "outputs": [],
   "source": [
    "train_x = train.drop(['rainfall'],axis=1)\n",
    "train_y = train['rainfall']\n",
    "\n",
    "test_x = test.copy()"
   ]
  },
  {
   "cell_type": "markdown",
   "metadata": {},
   "source": [
    "### データを調べる"
   ]
  },
  {
   "cell_type": "markdown",
   "metadata": {},
   "source": [
    "データの方の確認"
   ]
  },
  {
   "cell_type": "code",
   "execution_count": 6,
   "metadata": {},
   "outputs": [
    {
     "data": {
      "text/plain": [
       "id                 int64\n",
       "day                int64\n",
       "pressure         float64\n",
       "maxtemp          float64\n",
       "temparature      float64\n",
       "mintemp          float64\n",
       "dewpoint         float64\n",
       "humidity         float64\n",
       "cloud            float64\n",
       "sunshine         float64\n",
       "winddirection    float64\n",
       "windspeed        float64\n",
       "dtype: object"
      ]
     },
     "execution_count": 6,
     "metadata": {},
     "output_type": "execute_result"
    }
   ],
   "source": [
    "train_x.dtypes\n",
    "#objectの場合型が混在する"
   ]
  },
  {
   "cell_type": "code",
   "execution_count": 7,
   "metadata": {},
   "outputs": [
    {
     "data": {
      "text/plain": [
       "id               0\n",
       "day              0\n",
       "pressure         0\n",
       "maxtemp          0\n",
       "temparature      0\n",
       "mintemp          0\n",
       "dewpoint         0\n",
       "humidity         0\n",
       "cloud            0\n",
       "sunshine         0\n",
       "winddirection    0\n",
       "windspeed        0\n",
       "dtype: int64"
      ]
     },
     "execution_count": 7,
     "metadata": {},
     "output_type": "execute_result"
    }
   ],
   "source": [
    "train_x.isnull().sum()"
   ]
  },
  {
   "cell_type": "code",
   "execution_count": 8,
   "metadata": {},
   "outputs": [
    {
     "name": "stdout",
     "output_type": "stream",
     "text": [
      "count    2190.000000\n",
      "mean      179.948402\n",
      "std       105.203592\n",
      "min         1.000000\n",
      "25%        89.000000\n",
      "50%       178.500000\n",
      "75%       270.000000\n",
      "max       365.000000\n",
      "Name: day, dtype: float64\n"
     ]
    }
   ],
   "source": [
    "print(train_x[\"day\"].describe())"
   ]
  },
  {
   "cell_type": "markdown",
   "metadata": {},
   "source": [
    "ヒストグラムを分布で確認"
   ]
  },
  {
   "cell_type": "code",
   "execution_count": 9,
   "metadata": {},
   "outputs": [
    {
     "data": {
      "image/png": "[encoded data removed]",
      "text/plain": [
       "<Figure size 1200x800 with 12 Axes>"
      ]
     },
     "metadata": {},
     "output_type": "display_data"
    }
   ],
   "source": [
    "import matplotlib.pyplot as plt\n",
    "\n",
    "train_x.hist(figsize=(12,8),bins=30)\n",
    "plt.show()"
   ]
  },
  {
   "cell_type": "markdown",
   "metadata": {},
   "source": [
    "### 変数の削除をする"
   ]
  },
  {
   "cell_type": "code",
   "execution_count": 10,
   "metadata": {},
   "outputs": [],
   "source": [
    "# idの列は削除する\n",
    "train_x = train_x.drop(['id'],axis=1)\n",
    "test_x = test_x.drop(['id'],axis=1)"
   ]
  },
  {
   "cell_type": "markdown",
   "metadata": {},
   "source": [
    "## 特徴量の作成"
   ]
  },
  {
   "cell_type": "markdown",
   "metadata": {},
   "source": [
    "### 月の作成"
   ]
  },
  {
   "cell_type": "code",
   "execution_count": 11,
   "metadata": {},
   "outputs": [
    {
     "name": "stdout",
     "output_type": "stream",
     "text": [
      "   day  month  month_sin  month_cos\n",
      "0    1      1        0.5   0.866025\n",
      "1    2      1        0.5   0.866025\n",
      "2    3      1        0.5   0.866025\n",
      "3    4      1        0.5   0.866025\n",
      "4    5      1        0.5   0.866025\n"
     ]
    }
   ],
   "source": [
    "# 1月1日を基準に日付に変換\n",
    "train_x['date'] = pd.to_datetime('2024-01-01') + pd.to_timedelta(train_x['day']-1,unit='D')\n",
    "test_x['date'] = pd.to_datetime('2024-01-01') + pd.to_timedelta(test_x['day']-1,unit='D')\n",
    "\n",
    "# 月の数値を習得\n",
    "train_x['month'] = train_x['date'].dt.month\n",
    "test_x['month'] = test_x['date'].dt.month\n",
    "\n",
    "#月の周期変換\n",
    "train_x['month_sin'] = np.sin(2 * np.pi * train_x['month']/12)\n",
    "train_x['month_cos'] = np.cos(2 * np.pi * train_x['month']/12)\n",
    "\n",
    "test_x['month_sin'] = np.sin(2 * np.pi * test_x['month']/12)\n",
    "test_x['month_cos'] = np.cos(2 * np.pi * test_x['month']/12)\n",
    "\n",
    "# 不要な列を削除\n",
    "train_x.drop(columns=['date'], inplace=True)\n",
    "test_x.drop(columns=['date'], inplace=True)\n",
    "\n",
    "print(train_x[['day','month','month_sin','month_cos']].head())"
   ]
  },
  {
   "cell_type": "markdown",
   "metadata": {},
   "source": [
    "### 周期的な日の変換"
   ]
  },
  {
   "cell_type": "code",
   "execution_count": 12,
   "metadata": {},
   "outputs": [
    {
     "name": "stdout",
     "output_type": "stream",
     "text": [
      "   day   day_sin\n",
      "0    1  0.017213\n",
      "1    2  0.034422\n",
      "2    3  0.051620\n",
      "3    4  0.068802\n",
      "4    5  0.085965\n"
     ]
    }
   ],
   "source": [
    "train_x['day_sin'] = np.sin(2 * np.pi * train_x['day'] / 365)\n",
    "train_x['day_cos'] = np.cos(2 * np.pi * train_x['day'] / 365)\n",
    "\n",
    "test_x['day_sin'] = np.sin(2 * np.pi * test_x['day'] / 365)\n",
    "test_x['day_cos'] = np.cos(2 * np.pi * test_x['day'] / 365)\n",
    "print(train_x[['day','day_sin']].head())"
   ]
  },
  {
   "cell_type": "markdown",
   "metadata": {},
   "source": [
    "### 気温をmax<minとなっている列を欠損値とする"
   ]
  },
  {
   "cell_type": "code",
   "execution_count": 13,
   "metadata": {},
   "outputs": [
    {
     "name": "stdout",
     "output_type": "stream",
     "text": [
      "      day  pressure  maxtemp  temparature  mintemp  dewpoint  humidity  cloud  \\\n",
      "319   320    1018.9     19.2         20.9     19.2      19.4      78.0   38.0   \n",
      "1051  322    1016.8     19.3         21.6     19.4      15.8      70.0   83.0   \n",
      "\n",
      "      sunshine  winddirection  windspeed  month  month_sin  month_cos  \\\n",
      "319        5.7           80.0       36.0     11       -0.5   0.866025   \n",
      "1051       0.0           50.0       33.2     11       -0.5   0.866025   \n",
      "\n",
      "       day_sin   day_cos  \n",
      "319  -0.699458  0.714673  \n",
      "1051 -0.674444  0.738326  \n"
     ]
    }
   ],
   "source": [
    "print(train_x[~(train_x['maxtemp'] > train_x['mintemp'])])\n",
    "train_x.loc[train_x['maxtemp'] <= train_x['mintemp'], 'maxtemp'] = np.nan\n",
    "test_x.loc[test_x['maxtemp'] <= test_x['mintemp'], 'maxtemp'] = np.nan"
   ]
  },
  {
   "cell_type": "markdown",
   "metadata": {},
   "source": [
    "### 気温>最高気温となっている列を欠損値とする"
   ]
  },
  {
   "cell_type": "code",
   "execution_count": 14,
   "metadata": {},
   "outputs": [
    {
     "name": "stdout",
     "output_type": "stream",
     "text": [
      "      day  pressure  maxtemp  temparature  mintemp  dewpoint  humidity  cloud  \\\n",
      "1       2    1019.5     16.2         16.9     15.8      15.4      95.0   91.0   \n",
      "12     13    1020.4     15.0         15.5     13.2      12.0      77.0   86.0   \n",
      "369     5    1022.4     12.1         13.8     11.2       2.7      75.0   68.0   \n",
      "398    34    1013.7     22.3         23.0     21.0      20.4      91.0   84.0   \n",
      "653   289    1016.6     26.2         26.8     23.2      20.4      79.0   69.0   \n",
      "702   338    1021.1     17.3         18.0     16.1      16.1      70.0   86.0   \n",
      "734     5    1024.4     11.3         11.4     10.4       8.6      77.0   88.0   \n",
      "796    67    1020.6     18.8         19.9     17.1      16.0      79.0   95.0   \n",
      "1088  359    1025.9     17.5         18.0     16.5      13.3      79.0   89.0   \n",
      "1104   10    1022.3     15.2         15.8     13.5      11.1      78.0   94.0   \n",
      "1142   48    1013.3     17.1         17.2     15.2      14.8      87.0   90.0   \n",
      "1146   52    1016.7     17.4         17.6     16.4      16.3      96.0  100.0   \n",
      "1149   55    1022.3     17.5         18.2     16.9      14.3      92.0   96.0   \n",
      "1455  361    1016.4     16.3         16.6     15.9      15.0      91.0   96.0   \n",
      "1480   21    1020.1     13.3         14.4     11.6      10.5      89.0   85.0   \n",
      "1529   70    1020.3     18.5         19.2     17.7      13.3      60.0   38.0   \n",
      "1815  356    1024.0     20.3         20.5     17.8      14.5      77.0   86.0   \n",
      "1832    8    1017.8     17.2         17.9     16.0      15.7      98.0   93.0   \n",
      "2169  345    1016.3     16.3         16.5     15.8      16.6      91.0   83.0   \n",
      "2186  362    1012.4     17.2         17.3     16.3      15.3      91.0   88.0   \n",
      "\n",
      "      sunshine  winddirection  windspeed  month     month_sin     month_cos  \\\n",
      "1          0.0           50.0       21.9      1  5.000000e-01  8.660254e-01   \n",
      "12         0.0           50.0       32.4      1  5.000000e-01  8.660254e-01   \n",
      "369        6.0           70.0       27.6      1  5.000000e-01  8.660254e-01   \n",
      "398        0.0           80.0       37.0      2  8.660254e-01  5.000000e-01   \n",
      "653        5.0           40.0       22.4     10 -8.660254e-01  5.000000e-01   \n",
      "702        3.0           40.0       14.8     12 -2.449294e-16  1.000000e+00   \n",
      "734        0.0           20.0       39.3      1  5.000000e-01  8.660254e-01   \n",
      "796        0.0           30.0       19.3      3  1.000000e+00  6.123234e-17   \n",
      "1088       0.5           20.0       23.4     12 -2.449294e-16  1.000000e+00   \n",
      "1104       0.0           60.0       37.0      1  5.000000e-01  8.660254e-01   \n",
      "1142       0.2           20.0       25.1      2  8.660254e-01  5.000000e-01   \n",
      "1146       0.2           50.0       16.1      2  8.660254e-01  5.000000e-01   \n",
      "1149       0.0           40.0       19.0      2  8.660254e-01  5.000000e-01   \n",
      "1455       0.0           70.0       37.0     12 -2.449294e-16  1.000000e+00   \n",
      "1480       1.9           20.0        9.9      1  5.000000e-01  8.660254e-01   \n",
      "1529       9.3           60.0        8.5      3  1.000000e+00  6.123234e-17   \n",
      "1815       0.0           60.0       34.3     12 -2.449294e-16  1.000000e+00   \n",
      "1832       0.0           40.0       59.5      1  5.000000e-01  8.660254e-01   \n",
      "2169       0.3           50.0       29.8     12 -2.449294e-16  1.000000e+00   \n",
      "2186       0.0           50.0       35.3     12 -2.449294e-16  1.000000e+00   \n",
      "\n",
      "       day_sin   day_cos  \n",
      "1     0.034422  0.999407  \n",
      "12    0.221922  0.975065  \n",
      "369   0.085965  0.996298  \n",
      "398   0.552435  0.833556  \n",
      "653  -0.965740  0.259512  \n",
      "702  -0.448229  0.893919  \n",
      "734   0.085965  0.996298  \n",
      "796   0.914128  0.405426  \n",
      "1088 -0.103102  0.994671  \n",
      "1104  0.171293  0.985220  \n",
      "1142  0.735417  0.677615  \n",
      "1146  0.780296  0.625411  \n",
      "1149  0.811539  0.584298  \n",
      "1455 -0.068802  0.997630  \n",
      "1480  0.353676  0.935368  \n",
      "1529  0.933837  0.357698  \n",
      "1815 -0.154309  0.988023  \n",
      "1832  0.137279  0.990532  \n",
      "2169 -0.337523  0.941317  \n",
      "2186 -0.051620  0.998667  \n",
      "\n",
      "欠損値の個数:22\n"
     ]
    }
   ],
   "source": [
    "print(train_x[(train_x['temparature'] > train_x['maxtemp'])])\n",
    "train_x.loc[train_x['maxtemp'] < train_x['temparature'], 'maxtemp'] = np.nan\n",
    "test_x.loc[test_x['maxtemp'] < test_x['temparature'], 'maxtemp'] = np.nan\n",
    "\n",
    "print(f\"\\n欠損値の個数:{train_x['maxtemp'].isnull().sum()}\")"
   ]
  },
  {
   "cell_type": "markdown",
   "metadata": {},
   "source": [
    "### 気温差"
   ]
  },
  {
   "cell_type": "code",
   "execution_count": 15,
   "metadata": {},
   "outputs": [
    {
     "name": "stdout",
     "output_type": "stream",
     "text": [
      "      maxtemp  mintemp  df_temp\n",
      "0        21.2     19.9      1.3\n",
      "1         NaN     15.8      NaN\n",
      "2        19.4     14.6      4.8\n",
      "3        18.1     16.9      1.2\n",
      "4        21.3     15.2      6.1\n",
      "...       ...      ...      ...\n",
      "2185     23.2     19.1      4.1\n",
      "2186      NaN     16.3      NaN\n",
      "2187     19.0     14.3      4.7\n",
      "2188     16.4     13.8      2.6\n",
      "2189     21.2     18.0      3.2\n",
      "\n",
      "[2190 rows x 3 columns]\n"
     ]
    }
   ],
   "source": [
    "train_x['df_temp'] = train_x['maxtemp'] - train_x['mintemp']\n",
    "test_x['df_temp'] = test_x['maxtemp'] - test_x['mintemp']\n",
    "\n",
    "print(train_x[['maxtemp','mintemp','df_temp']])"
   ]
  },
  {
   "cell_type": "markdown",
   "metadata": {},
   "source": [
    "### 露点温度"
   ]
  },
  {
   "cell_type": "code",
   "execution_count": 16,
   "metadata": {},
   "outputs": [
    {
     "data": {
      "text/plain": [
       "\"\\nimport numpy as np\\n\\n# 露点温度を計算する関数\\ndef calculate_dew_point(temp, humidity):\\n    return temp - ((100 - humidity) / 5) * (1 + 0.01 * temp)\\n\\n# train_x['maxtemp']が欠損値の場合、train_x['temperature']を使用\\ntrain_x['dew_point'] = np.where(\\n    train_x['maxtemp'].isnull(),\\n    calculate_dew_point(train_x['temparature'], train_x['humidity']),\\n    calculate_dew_point(train_x['maxtemp'], train_x['humidity'])\\n)\\n\\n# 露点温度の結果を確認\\nprint(train_x[['maxtemp', 'temparature', 'humidity', 'dew_point']].head())\\n\""
      ]
     },
     "execution_count": 16,
     "metadata": {},
     "output_type": "execute_result"
    }
   ],
   "source": [
    "\"\"\"\n",
    "import numpy as np\n",
    "\n",
    "# 露点温度を計算する関数\n",
    "def calculate_dew_point(temp, humidity):\n",
    "    return temp - ((100 - humidity) / 5) * (1 + 0.01 * temp)\n",
    "\n",
    "# train_x['maxtemp']が欠損値の場合、train_x['temperature']を使用\n",
    "train_x['dew_point'] = np.where(\n",
    "    train_x['maxtemp'].isnull(),\n",
    "    calculate_dew_point(train_x['temparature'], train_x['humidity']),\n",
    "    calculate_dew_point(train_x['maxtemp'], train_x['humidity'])\n",
    ")\n",
    "\n",
    "# 露点温度の結果を確認\n",
    "print(train_x[['maxtemp', 'temparature', 'humidity', 'dew_point']].head())\n",
    "\"\"\"\n"
   ]
  },
  {
   "cell_type": "code",
   "execution_count": 17,
   "metadata": {},
   "outputs": [
    {
     "data": {
      "text/html": [
       "<div>\n",
       "<style scoped>\n",
       "    .dataframe tbody tr th:only-of-type {\n",
       "        vertical-align: middle;\n",
       "    }\n",
       "\n",
       "    .dataframe tbody tr th {\n",
       "        vertical-align: top;\n",
       "    }\n",
       "\n",
       "    .dataframe thead th {\n",
       "        text-align: right;\n",
       "    }\n",
       "</style>\n",
       "<table border=\"1\" class=\"dataframe\">\n",
       "  <thead>\n",
       "    <tr style=\"text-align: right;\">\n",
       "      <th></th>\n",
       "      <th>day</th>\n",
       "      <th>pressure</th>\n",
       "      <th>maxtemp</th>\n",
       "      <th>temparature</th>\n",
       "      <th>mintemp</th>\n",
       "      <th>dewpoint</th>\n",
       "      <th>humidity</th>\n",
       "      <th>cloud</th>\n",
       "      <th>sunshine</th>\n",
       "      <th>winddirection</th>\n",
       "      <th>windspeed</th>\n",
       "      <th>month</th>\n",
       "      <th>month_sin</th>\n",
       "      <th>month_cos</th>\n",
       "      <th>day_sin</th>\n",
       "      <th>day_cos</th>\n",
       "      <th>df_temp</th>\n",
       "    </tr>\n",
       "  </thead>\n",
       "  <tbody>\n",
       "    <tr>\n",
       "      <th>0</th>\n",
       "      <td>1</td>\n",
       "      <td>1017.4</td>\n",
       "      <td>21.2</td>\n",
       "      <td>20.6</td>\n",
       "      <td>19.9</td>\n",
       "      <td>19.4</td>\n",
       "      <td>87.0</td>\n",
       "      <td>88.0</td>\n",
       "      <td>1.1</td>\n",
       "      <td>60.0</td>\n",
       "      <td>17.2</td>\n",
       "      <td>1</td>\n",
       "      <td>5.000000e-01</td>\n",
       "      <td>0.866025</td>\n",
       "      <td>1.721336e-02</td>\n",
       "      <td>0.999852</td>\n",
       "      <td>1.3</td>\n",
       "    </tr>\n",
       "    <tr>\n",
       "      <th>1</th>\n",
       "      <td>2</td>\n",
       "      <td>1019.5</td>\n",
       "      <td>NaN</td>\n",
       "      <td>16.9</td>\n",
       "      <td>15.8</td>\n",
       "      <td>15.4</td>\n",
       "      <td>95.0</td>\n",
       "      <td>91.0</td>\n",
       "      <td>0.0</td>\n",
       "      <td>50.0</td>\n",
       "      <td>21.9</td>\n",
       "      <td>1</td>\n",
       "      <td>5.000000e-01</td>\n",
       "      <td>0.866025</td>\n",
       "      <td>3.442161e-02</td>\n",
       "      <td>0.999407</td>\n",
       "      <td>NaN</td>\n",
       "    </tr>\n",
       "    <tr>\n",
       "      <th>2</th>\n",
       "      <td>3</td>\n",
       "      <td>1024.1</td>\n",
       "      <td>19.4</td>\n",
       "      <td>16.1</td>\n",
       "      <td>14.6</td>\n",
       "      <td>9.3</td>\n",
       "      <td>75.0</td>\n",
       "      <td>47.0</td>\n",
       "      <td>8.3</td>\n",
       "      <td>70.0</td>\n",
       "      <td>18.1</td>\n",
       "      <td>1</td>\n",
       "      <td>5.000000e-01</td>\n",
       "      <td>0.866025</td>\n",
       "      <td>5.161967e-02</td>\n",
       "      <td>0.998667</td>\n",
       "      <td>4.8</td>\n",
       "    </tr>\n",
       "    <tr>\n",
       "      <th>3</th>\n",
       "      <td>4</td>\n",
       "      <td>1013.4</td>\n",
       "      <td>18.1</td>\n",
       "      <td>17.8</td>\n",
       "      <td>16.9</td>\n",
       "      <td>16.8</td>\n",
       "      <td>95.0</td>\n",
       "      <td>95.0</td>\n",
       "      <td>0.0</td>\n",
       "      <td>60.0</td>\n",
       "      <td>35.6</td>\n",
       "      <td>1</td>\n",
       "      <td>5.000000e-01</td>\n",
       "      <td>0.866025</td>\n",
       "      <td>6.880243e-02</td>\n",
       "      <td>0.997630</td>\n",
       "      <td>1.2</td>\n",
       "    </tr>\n",
       "    <tr>\n",
       "      <th>4</th>\n",
       "      <td>5</td>\n",
       "      <td>1021.8</td>\n",
       "      <td>21.3</td>\n",
       "      <td>18.4</td>\n",
       "      <td>15.2</td>\n",
       "      <td>9.6</td>\n",
       "      <td>52.0</td>\n",
       "      <td>45.0</td>\n",
       "      <td>3.6</td>\n",
       "      <td>40.0</td>\n",
       "      <td>24.8</td>\n",
       "      <td>1</td>\n",
       "      <td>5.000000e-01</td>\n",
       "      <td>0.866025</td>\n",
       "      <td>8.596480e-02</td>\n",
       "      <td>0.996298</td>\n",
       "      <td>6.1</td>\n",
       "    </tr>\n",
       "    <tr>\n",
       "      <th>...</th>\n",
       "      <td>...</td>\n",
       "      <td>...</td>\n",
       "      <td>...</td>\n",
       "      <td>...</td>\n",
       "      <td>...</td>\n",
       "      <td>...</td>\n",
       "      <td>...</td>\n",
       "      <td>...</td>\n",
       "      <td>...</td>\n",
       "      <td>...</td>\n",
       "      <td>...</td>\n",
       "      <td>...</td>\n",
       "      <td>...</td>\n",
       "      <td>...</td>\n",
       "      <td>...</td>\n",
       "      <td>...</td>\n",
       "      <td>...</td>\n",
       "    </tr>\n",
       "    <tr>\n",
       "      <th>2185</th>\n",
       "      <td>361</td>\n",
       "      <td>1014.6</td>\n",
       "      <td>23.2</td>\n",
       "      <td>20.6</td>\n",
       "      <td>19.1</td>\n",
       "      <td>19.9</td>\n",
       "      <td>97.0</td>\n",
       "      <td>88.0</td>\n",
       "      <td>0.1</td>\n",
       "      <td>40.0</td>\n",
       "      <td>22.1</td>\n",
       "      <td>12</td>\n",
       "      <td>-2.449294e-16</td>\n",
       "      <td>1.000000</td>\n",
       "      <td>-6.880243e-02</td>\n",
       "      <td>0.997630</td>\n",
       "      <td>4.1</td>\n",
       "    </tr>\n",
       "    <tr>\n",
       "      <th>2186</th>\n",
       "      <td>362</td>\n",
       "      <td>1012.4</td>\n",
       "      <td>NaN</td>\n",
       "      <td>17.3</td>\n",
       "      <td>16.3</td>\n",
       "      <td>15.3</td>\n",
       "      <td>91.0</td>\n",
       "      <td>88.0</td>\n",
       "      <td>0.0</td>\n",
       "      <td>50.0</td>\n",
       "      <td>35.3</td>\n",
       "      <td>12</td>\n",
       "      <td>-2.449294e-16</td>\n",
       "      <td>1.000000</td>\n",
       "      <td>-5.161967e-02</td>\n",
       "      <td>0.998667</td>\n",
       "      <td>NaN</td>\n",
       "    </tr>\n",
       "    <tr>\n",
       "      <th>2187</th>\n",
       "      <td>363</td>\n",
       "      <td>1013.3</td>\n",
       "      <td>19.0</td>\n",
       "      <td>16.3</td>\n",
       "      <td>14.3</td>\n",
       "      <td>12.6</td>\n",
       "      <td>79.0</td>\n",
       "      <td>79.0</td>\n",
       "      <td>5.0</td>\n",
       "      <td>40.0</td>\n",
       "      <td>32.9</td>\n",
       "      <td>12</td>\n",
       "      <td>-2.449294e-16</td>\n",
       "      <td>1.000000</td>\n",
       "      <td>-3.442161e-02</td>\n",
       "      <td>0.999407</td>\n",
       "      <td>4.7</td>\n",
       "    </tr>\n",
       "    <tr>\n",
       "      <th>2188</th>\n",
       "      <td>364</td>\n",
       "      <td>1022.3</td>\n",
       "      <td>16.4</td>\n",
       "      <td>15.2</td>\n",
       "      <td>13.8</td>\n",
       "      <td>14.7</td>\n",
       "      <td>92.0</td>\n",
       "      <td>93.0</td>\n",
       "      <td>0.1</td>\n",
       "      <td>40.0</td>\n",
       "      <td>18.0</td>\n",
       "      <td>12</td>\n",
       "      <td>-2.449294e-16</td>\n",
       "      <td>1.000000</td>\n",
       "      <td>-1.721336e-02</td>\n",
       "      <td>0.999852</td>\n",
       "      <td>2.6</td>\n",
       "    </tr>\n",
       "    <tr>\n",
       "      <th>2189</th>\n",
       "      <td>365</td>\n",
       "      <td>1013.8</td>\n",
       "      <td>21.2</td>\n",
       "      <td>19.1</td>\n",
       "      <td>18.0</td>\n",
       "      <td>18.0</td>\n",
       "      <td>89.0</td>\n",
       "      <td>88.0</td>\n",
       "      <td>1.0</td>\n",
       "      <td>70.0</td>\n",
       "      <td>48.0</td>\n",
       "      <td>12</td>\n",
       "      <td>-2.449294e-16</td>\n",
       "      <td>1.000000</td>\n",
       "      <td>6.432491e-16</td>\n",
       "      <td>1.000000</td>\n",
       "      <td>3.2</td>\n",
       "    </tr>\n",
       "  </tbody>\n",
       "</table>\n",
       "<p>2190 rows × 17 columns</p>\n",
       "</div>"
      ],
      "text/plain": [
       "      day  pressure  maxtemp  temparature  mintemp  dewpoint  humidity  cloud  \\\n",
       "0       1    1017.4     21.2         20.6     19.9      19.4      87.0   88.0   \n",
       "1       2    1019.5      NaN         16.9     15.8      15.4      95.0   91.0   \n",
       "2       3    1024.1     19.4         16.1     14.6       9.3      75.0   47.0   \n",
       "3       4    1013.4     18.1         17.8     16.9      16.8      95.0   95.0   \n",
       "4       5    1021.8     21.3         18.4     15.2       9.6      52.0   45.0   \n",
       "...   ...       ...      ...          ...      ...       ...       ...    ...   \n",
       "2185  361    1014.6     23.2         20.6     19.1      19.9      97.0   88.0   \n",
       "2186  362    1012.4      NaN         17.3     16.3      15.3      91.0   88.0   \n",
       "2187  363    1013.3     19.0         16.3     14.3      12.6      79.0   79.0   \n",
       "2188  364    1022.3     16.4         15.2     13.8      14.7      92.0   93.0   \n",
       "2189  365    1013.8     21.2         19.1     18.0      18.0      89.0   88.0   \n",
       "\n",
       "      sunshine  winddirection  windspeed  month     month_sin  month_cos  \\\n",
       "0          1.1           60.0       17.2      1  5.000000e-01   0.866025   \n",
       "1          0.0           50.0       21.9      1  5.000000e-01   0.866025   \n",
       "2          8.3           70.0       18.1      1  5.000000e-01   0.866025   \n",
       "3          0.0           60.0       35.6      1  5.000000e-01   0.866025   \n",
       "4          3.6           40.0       24.8      1  5.000000e-01   0.866025   \n",
       "...        ...            ...        ...    ...           ...        ...   \n",
       "2185       0.1           40.0       22.1     12 -2.449294e-16   1.000000   \n",
       "2186       0.0           50.0       35.3     12 -2.449294e-16   1.000000   \n",
       "2187       5.0           40.0       32.9     12 -2.449294e-16   1.000000   \n",
       "2188       0.1           40.0       18.0     12 -2.449294e-16   1.000000   \n",
       "2189       1.0           70.0       48.0     12 -2.449294e-16   1.000000   \n",
       "\n",
       "           day_sin   day_cos  df_temp  \n",
       "0     1.721336e-02  0.999852      1.3  \n",
       "1     3.442161e-02  0.999407      NaN  \n",
       "2     5.161967e-02  0.998667      4.8  \n",
       "3     6.880243e-02  0.997630      1.2  \n",
       "4     8.596480e-02  0.996298      6.1  \n",
       "...            ...       ...      ...  \n",
       "2185 -6.880243e-02  0.997630      4.1  \n",
       "2186 -5.161967e-02  0.998667      NaN  \n",
       "2187 -3.442161e-02  0.999407      4.7  \n",
       "2188 -1.721336e-02  0.999852      2.6  \n",
       "2189  6.432491e-16  1.000000      3.2  \n",
       "\n",
       "[2190 rows x 17 columns]"
      ]
     },
     "execution_count": 17,
     "metadata": {},
     "output_type": "execute_result"
    }
   ],
   "source": [
    "train_x"
   ]
  },
  {
   "cell_type": "markdown",
   "metadata": {},
   "source": [
    "### 最低温度<露点温度"
   ]
  },
  {
   "cell_type": "code",
   "execution_count": 18,
   "metadata": {},
   "outputs": [
    {
     "name": "stdout",
     "output_type": "stream",
     "text": [
      "   mintemp  dewpoint  mintemp_dewpoint\n",
      "0     19.9      19.4                 0\n",
      "1     15.8      15.4                 0\n",
      "2     14.6       9.3                 0\n",
      "3     16.9      16.8                 0\n",
      "4     15.2       9.6                 0\n",
      "      day  pressure  maxtemp  temparature  mintemp  dewpoint  humidity  cloud  \\\n",
      "13     14    1012.5     13.5         12.9     11.6      11.8      87.0   92.0   \n",
      "15     16    1024.3     15.3         12.9     10.0      11.2      79.0   91.0   \n",
      "23     24    1013.0     24.8         19.9     17.1      18.1      90.0   92.0   \n",
      "24     25    1012.5     23.8         22.2     20.4      20.8      84.0   88.0   \n",
      "38     39    1023.1     20.4         17.8     14.8      15.0      75.0   43.0   \n",
      "...   ...       ...      ...          ...      ...       ...       ...    ...   \n",
      "2169  345    1016.3      NaN         16.5     15.8      16.6      91.0   83.0   \n",
      "2170  346    1024.1     19.3         18.3     17.3      18.8      77.0   84.0   \n",
      "2184  360    1015.8     20.9         18.8     17.6      17.7      78.0   88.0   \n",
      "2185  361    1014.6     23.2         20.6     19.1      19.9      97.0   88.0   \n",
      "2188  364    1022.3     16.4         15.2     13.8      14.7      92.0   93.0   \n",
      "\n",
      "      sunshine  winddirection  windspeed  month     month_sin  month_cos  \\\n",
      "13         0.0           50.0       37.0      1  5.000000e-01   0.866025   \n",
      "15         0.3           20.0       20.0      1  5.000000e-01   0.866025   \n",
      "23         0.0           70.0       30.4      1  5.000000e-01   0.866025   \n",
      "24         0.0           70.0       30.2      1  5.000000e-01   0.866025   \n",
      "38         9.2           60.0       11.9      2  8.660254e-01   0.500000   \n",
      "...        ...            ...        ...    ...           ...        ...   \n",
      "2169       0.3           50.0       29.8     12 -2.449294e-16   1.000000   \n",
      "2170       8.3           80.0       31.8     12 -2.449294e-16   1.000000   \n",
      "2184       0.0           20.0       30.6     12 -2.449294e-16   1.000000   \n",
      "2185       0.1           40.0       22.1     12 -2.449294e-16   1.000000   \n",
      "2188       0.1           40.0       18.0     12 -2.449294e-16   1.000000   \n",
      "\n",
      "       day_sin   day_cos  df_temp  mintemp_dewpoint  \n",
      "13    0.238673  0.971100      1.9                 1  \n",
      "15    0.271958  0.962309      5.3                 1  \n",
      "23    0.401488  0.915864      7.7                 1  \n",
      "24    0.417194  0.908818      3.4                 1  \n",
      "38    0.622047  0.782980      5.6                 1  \n",
      "...        ...       ...      ...               ...  \n",
      "2169 -0.337523  0.941317      NaN                 1  \n",
      "2170 -0.321270  0.946988      2.0                 1  \n",
      "2184 -0.085965  0.996298      3.3                 1  \n",
      "2185 -0.068802  0.997630      4.1                 1  \n",
      "2188 -0.017213  0.999852      2.6                 1  \n",
      "\n",
      "[261 rows x 18 columns]\n"
     ]
    }
   ],
   "source": [
    "train_x['mintemp_dewpoint'] = train_x['mintemp'] < train_x['dewpoint']\n",
    "train_x['mintemp_dewpoint'] = train_x['mintemp_dewpoint'].astype(int)\n",
    "\n",
    "test_x['mintemp_dewpoint'] = test_x['mintemp'] < test_x['dewpoint']\n",
    "test_x['mintemp_dewpoint'] = test_x['mintemp_dewpoint'].astype(int)\n",
    "\n",
    "\n",
    "# 結果を確認\n",
    "print(train_x[['mintemp','dewpoint', 'mintemp_dewpoint']].head())\n",
    "print(train_x[train_x['mintemp_dewpoint']==1])"
   ]
  },
  {
   "cell_type": "markdown",
   "metadata": {},
   "source": [
    "### 気温ー露点温度の関係"
   ]
  },
  {
   "cell_type": "code",
   "execution_count": 19,
   "metadata": {},
   "outputs": [
    {
     "name": "stdout",
     "output_type": "stream",
     "text": [
      "0       1.2\n",
      "1       1.5\n",
      "2       6.8\n",
      "3       1.0\n",
      "4       8.8\n",
      "       ... \n",
      "2185    0.7\n",
      "2186    2.0\n",
      "2187    3.7\n",
      "2188    0.5\n",
      "2189    1.1\n",
      "Name: temp_dewpoint_diff, Length: 2190, dtype: float64\n"
     ]
    }
   ],
   "source": [
    "#湿度が高いと降水の可能性が高まる\n",
    "train_x['temp_dewpoint_diff'] = train_x['temparature'] - train_x['dewpoint']\n",
    "test_x['temp_dewpoint_diff'] = test_x['temparature'] - test_x['dewpoint']\n",
    "print(train_x[\"temp_dewpoint_diff\"])"
   ]
  },
  {
   "cell_type": "markdown",
   "metadata": {},
   "source": [
    "### 湿度*気圧の関係"
   ]
  },
  {
   "cell_type": "code",
   "execution_count": 20,
   "metadata": {},
   "outputs": [
    {
     "name": "stdout",
     "output_type": "stream",
     "text": [
      "0       88513.8\n",
      "1       96852.5\n",
      "2       76807.5\n",
      "3       96273.0\n",
      "4       53133.6\n",
      "         ...   \n",
      "2185    98416.2\n",
      "2186    92128.4\n",
      "2187    80050.7\n",
      "2188    94051.6\n",
      "2189    90228.2\n",
      "Name: humidity_pressure_interaction, Length: 2190, dtype: float64\n"
     ]
    }
   ],
   "source": [
    "#高湿度と低気圧が組み合わさると、降水の確率が高まる\n",
    "train_x['humidity_pressure_interaction'] = train_x['humidity'] * train_x['pressure']\n",
    "test_x['humidity_pressure_interaction'] = test_x['humidity'] * test_x['pressure']\n",
    "print(train_x['humidity_pressure_interaction'])"
   ]
  },
  {
   "cell_type": "markdown",
   "metadata": {},
   "source": [
    "### 風速 * 風向きの関係"
   ]
  },
  {
   "cell_type": "code",
   "execution_count": 21,
   "metadata": {},
   "outputs": [
    {
     "name": "stdout",
     "output_type": "stream",
     "text": [
      "0       1032.0\n",
      "1       1095.0\n",
      "2       1267.0\n",
      "3       2136.0\n",
      "4        992.0\n",
      "         ...  \n",
      "2185     884.0\n",
      "2186    1765.0\n",
      "2187    1316.0\n",
      "2188     720.0\n",
      "2189    3360.0\n",
      "Name: wind_direction_speed, Length: 2190, dtype: float64\n"
     ]
    }
   ],
   "source": [
    "#風速が高いときに降水が発生しやすい場\n",
    "train_x['wind_direction_speed'] = train_x['winddirection'] * train_x['windspeed']\n",
    "test_x['wind_direction_speed'] = test_x['winddirection'] * test_x['windspeed']\n",
    "print(train_x['wind_direction_speed'])"
   ]
  },
  {
   "cell_type": "markdown",
   "metadata": {},
   "source": [
    "### 月と日付の周期的な特徴量"
   ]
  },
  {
   "cell_type": "code",
   "execution_count": 22,
   "metadata": {},
   "outputs": [
    {
     "name": "stdout",
     "output_type": "stream",
     "text": [
      "0       8.606678e-03\n",
      "1       1.721081e-02\n",
      "2       2.580983e-02\n",
      "3       3.440121e-02\n",
      "4       4.298240e-02\n",
      "            ...     \n",
      "2185    1.685173e-17\n",
      "2186    1.264317e-17\n",
      "2187    8.430863e-18\n",
      "2188    4.216056e-18\n",
      "2189   -1.575506e-31\n",
      "Name: month_day_interaction, Length: 2190, dtype: float64\n"
     ]
    }
   ],
   "source": [
    "#月ごとの温度差や、日ごとの温度変化を考慮した特徴量\n",
    "train_x['month_day_interaction'] = train_x['month_sin'] * train_x['day_sin']\n",
    "test_x['month_day_interaction'] = test_x['month_sin'] * test_x['day_sin']\n",
    "print(train_x['month_day_interaction'])"
   ]
  },
  {
   "cell_type": "markdown",
   "metadata": {},
   "source": [
    "### 風速*日照時間"
   ]
  },
  {
   "cell_type": "code",
   "execution_count": 23,
   "metadata": {},
   "outputs": [
    {
     "name": "stdout",
     "output_type": "stream",
     "text": [
      "0        18.92\n",
      "1         0.00\n",
      "2       150.23\n",
      "3         0.00\n",
      "4        89.28\n",
      "         ...  \n",
      "2185      2.21\n",
      "2186      0.00\n",
      "2187    164.50\n",
      "2188      1.80\n",
      "2189     48.00\n",
      "Name: windspeed_sunshine_interaction, Length: 2190, dtype: float64\n"
     ]
    }
   ],
   "source": [
    "#強い風と日照時間が長いと、乾燥した天気が続きやすい\n",
    "train_x['windspeed_sunshine_interaction'] = train_x['windspeed'] * train_x['sunshine']\n",
    "test_x['windspeed_sunshine_interaction'] = test_x['windspeed'] * test_x['sunshine']\n",
    "print(train_x['windspeed_sunshine_interaction'])"
   ]
  },
  {
   "cell_type": "markdown",
   "metadata": {},
   "source": [
    "### 気温*湿度の関係"
   ]
  },
  {
   "cell_type": "code",
   "execution_count": 24,
   "metadata": {},
   "outputs": [
    {
     "name": "stdout",
     "output_type": "stream",
     "text": [
      "0       1792.2\n",
      "1       1605.5\n",
      "2       1207.5\n",
      "3       1691.0\n",
      "4        956.8\n",
      "         ...  \n",
      "2185    1998.2\n",
      "2186    1574.3\n",
      "2187    1287.7\n",
      "2188    1398.4\n",
      "2189    1699.9\n",
      "Name: temperature_humidity_interaction, Length: 2190, dtype: float64\n"
     ]
    }
   ],
   "source": [
    "#気温と湿度が一緒に高い場合、降水の可能性が高い\n",
    "train_x['temperature_humidity_interaction'] = train_x['temparature'] * train_x['humidity']\n",
    "test_x['temperature_humidity_interaction'] = test_x['temparature'] * test_x['humidity']\n",
    "print(train_x['temperature_humidity_interaction'])"
   ]
  },
  {
   "cell_type": "markdown",
   "metadata": {},
   "source": [
    "### 気温と日照時間の関係"
   ]
  },
  {
   "cell_type": "code",
   "execution_count": 25,
   "metadata": {},
   "outputs": [
    {
     "name": "stdout",
     "output_type": "stream",
     "text": [
      "0        22.66\n",
      "1         0.00\n",
      "2       133.63\n",
      "3         0.00\n",
      "4        66.24\n",
      "         ...  \n",
      "2185      2.06\n",
      "2186      0.00\n",
      "2187     81.50\n",
      "2188      1.52\n",
      "2189     19.10\n",
      "Name: temperature_sunshine_interaction, Length: 2190, dtype: float64\n"
     ]
    }
   ],
   "source": [
    "#高い気温と長い日照時間が同時に発生すると、特定の気象条件が発生しやすい\n",
    "train_x['temperature_sunshine_interaction'] = train_x['temparature'] * train_x['sunshine']\n",
    "test_x['temperature_sunshine_interaction'] = test_x['temparature'] * test_x['sunshine']\n",
    "print(train_x['temperature_sunshine_interaction'])"
   ]
  },
  {
   "cell_type": "markdown",
   "metadata": {},
   "source": [
    "### 気温と気圧の関係"
   ]
  },
  {
   "cell_type": "code",
   "execution_count": 26,
   "metadata": {},
   "outputs": [
    {
     "name": "stdout",
     "output_type": "stream",
     "text": [
      "0       20958.44\n",
      "1       17229.55\n",
      "2       16488.01\n",
      "3       18038.52\n",
      "4       18801.12\n",
      "          ...   \n",
      "2185    20900.76\n",
      "2186    17514.52\n",
      "2187    16516.79\n",
      "2188    15538.96\n",
      "2189    19363.58\n",
      "Name: temperature_pressure_interaction, Length: 2190, dtype: float64\n"
     ]
    }
   ],
   "source": [
    "#気圧が低いときに、暖かい空気が湿った状態であることが多い場合があります。\n",
    "train_x['temperature_pressure_interaction'] = train_x['temparature'] * train_x['pressure']\n",
    "test_x['temperature_pressure_interaction'] = test_x['temparature'] * test_x['pressure']\n",
    "print(train_x['temperature_pressure_interaction'])"
   ]
  },
  {
   "cell_type": "markdown",
   "metadata": {},
   "source": [
    "### 風速と湿度の関係"
   ]
  },
  {
   "cell_type": "code",
   "execution_count": 27,
   "metadata": {},
   "outputs": [
    {
     "name": "stdout",
     "output_type": "stream",
     "text": [
      "0       1496.4\n",
      "1       2080.5\n",
      "2       1357.5\n",
      "3       3382.0\n",
      "4       1289.6\n",
      "         ...  \n",
      "2185    2143.7\n",
      "2186    3212.3\n",
      "2187    2599.1\n",
      "2188    1656.0\n",
      "2189    4272.0\n",
      "Name: windspeed_humidity_interaction, Length: 2190, dtype: float64\n"
     ]
    }
   ],
   "source": [
    "train_x['windspeed_humidity_interaction'] = train_x['windspeed'] * train_x['humidity']\n",
    "test_x['windspeed_humidity_interaction'] = test_x['windspeed'] * test_x['humidity']\n",
    "print(train_x['windspeed_humidity_interaction'])"
   ]
  },
  {
   "cell_type": "markdown",
   "metadata": {},
   "source": [
    "### 平均風速と気圧の関係"
   ]
  },
  {
   "cell_type": "code",
   "execution_count": 28,
   "metadata": {},
   "outputs": [
    {
     "name": "stdout",
     "output_type": "stream",
     "text": [
      "0       17499.28\n",
      "1       22327.05\n",
      "2       18536.21\n",
      "3       36077.04\n",
      "4       25340.64\n",
      "          ...   \n",
      "2185    22422.66\n",
      "2186    35737.72\n",
      "2187    33337.57\n",
      "2188    18401.40\n",
      "2189    48662.40\n",
      "Name: pressure_windspeed_interaction, Length: 2190, dtype: float64\n"
     ]
    }
   ],
   "source": [
    "#強い風と低気圧が降水に関連する場合\n",
    "train_x['pressure_windspeed_interaction'] = train_x['pressure'] * train_x['windspeed']\n",
    "test_x['pressure_windspeed_interaction'] = test_x['pressure'] * test_x['windspeed']\n",
    "print(train_x['pressure_windspeed_interaction'])"
   ]
  },
  {
   "cell_type": "markdown",
   "metadata": {},
   "source": [
    "### 湿度と雲量の関係"
   ]
  },
  {
   "cell_type": "code",
   "execution_count": 29,
   "metadata": {},
   "outputs": [
    {
     "name": "stdout",
     "output_type": "stream",
     "text": [
      "0       7656.0\n",
      "1       8645.0\n",
      "2       3525.0\n",
      "3       9025.0\n",
      "4       2340.0\n",
      "         ...  \n",
      "2185    8536.0\n",
      "2186    8008.0\n",
      "2187    6241.0\n",
      "2188    8556.0\n",
      "2189    7832.0\n",
      "Name: humidity_cloud_interaction, Length: 2190, dtype: float64\n"
     ]
    }
   ],
   "source": [
    "#高湿度と多くの雲が同時に存在すると、降水が発生する\n",
    "train_x['humidity_cloud_interaction'] = train_x['humidity'] * train_x['cloud']\n",
    "test_x['humidity_cloud_interaction'] = test_x['humidity'] * test_x['cloud']\n",
    "print(train_x['humidity_cloud_interaction'])"
   ]
  },
  {
   "cell_type": "markdown",
   "metadata": {},
   "source": [
    "### 湿度と露点温度の比率"
   ]
  },
  {
   "cell_type": "code",
   "execution_count": 30,
   "metadata": {},
   "outputs": [
    {
     "name": "stdout",
     "output_type": "stream",
     "text": [
      "0       4.264706\n",
      "1       5.792683\n",
      "2       7.281553\n",
      "3       5.337079\n",
      "4       4.905660\n",
      "          ...   \n",
      "2185    4.641148\n",
      "2186    5.582822\n",
      "2187    5.808824\n",
      "2188    5.859873\n",
      "2189    4.684211\n",
      "Name: humidity_dewpoint_ratio, Length: 2190, dtype: float64\n"
     ]
    }
   ],
   "source": [
    "#湿度が100%に近い場合、露点温度と気温が非常に近くなる\n",
    "train_x['humidity_dewpoint_ratio'] = train_x['humidity'] / (train_x['dewpoint'] + 1)\n",
    "test_x['humidity_dewpoint_ratio'] = test_x['humidity'] / (test_x['dewpoint'] + 1)\n",
    "print(train_x['humidity_dewpoint_ratio'])"
   ]
  },
  {
   "cell_type": "markdown",
   "metadata": {},
   "source": [
    "### 湿度と日照時間の関係"
   ]
  },
  {
   "cell_type": "code",
   "execution_count": 31,
   "metadata": {},
   "outputs": [
    {
     "name": "stdout",
     "output_type": "stream",
     "text": [
      "0        95.7\n",
      "1         0.0\n",
      "2       622.5\n",
      "3         0.0\n",
      "4       187.2\n",
      "        ...  \n",
      "2185      9.7\n",
      "2186      0.0\n",
      "2187    395.0\n",
      "2188      9.2\n",
      "2189     89.0\n",
      "Name: humidity_sunshine_interaction, Length: 2190, dtype: float64\n"
     ]
    }
   ],
   "source": [
    "train_x['humidity_sunshine_interaction'] = train_x['humidity'] * train_x['sunshine']\n",
    "test_x['humidity_sunshine_interaction'] = test_x['humidity'] * test_x['sunshine']\n",
    "print(train_x['humidity_sunshine_interaction'])"
   ]
  },
  {
   "cell_type": "markdown",
   "metadata": {},
   "source": [
    "### 気温の推移"
   ]
  },
  {
   "cell_type": "code",
   "execution_count": 32,
   "metadata": {},
   "outputs": [
    {
     "name": "stdout",
     "output_type": "stream",
     "text": [
      "0       NaN\n",
      "1      -3.7\n",
      "2      -0.8\n",
      "3       1.7\n",
      "4       0.6\n",
      "       ... \n",
      "2185    1.8\n",
      "2186   -3.3\n",
      "2187   -1.0\n",
      "2188   -1.1\n",
      "2189    3.9\n",
      "Name: temp_change, Length: 2190, dtype: float64\n"
     ]
    }
   ],
   "source": [
    "train_x['temp_change'] = train_x['temparature'] - train_x['temparature'].shift(1)\n",
    "test_x['temp_change'] = test_x['temparature'] - test_x['temparature'].shift(1)\n",
    "print(train_x['temp_change'])"
   ]
  },
  {
   "cell_type": "markdown",
   "metadata": {},
   "source": [
    "### 気圧の変化率"
   ]
  },
  {
   "cell_type": "code",
   "execution_count": 33,
   "metadata": {},
   "outputs": [],
   "source": [
    "#急激な気圧の変化は天気の変化、特に降水の発生と関係しています\n",
    "train_x['pressure_change_rate'] = train_x['pressure'] - train_x['pressure'].shift(1)\n",
    "test_x['pressure_change_rate'] = test_x['pressure'] - test_x['pressure'].shift(1)"
   ]
  },
  {
   "cell_type": "markdown",
   "metadata": {},
   "source": [
    "### 風速の変化"
   ]
  },
  {
   "cell_type": "code",
   "execution_count": 34,
   "metadata": {},
   "outputs": [],
   "source": [
    "#風速の急激な変化が天候に与える影響を捉えます\n",
    "train_x['windspeed_change'] = train_x['windspeed'] - train_x['windspeed'].shift(1)\n",
    "test_x['windspeed_change'] = test_x['windspeed'] - test_x['windspeed'].shift(1)\n"
   ]
  },
  {
   "cell_type": "markdown",
   "metadata": {},
   "source": [
    "### 気温の週単位の変化"
   ]
  },
  {
   "cell_type": "code",
   "execution_count": 35,
   "metadata": {},
   "outputs": [],
   "source": [
    "train_x['week_temperature_change'] = train_x['temparature'] - train_x['temparature'].shift(7)\n",
    "test_x['week_temperature_change'] = test_x['temparature'] - test_x['temparature'].shift(7)\n"
   ]
  },
  {
   "cell_type": "markdown",
   "metadata": {},
   "source": [
    "### 風速の極端な変化"
   ]
  },
  {
   "cell_type": "code",
   "execution_count": 36,
   "metadata": {},
   "outputs": [],
   "source": [
    "train_x['extreme_windspeed_change'] = (train_x['windspeed'] - train_x['windspeed'].shift(1)).abs() > 5\n",
    "train_x['extreme_windspeed_change'] = train_x['extreme_windspeed_change'].astype(int)\n",
    "\n",
    "test_x['extreme_windspeed_change'] = (test_x['windspeed'] - test_x['windspeed'].shift(1)).abs() > 5\n",
    "test_x['extreme_windspeed_change'] = test_x['extreme_windspeed_change'].astype(int)\n"
   ]
  },
  {
   "cell_type": "markdown",
   "metadata": {},
   "source": [
    "### 日付と降水確率"
   ]
  },
  {
   "cell_type": "code",
   "execution_count": 37,
   "metadata": {},
   "outputs": [],
   "source": [
    "train_x['day_of_week'] = train_x['day'] % 7\n",
    "test_x['day_of_week'] = test_x['day'] % 7"
   ]
  },
  {
   "cell_type": "markdown",
   "metadata": {},
   "source": [
    "### 高気圧の特徴量"
   ]
  },
  {
   "cell_type": "code",
   "execution_count": 38,
   "metadata": {},
   "outputs": [],
   "source": [
    "#高気圧が優勢な場合、晴れや穏やかな天気が多くなる\n",
    "train_x['high_pressure'] = (train_x['pressure'] > 1015)\n",
    "test_x['high_pressure'] = (test_x['pressure'] > 1015)"
   ]
  },
  {
   "cell_type": "markdown",
   "metadata": {},
   "source": [
    "### 湿度が低い場合"
   ]
  },
  {
   "cell_type": "code",
   "execution_count": 39,
   "metadata": {},
   "outputs": [],
   "source": [
    "#低いときは晴れの日が多くなる傾向があります\n",
    "train_x['low_humidity'] = (train_x['humidity'] < 50)\n",
    "test_x['low_humidity'] = (test_x['humidity'] < 50)"
   ]
  },
  {
   "cell_type": "markdown",
   "metadata": {},
   "source": [
    "### 日照時間"
   ]
  },
  {
   "cell_type": "code",
   "execution_count": 40,
   "metadata": {},
   "outputs": [],
   "source": [
    "#長時間の日照があれば、降水が起こる可能性は低い\n",
    "train_x['high_sunshine'] = ((train_x['sunshine'] > 8))\n",
    "test_x['high_sunshine'] = ((test_x['sunshine'] > 8))"
   ]
  },
  {
   "cell_type": "markdown",
   "metadata": {},
   "source": [
    "### 風速が低い場合"
   ]
  },
  {
   "cell_type": "code",
   "execution_count": 41,
   "metadata": {},
   "outputs": [],
   "source": [
    "#風速が低い場合に晴れとなる可能性が高い\n",
    "train_x['low_windspeed'] = ((train_x['windspeed'] < 5))\n",
    "test_x['low_windspeed'] = ((test_x['windspeed'] < 5))"
   ]
  },
  {
   "cell_type": "markdown",
   "metadata": {},
   "source": [
    "### 気温と露点温度の差"
   ]
  },
  {
   "cell_type": "code",
   "execution_count": 42,
   "metadata": {},
   "outputs": [],
   "source": [
    "#露点温度が気温に近いときは湿度が高く、曇りや降水が起こりやすい\n",
    "train_x['high_temp_dewpoint_diff'] = (train_x['temparature'] - train_x['dewpoint'] > 10)\n",
    "test_x['high_temp_dewpoint_diff'] = (test_x['temparature'] - test_x['dewpoint'] > 10)"
   ]
  },
  {
   "cell_type": "markdown",
   "metadata": {},
   "source": [
    "### 季節的な要素"
   ]
  },
  {
   "cell_type": "code",
   "execution_count": 43,
   "metadata": {},
   "outputs": [],
   "source": [
    "#春や夏は晴れの日が多いため、これらの月を重視する特徴量\n",
    "train_x['summer_or_spring'] = ((train_x['month'] == 6) | (train_x['month'] == 7) | (train_x['month'] == 8))\n",
    "test_x['summer_or_spring'] = ((test_x['month'] == 6) | (test_x['month'] == 7) | (test_x['month'] == 8))"
   ]
  },
  {
   "cell_type": "markdown",
   "metadata": {},
   "source": [
    "### 気圧と風速の相互作用"
   ]
  },
  {
   "cell_type": "code",
   "execution_count": 44,
   "metadata": {},
   "outputs": [],
   "source": [
    "#気圧が高く風速が低いと、晴れる可能性が高い\n",
    "train_x['high_pressure_low_windspeed'] = ((train_x['pressure'] > 1015) & (train_x['windspeed'] < 5))\n",
    "test_x['high_pressure_low_windspeed'] = ((test_x['pressure'] > 1015) & (test_x['windspeed'] < 5))"
   ]
  },
  {
   "cell_type": "markdown",
   "metadata": {},
   "source": [
    "### 日照と温度の関係"
   ]
  },
  {
   "cell_type": "code",
   "execution_count": 45,
   "metadata": {},
   "outputs": [],
   "source": [
    "#日照が長く、湿度が低いと晴れが予測されやすい\n",
    "train_x['sunshine_low_humidity'] = ((train_x['sunshine'] > 6) & (train_x['humidity'] < 60))\n",
    "test_x['sunshine_low_humidity'] = ((test_x['sunshine'] > 6) & (test_x['humidity'] < 60))\n"
   ]
  },
  {
   "cell_type": "markdown",
   "metadata": {},
   "source": [
    "### 特定の風向き"
   ]
  },
  {
   "cell_type": "code",
   "execution_count": 46,
   "metadata": {},
   "outputs": [],
   "source": [
    "#特定の風向きは晴れの日に多く見られることがあります\n",
    "train_x['stable_winddirection'] = ((train_x['winddirection'] > 160) & (train_x['winddirection'] < 200))\n",
    "test_x['stable_winddirection'] = ((test_x['winddirection'] > 160) & (test_x['winddirection'] < 200))\n"
   ]
  },
  {
   "cell_type": "markdown",
   "metadata": {},
   "source": [
    "### 日照と気温の相関"
   ]
  },
  {
   "cell_type": "code",
   "execution_count": 47,
   "metadata": {},
   "outputs": [],
   "source": [
    "#日照時間（sunshine）と気温（temparature）が高いと晴れやすい\n",
    "train_x['sunshine_high_temp'] = ((train_x['sunshine'] > 6) & (train_x['temparature'] > 25))\n",
    "test_x['sunshine_high_temp'] = ((test_x['sunshine'] > 6) & (test_x['temparature'] > 25))"
   ]
  },
  {
   "cell_type": "markdown",
   "metadata": {},
   "source": [
    "### 前日の日照時間の影響"
   ]
  },
  {
   "cell_type": "code",
   "execution_count": 48,
   "metadata": {},
   "outputs": [],
   "source": [
    "#前日に日照時間（sunshine）が長かった場合、翌日も晴れる可能性が高くなります\n",
    "train_x['prev_day_sunshine'] = (train_x['sunshine'].shift(1).fillna(0))\n",
    "test_x['prev_day_sunshine'] = (test_x['sunshine'].shift(1).fillna(0))"
   ]
  },
  {
   "cell_type": "markdown",
   "metadata": {},
   "source": [
    "### 湿度と気温の交差作用"
   ]
  },
  {
   "cell_type": "code",
   "execution_count": 49,
   "metadata": {},
   "outputs": [],
   "source": [
    "#気温が高く、湿度が低いと晴れることが多い\n",
    "train_x['low_humidity_high_temp'] = ((train_x['humidity'] < 50) & (train_x['temparature'] > 25))\n",
    "test_x['low_humidity_high_temp'] = ((test_x['humidity'] < 50) & (test_x['temparature'] > 25))"
   ]
  },
  {
   "cell_type": "code",
   "execution_count": 50,
   "metadata": {},
   "outputs": [
    {
     "data": {
      "text/html": [
       "<div>\n",
       "<style scoped>\n",
       "    .dataframe tbody tr th:only-of-type {\n",
       "        vertical-align: middle;\n",
       "    }\n",
       "\n",
       "    .dataframe tbody tr th {\n",
       "        vertical-align: top;\n",
       "    }\n",
       "\n",
       "    .dataframe thead th {\n",
       "        text-align: right;\n",
       "    }\n",
       "</style>\n",
       "<table border=\"1\" class=\"dataframe\">\n",
       "  <thead>\n",
       "    <tr style=\"text-align: right;\">\n",
       "      <th></th>\n",
       "      <th>day</th>\n",
       "      <th>pressure</th>\n",
       "      <th>maxtemp</th>\n",
       "      <th>temparature</th>\n",
       "      <th>mintemp</th>\n",
       "      <th>dewpoint</th>\n",
       "      <th>humidity</th>\n",
       "      <th>cloud</th>\n",
       "      <th>sunshine</th>\n",
       "      <th>winddirection</th>\n",
       "      <th>...</th>\n",
       "      <th>high_sunshine</th>\n",
       "      <th>low_windspeed</th>\n",
       "      <th>high_temp_dewpoint_diff</th>\n",
       "      <th>summer_or_spring</th>\n",
       "      <th>high_pressure_low_windspeed</th>\n",
       "      <th>sunshine_low_humidity</th>\n",
       "      <th>stable_winddirection</th>\n",
       "      <th>sunshine_high_temp</th>\n",
       "      <th>prev_day_sunshine</th>\n",
       "      <th>low_humidity_high_temp</th>\n",
       "    </tr>\n",
       "  </thead>\n",
       "  <tbody>\n",
       "    <tr>\n",
       "      <th>0</th>\n",
       "      <td>1</td>\n",
       "      <td>1017.4</td>\n",
       "      <td>21.2</td>\n",
       "      <td>20.6</td>\n",
       "      <td>19.9</td>\n",
       "      <td>19.4</td>\n",
       "      <td>87.0</td>\n",
       "      <td>88.0</td>\n",
       "      <td>1.1</td>\n",
       "      <td>60.0</td>\n",
       "      <td>...</td>\n",
       "      <td>False</td>\n",
       "      <td>False</td>\n",
       "      <td>False</td>\n",
       "      <td>False</td>\n",
       "      <td>False</td>\n",
       "      <td>False</td>\n",
       "      <td>False</td>\n",
       "      <td>False</td>\n",
       "      <td>0.0</td>\n",
       "      <td>False</td>\n",
       "    </tr>\n",
       "    <tr>\n",
       "      <th>1</th>\n",
       "      <td>2</td>\n",
       "      <td>1019.5</td>\n",
       "      <td>NaN</td>\n",
       "      <td>16.9</td>\n",
       "      <td>15.8</td>\n",
       "      <td>15.4</td>\n",
       "      <td>95.0</td>\n",
       "      <td>91.0</td>\n",
       "      <td>0.0</td>\n",
       "      <td>50.0</td>\n",
       "      <td>...</td>\n",
       "      <td>False</td>\n",
       "      <td>False</td>\n",
       "      <td>False</td>\n",
       "      <td>False</td>\n",
       "      <td>False</td>\n",
       "      <td>False</td>\n",
       "      <td>False</td>\n",
       "      <td>False</td>\n",
       "      <td>1.1</td>\n",
       "      <td>False</td>\n",
       "    </tr>\n",
       "    <tr>\n",
       "      <th>2</th>\n",
       "      <td>3</td>\n",
       "      <td>1024.1</td>\n",
       "      <td>19.4</td>\n",
       "      <td>16.1</td>\n",
       "      <td>14.6</td>\n",
       "      <td>9.3</td>\n",
       "      <td>75.0</td>\n",
       "      <td>47.0</td>\n",
       "      <td>8.3</td>\n",
       "      <td>70.0</td>\n",
       "      <td>...</td>\n",
       "      <td>True</td>\n",
       "      <td>False</td>\n",
       "      <td>False</td>\n",
       "      <td>False</td>\n",
       "      <td>False</td>\n",
       "      <td>False</td>\n",
       "      <td>False</td>\n",
       "      <td>False</td>\n",
       "      <td>0.0</td>\n",
       "      <td>False</td>\n",
       "    </tr>\n",
       "    <tr>\n",
       "      <th>3</th>\n",
       "      <td>4</td>\n",
       "      <td>1013.4</td>\n",
       "      <td>18.1</td>\n",
       "      <td>17.8</td>\n",
       "      <td>16.9</td>\n",
       "      <td>16.8</td>\n",
       "      <td>95.0</td>\n",
       "      <td>95.0</td>\n",
       "      <td>0.0</td>\n",
       "      <td>60.0</td>\n",
       "      <td>...</td>\n",
       "      <td>False</td>\n",
       "      <td>False</td>\n",
       "      <td>False</td>\n",
       "      <td>False</td>\n",
       "      <td>False</td>\n",
       "      <td>False</td>\n",
       "      <td>False</td>\n",
       "      <td>False</td>\n",
       "      <td>8.3</td>\n",
       "      <td>False</td>\n",
       "    </tr>\n",
       "    <tr>\n",
       "      <th>4</th>\n",
       "      <td>5</td>\n",
       "      <td>1021.8</td>\n",
       "      <td>21.3</td>\n",
       "      <td>18.4</td>\n",
       "      <td>15.2</td>\n",
       "      <td>9.6</td>\n",
       "      <td>52.0</td>\n",
       "      <td>45.0</td>\n",
       "      <td>3.6</td>\n",
       "      <td>40.0</td>\n",
       "      <td>...</td>\n",
       "      <td>False</td>\n",
       "      <td>False</td>\n",
       "      <td>False</td>\n",
       "      <td>False</td>\n",
       "      <td>False</td>\n",
       "      <td>False</td>\n",
       "      <td>False</td>\n",
       "      <td>False</td>\n",
       "      <td>0.0</td>\n",
       "      <td>False</td>\n",
       "    </tr>\n",
       "  </tbody>\n",
       "</table>\n",
       "<p>5 rows × 49 columns</p>\n",
       "</div>"
      ],
      "text/plain": [
       "   day  pressure  maxtemp  temparature  mintemp  dewpoint  humidity  cloud  \\\n",
       "0    1    1017.4     21.2         20.6     19.9      19.4      87.0   88.0   \n",
       "1    2    1019.5      NaN         16.9     15.8      15.4      95.0   91.0   \n",
       "2    3    1024.1     19.4         16.1     14.6       9.3      75.0   47.0   \n",
       "3    4    1013.4     18.1         17.8     16.9      16.8      95.0   95.0   \n",
       "4    5    1021.8     21.3         18.4     15.2       9.6      52.0   45.0   \n",
       "\n",
       "   sunshine  winddirection  ...  high_sunshine  low_windspeed  \\\n",
       "0       1.1           60.0  ...          False          False   \n",
       "1       0.0           50.0  ...          False          False   \n",
       "2       8.3           70.0  ...           True          False   \n",
       "3       0.0           60.0  ...          False          False   \n",
       "4       3.6           40.0  ...          False          False   \n",
       "\n",
       "   high_temp_dewpoint_diff  summer_or_spring  high_pressure_low_windspeed  \\\n",
       "0                    False             False                        False   \n",
       "1                    False             False                        False   \n",
       "2                    False             False                        False   \n",
       "3                    False             False                        False   \n",
       "4                    False             False                        False   \n",
       "\n",
       "   sunshine_low_humidity  stable_winddirection  sunshine_high_temp  \\\n",
       "0                  False                 False               False   \n",
       "1                  False                 False               False   \n",
       "2                  False                 False               False   \n",
       "3                  False                 False               False   \n",
       "4                  False                 False               False   \n",
       "\n",
       "   prev_day_sunshine  low_humidity_high_temp  \n",
       "0                0.0                   False  \n",
       "1                1.1                   False  \n",
       "2                0.0                   False  \n",
       "3                8.3                   False  \n",
       "4                0.0                   False  \n",
       "\n",
       "[5 rows x 49 columns]"
      ]
     },
     "execution_count": 50,
     "metadata": {},
     "output_type": "execute_result"
    }
   ],
   "source": [
    "train_x.head()"
   ]
  },
  {
   "cell_type": "code",
   "execution_count": 51,
   "metadata": {},
   "outputs": [],
   "source": [
    "import pandas as pd\n",
    "\n",
    "def convert_bool_to_int(df):\n",
    "    # bool型のカラムを選択して変換\n",
    "    bool_columns = df.select_dtypes(include=['bool']).columns\n",
    "    df[bool_columns] = df[bool_columns].astype(int)\n",
    "    return df\n",
    "\n",
    "train_x = convert_bool_to_int(train_x)\n",
    "#print(train_x)\n"
   ]
  },
  {
   "cell_type": "code",
   "execution_count": 52,
   "metadata": {},
   "outputs": [
    {
     "data": {
      "text/html": [
       "<div>\n",
       "<style scoped>\n",
       "    .dataframe tbody tr th:only-of-type {\n",
       "        vertical-align: middle;\n",
       "    }\n",
       "\n",
       "    .dataframe tbody tr th {\n",
       "        vertical-align: top;\n",
       "    }\n",
       "\n",
       "    .dataframe thead th {\n",
       "        text-align: right;\n",
       "    }\n",
       "</style>\n",
       "<table border=\"1\" class=\"dataframe\">\n",
       "  <thead>\n",
       "    <tr style=\"text-align: right;\">\n",
       "      <th></th>\n",
       "      <th>day</th>\n",
       "      <th>pressure</th>\n",
       "      <th>maxtemp</th>\n",
       "      <th>temparature</th>\n",
       "      <th>mintemp</th>\n",
       "      <th>dewpoint</th>\n",
       "      <th>humidity</th>\n",
       "      <th>cloud</th>\n",
       "      <th>sunshine</th>\n",
       "      <th>winddirection</th>\n",
       "      <th>...</th>\n",
       "      <th>high_sunshine</th>\n",
       "      <th>low_windspeed</th>\n",
       "      <th>high_temp_dewpoint_diff</th>\n",
       "      <th>summer_or_spring</th>\n",
       "      <th>high_pressure_low_windspeed</th>\n",
       "      <th>sunshine_low_humidity</th>\n",
       "      <th>stable_winddirection</th>\n",
       "      <th>sunshine_high_temp</th>\n",
       "      <th>prev_day_sunshine</th>\n",
       "      <th>low_humidity_high_temp</th>\n",
       "    </tr>\n",
       "  </thead>\n",
       "  <tbody>\n",
       "    <tr>\n",
       "      <th>0</th>\n",
       "      <td>1</td>\n",
       "      <td>1017.4</td>\n",
       "      <td>21.2</td>\n",
       "      <td>20.6</td>\n",
       "      <td>19.9</td>\n",
       "      <td>19.4</td>\n",
       "      <td>87.0</td>\n",
       "      <td>88.0</td>\n",
       "      <td>1.1</td>\n",
       "      <td>60.0</td>\n",
       "      <td>...</td>\n",
       "      <td>0</td>\n",
       "      <td>0</td>\n",
       "      <td>0</td>\n",
       "      <td>0</td>\n",
       "      <td>0</td>\n",
       "      <td>0</td>\n",
       "      <td>0</td>\n",
       "      <td>0</td>\n",
       "      <td>0.0</td>\n",
       "      <td>0</td>\n",
       "    </tr>\n",
       "    <tr>\n",
       "      <th>1</th>\n",
       "      <td>2</td>\n",
       "      <td>1019.5</td>\n",
       "      <td>NaN</td>\n",
       "      <td>16.9</td>\n",
       "      <td>15.8</td>\n",
       "      <td>15.4</td>\n",
       "      <td>95.0</td>\n",
       "      <td>91.0</td>\n",
       "      <td>0.0</td>\n",
       "      <td>50.0</td>\n",
       "      <td>...</td>\n",
       "      <td>0</td>\n",
       "      <td>0</td>\n",
       "      <td>0</td>\n",
       "      <td>0</td>\n",
       "      <td>0</td>\n",
       "      <td>0</td>\n",
       "      <td>0</td>\n",
       "      <td>0</td>\n",
       "      <td>1.1</td>\n",
       "      <td>0</td>\n",
       "    </tr>\n",
       "    <tr>\n",
       "      <th>2</th>\n",
       "      <td>3</td>\n",
       "      <td>1024.1</td>\n",
       "      <td>19.4</td>\n",
       "      <td>16.1</td>\n",
       "      <td>14.6</td>\n",
       "      <td>9.3</td>\n",
       "      <td>75.0</td>\n",
       "      <td>47.0</td>\n",
       "      <td>8.3</td>\n",
       "      <td>70.0</td>\n",
       "      <td>...</td>\n",
       "      <td>1</td>\n",
       "      <td>0</td>\n",
       "      <td>0</td>\n",
       "      <td>0</td>\n",
       "      <td>0</td>\n",
       "      <td>0</td>\n",
       "      <td>0</td>\n",
       "      <td>0</td>\n",
       "      <td>0.0</td>\n",
       "      <td>0</td>\n",
       "    </tr>\n",
       "    <tr>\n",
       "      <th>3</th>\n",
       "      <td>4</td>\n",
       "      <td>1013.4</td>\n",
       "      <td>18.1</td>\n",
       "      <td>17.8</td>\n",
       "      <td>16.9</td>\n",
       "      <td>16.8</td>\n",
       "      <td>95.0</td>\n",
       "      <td>95.0</td>\n",
       "      <td>0.0</td>\n",
       "      <td>60.0</td>\n",
       "      <td>...</td>\n",
       "      <td>0</td>\n",
       "      <td>0</td>\n",
       "      <td>0</td>\n",
       "      <td>0</td>\n",
       "      <td>0</td>\n",
       "      <td>0</td>\n",
       "      <td>0</td>\n",
       "      <td>0</td>\n",
       "      <td>8.3</td>\n",
       "      <td>0</td>\n",
       "    </tr>\n",
       "    <tr>\n",
       "      <th>4</th>\n",
       "      <td>5</td>\n",
       "      <td>1021.8</td>\n",
       "      <td>21.3</td>\n",
       "      <td>18.4</td>\n",
       "      <td>15.2</td>\n",
       "      <td>9.6</td>\n",
       "      <td>52.0</td>\n",
       "      <td>45.0</td>\n",
       "      <td>3.6</td>\n",
       "      <td>40.0</td>\n",
       "      <td>...</td>\n",
       "      <td>0</td>\n",
       "      <td>0</td>\n",
       "      <td>0</td>\n",
       "      <td>0</td>\n",
       "      <td>0</td>\n",
       "      <td>0</td>\n",
       "      <td>0</td>\n",
       "      <td>0</td>\n",
       "      <td>0.0</td>\n",
       "      <td>0</td>\n",
       "    </tr>\n",
       "    <tr>\n",
       "      <th>...</th>\n",
       "      <td>...</td>\n",
       "      <td>...</td>\n",
       "      <td>...</td>\n",
       "      <td>...</td>\n",
       "      <td>...</td>\n",
       "      <td>...</td>\n",
       "      <td>...</td>\n",
       "      <td>...</td>\n",
       "      <td>...</td>\n",
       "      <td>...</td>\n",
       "      <td>...</td>\n",
       "      <td>...</td>\n",
       "      <td>...</td>\n",
       "      <td>...</td>\n",
       "      <td>...</td>\n",
       "      <td>...</td>\n",
       "      <td>...</td>\n",
       "      <td>...</td>\n",
       "      <td>...</td>\n",
       "      <td>...</td>\n",
       "      <td>...</td>\n",
       "    </tr>\n",
       "    <tr>\n",
       "      <th>2185</th>\n",
       "      <td>361</td>\n",
       "      <td>1014.6</td>\n",
       "      <td>23.2</td>\n",
       "      <td>20.6</td>\n",
       "      <td>19.1</td>\n",
       "      <td>19.9</td>\n",
       "      <td>97.0</td>\n",
       "      <td>88.0</td>\n",
       "      <td>0.1</td>\n",
       "      <td>40.0</td>\n",
       "      <td>...</td>\n",
       "      <td>0</td>\n",
       "      <td>0</td>\n",
       "      <td>0</td>\n",
       "      <td>0</td>\n",
       "      <td>0</td>\n",
       "      <td>0</td>\n",
       "      <td>0</td>\n",
       "      <td>0</td>\n",
       "      <td>0.0</td>\n",
       "      <td>0</td>\n",
       "    </tr>\n",
       "    <tr>\n",
       "      <th>2186</th>\n",
       "      <td>362</td>\n",
       "      <td>1012.4</td>\n",
       "      <td>NaN</td>\n",
       "      <td>17.3</td>\n",
       "      <td>16.3</td>\n",
       "      <td>15.3</td>\n",
       "      <td>91.0</td>\n",
       "      <td>88.0</td>\n",
       "      <td>0.0</td>\n",
       "      <td>50.0</td>\n",
       "      <td>...</td>\n",
       "      <td>0</td>\n",
       "      <td>0</td>\n",
       "      <td>0</td>\n",
       "      <td>0</td>\n",
       "      <td>0</td>\n",
       "      <td>0</td>\n",
       "      <td>0</td>\n",
       "      <td>0</td>\n",
       "      <td>0.1</td>\n",
       "      <td>0</td>\n",
       "    </tr>\n",
       "    <tr>\n",
       "      <th>2187</th>\n",
       "      <td>363</td>\n",
       "      <td>1013.3</td>\n",
       "      <td>19.0</td>\n",
       "      <td>16.3</td>\n",
       "      <td>14.3</td>\n",
       "      <td>12.6</td>\n",
       "      <td>79.0</td>\n",
       "      <td>79.0</td>\n",
       "      <td>5.0</td>\n",
       "      <td>40.0</td>\n",
       "      <td>...</td>\n",
       "      <td>0</td>\n",
       "      <td>0</td>\n",
       "      <td>0</td>\n",
       "      <td>0</td>\n",
       "      <td>0</td>\n",
       "      <td>0</td>\n",
       "      <td>0</td>\n",
       "      <td>0</td>\n",
       "      <td>0.0</td>\n",
       "      <td>0</td>\n",
       "    </tr>\n",
       "    <tr>\n",
       "      <th>2188</th>\n",
       "      <td>364</td>\n",
       "      <td>1022.3</td>\n",
       "      <td>16.4</td>\n",
       "      <td>15.2</td>\n",
       "      <td>13.8</td>\n",
       "      <td>14.7</td>\n",
       "      <td>92.0</td>\n",
       "      <td>93.0</td>\n",
       "      <td>0.1</td>\n",
       "      <td>40.0</td>\n",
       "      <td>...</td>\n",
       "      <td>0</td>\n",
       "      <td>0</td>\n",
       "      <td>0</td>\n",
       "      <td>0</td>\n",
       "      <td>0</td>\n",
       "      <td>0</td>\n",
       "      <td>0</td>\n",
       "      <td>0</td>\n",
       "      <td>5.0</td>\n",
       "      <td>0</td>\n",
       "    </tr>\n",
       "    <tr>\n",
       "      <th>2189</th>\n",
       "      <td>365</td>\n",
       "      <td>1013.8</td>\n",
       "      <td>21.2</td>\n",
       "      <td>19.1</td>\n",
       "      <td>18.0</td>\n",
       "      <td>18.0</td>\n",
       "      <td>89.0</td>\n",
       "      <td>88.0</td>\n",
       "      <td>1.0</td>\n",
       "      <td>70.0</td>\n",
       "      <td>...</td>\n",
       "      <td>0</td>\n",
       "      <td>0</td>\n",
       "      <td>0</td>\n",
       "      <td>0</td>\n",
       "      <td>0</td>\n",
       "      <td>0</td>\n",
       "      <td>0</td>\n",
       "      <td>0</td>\n",
       "      <td>0.1</td>\n",
       "      <td>0</td>\n",
       "    </tr>\n",
       "  </tbody>\n",
       "</table>\n",
       "<p>2190 rows × 49 columns</p>\n",
       "</div>"
      ],
      "text/plain": [
       "      day  pressure  maxtemp  temparature  mintemp  dewpoint  humidity  cloud  \\\n",
       "0       1    1017.4     21.2         20.6     19.9      19.4      87.0   88.0   \n",
       "1       2    1019.5      NaN         16.9     15.8      15.4      95.0   91.0   \n",
       "2       3    1024.1     19.4         16.1     14.6       9.3      75.0   47.0   \n",
       "3       4    1013.4     18.1         17.8     16.9      16.8      95.0   95.0   \n",
       "4       5    1021.8     21.3         18.4     15.2       9.6      52.0   45.0   \n",
       "...   ...       ...      ...          ...      ...       ...       ...    ...   \n",
       "2185  361    1014.6     23.2         20.6     19.1      19.9      97.0   88.0   \n",
       "2186  362    1012.4      NaN         17.3     16.3      15.3      91.0   88.0   \n",
       "2187  363    1013.3     19.0         16.3     14.3      12.6      79.0   79.0   \n",
       "2188  364    1022.3     16.4         15.2     13.8      14.7      92.0   93.0   \n",
       "2189  365    1013.8     21.2         19.1     18.0      18.0      89.0   88.0   \n",
       "\n",
       "      sunshine  winddirection  ...  high_sunshine  low_windspeed  \\\n",
       "0          1.1           60.0  ...              0              0   \n",
       "1          0.0           50.0  ...              0              0   \n",
       "2          8.3           70.0  ...              1              0   \n",
       "3          0.0           60.0  ...              0              0   \n",
       "4          3.6           40.0  ...              0              0   \n",
       "...        ...            ...  ...            ...            ...   \n",
       "2185       0.1           40.0  ...              0              0   \n",
       "2186       0.0           50.0  ...              0              0   \n",
       "2187       5.0           40.0  ...              0              0   \n",
       "2188       0.1           40.0  ...              0              0   \n",
       "2189       1.0           70.0  ...              0              0   \n",
       "\n",
       "      high_temp_dewpoint_diff  summer_or_spring  high_pressure_low_windspeed  \\\n",
       "0                           0                 0                            0   \n",
       "1                           0                 0                            0   \n",
       "2                           0                 0                            0   \n",
       "3                           0                 0                            0   \n",
       "4                           0                 0                            0   \n",
       "...                       ...               ...                          ...   \n",
       "2185                        0                 0                            0   \n",
       "2186                        0                 0                            0   \n",
       "2187                        0                 0                            0   \n",
       "2188                        0                 0                            0   \n",
       "2189                        0                 0                            0   \n",
       "\n",
       "      sunshine_low_humidity  stable_winddirection  sunshine_high_temp  \\\n",
       "0                         0                     0                   0   \n",
       "1                         0                     0                   0   \n",
       "2                         0                     0                   0   \n",
       "3                         0                     0                   0   \n",
       "4                         0                     0                   0   \n",
       "...                     ...                   ...                 ...   \n",
       "2185                      0                     0                   0   \n",
       "2186                      0                     0                   0   \n",
       "2187                      0                     0                   0   \n",
       "2188                      0                     0                   0   \n",
       "2189                      0                     0                   0   \n",
       "\n",
       "      prev_day_sunshine  low_humidity_high_temp  \n",
       "0                   0.0                       0  \n",
       "1                   1.1                       0  \n",
       "2                   0.0                       0  \n",
       "3                   8.3                       0  \n",
       "4                   0.0                       0  \n",
       "...                 ...                     ...  \n",
       "2185                0.0                       0  \n",
       "2186                0.1                       0  \n",
       "2187                0.0                       0  \n",
       "2188                5.0                       0  \n",
       "2189                0.1                       0  \n",
       "\n",
       "[2190 rows x 49 columns]"
      ]
     },
     "execution_count": 52,
     "metadata": {},
     "output_type": "execute_result"
    }
   ],
   "source": [
    "train_x"
   ]
  },
  {
   "cell_type": "code",
   "execution_count": 53,
   "metadata": {},
   "outputs": [],
   "source": [
    "#変数を削除する\n",
    "#train_x = train_x.drop(['day'],axis=1)\n",
    "#test_x = test_x.drop(['day'],axis=1)"
   ]
  },
  {
   "cell_type": "code",
   "execution_count": 54,
   "metadata": {},
   "outputs": [
    {
     "name": "stdout",
     "output_type": "stream",
     "text": [
      "day                                   int64\n",
      "pressure                            float64\n",
      "maxtemp                             float64\n",
      "temparature                         float64\n",
      "mintemp                             float64\n",
      "dewpoint                            float64\n",
      "humidity                            float64\n",
      "cloud                               float64\n",
      "sunshine                            float64\n",
      "winddirection                       float64\n",
      "windspeed                           float64\n",
      "month                                 int32\n",
      "month_sin                           float64\n",
      "month_cos                           float64\n",
      "day_sin                             float64\n",
      "day_cos                             float64\n",
      "df_temp                             float64\n",
      "mintemp_dewpoint                      int64\n",
      "temp_dewpoint_diff                  float64\n",
      "humidity_pressure_interaction       float64\n",
      "wind_direction_speed                float64\n",
      "month_day_interaction               float64\n",
      "windspeed_sunshine_interaction      float64\n",
      "temperature_humidity_interaction    float64\n",
      "temperature_sunshine_interaction    float64\n",
      "temperature_pressure_interaction    float64\n",
      "windspeed_humidity_interaction      float64\n",
      "pressure_windspeed_interaction      float64\n",
      "humidity_cloud_interaction          float64\n",
      "humidity_dewpoint_ratio             float64\n",
      "humidity_sunshine_interaction       float64\n",
      "temp_change                         float64\n",
      "pressure_change_rate                float64\n",
      "windspeed_change                    float64\n",
      "week_temperature_change             float64\n",
      "extreme_windspeed_change              int64\n",
      "day_of_week                           int64\n",
      "high_pressure                         int64\n",
      "low_humidity                          int64\n",
      "high_sunshine                         int64\n",
      "low_windspeed                         int64\n",
      "high_temp_dewpoint_diff               int64\n",
      "summer_or_spring                      int64\n",
      "high_pressure_low_windspeed           int64\n",
      "sunshine_low_humidity                 int64\n",
      "stable_winddirection                  int64\n",
      "sunshine_high_temp                    int64\n",
      "prev_day_sunshine                   float64\n",
      "low_humidity_high_temp                int64\n",
      "dtype: object\n"
     ]
    }
   ],
   "source": [
    "# train_xの各列のデータ型を確認\n",
    "print(train_x.dtypes)\n",
    "\n",
    "# 数値に変換できない列を適切に処理\n",
    "# 例えば、カテゴリカルな列をOneHotエンコーディングするなど\n",
    "train_x = pd.get_dummies(train_x, drop_first=True)  # カテゴリカル変数をダミー変数に変換\n"
   ]
  },
  {
   "cell_type": "code",
   "execution_count": 55,
   "metadata": {},
   "outputs": [
    {
     "name": "stdout",
     "output_type": "stream",
     "text": [
      "同じ内容の特徴量: []\n"
     ]
    }
   ],
   "source": [
    "# 特徴量同士の内容が一致するかを比較\n",
    "duplicates = []\n",
    "for col1 in train_x.columns:\n",
    "    for col2 in train_x.columns:\n",
    "        if col1 != col2 and col1 not in duplicates and col2 not in duplicates:\n",
    "            if train_x[col1].equals(train_x[col2]):\n",
    "                duplicates.append(col1)\n",
    "                duplicates.append(col2)\n",
    "\n",
    "print(\"同じ内容の特徴量:\", duplicates)\n"
   ]
  },
  {
   "cell_type": "code",
   "execution_count": 56,
   "metadata": {},
   "outputs": [
    {
     "name": "stderr",
     "output_type": "stream",
     "text": [
      "/opt/homebrew/var/pyenv/versions/3.12.6/lib/python3.12/site-packages/tqdm/auto.py:21: TqdmWarning: IProgress not found. Please update jupyter and ipywidgets. See https://ipywidgets.readthedocs.io/en/stable/user_install.html\n",
      "  from .autonotebook import tqdm as notebook_tqdm\n",
      "[I 2025-03-04 06:39:16,798] A new study created in memory with name: no-name-12a90810-3ee2-4bcf-814a-8869a326834b\n",
      "/opt/homebrew/var/pyenv/versions/3.12.6/lib/python3.12/site-packages/xgboost/core.py:158: UserWarning: [06:39:17] WARNING: /Users/runner/work/xgboost/xgboost/src/learner.cc:740: \n",
      "Parameters: { \"use_label_encoder\" } are not used.\n",
      "\n",
      "  warnings.warn(smsg, UserWarning)\n",
      "/opt/homebrew/var/pyenv/versions/3.12.6/lib/python3.12/site-packages/xgboost/core.py:158: UserWarning: [06:39:17] WARNING: /Users/runner/work/xgboost/xgboost/src/learner.cc:740: \n",
      "Parameters: { \"use_label_encoder\" } are not used.\n",
      "\n",
      "  warnings.warn(smsg, UserWarning)\n",
      "/opt/homebrew/var/pyenv/versions/3.12.6/lib/python3.12/site-packages/xgboost/core.py:158: UserWarning: [06:39:17] WARNING: /Users/runner/work/xgboost/xgboost/src/learner.cc:740: \n",
      "Parameters: { \"use_label_encoder\" } are not used.\n",
      "\n",
      "  warnings.warn(smsg, UserWarning)\n",
      "/opt/homebrew/var/pyenv/versions/3.12.6/lib/python3.12/site-packages/xgboost/core.py:158: UserWarning: [06:39:17] WARNING: /Users/runner/work/xgboost/xgboost/src/learner.cc:740: \n",
      "Parameters: { \"use_label_encoder\" } are not used.\n",
      "\n",
      "  warnings.warn(smsg, UserWarning)\n",
      "/opt/homebrew/var/pyenv/versions/3.12.6/lib/python3.12/site-packages/xgboost/core.py:158: UserWarning: [06:39:17] WARNING: /Users/runner/work/xgboost/xgboost/src/learner.cc:740: \n",
      "Parameters: { \"use_label_encoder\" } are not used.\n",
      "\n",
      "  warnings.warn(smsg, UserWarning)\n"
     ]
    },
    {
     "name": "stderr",
     "output_type": "stream",
     "text": [
      "[I 2025-03-04 06:39:17,851] Trial 0 finished with value: 0.35105041197226355 and parameters: {'max_depth': 10, 'min_child_weight': 1, 'learning_rate': 0.3226736465458004, 'subsample': 0.8403062371081123, 'colsample_bytree': 0.9651637899150598, 'n_estimators': 1927, 'gamma': 1.4528643835175448, 'reg_alpha': 15.367021083993107, 'reg_lambda': 4.282845092601475}. Best is trial 0 with value: 0.35105041197226355.\n",
      "/opt/homebrew/var/pyenv/versions/3.12.6/lib/python3.12/site-packages/xgboost/core.py:158: UserWarning: [06:39:17] WARNING: /Users/runner/work/xgboost/xgboost/src/learner.cc:740: \n",
      "Parameters: { \"use_label_encoder\" } are not used.\n",
      "\n",
      "  warnings.warn(smsg, UserWarning)\n",
      "/opt/homebrew/var/pyenv/versions/3.12.6/lib/python3.12/site-packages/xgboost/core.py:158: UserWarning: [06:39:17] WARNING: /Users/runner/work/xgboost/xgboost/src/learner.cc:740: \n",
      "Parameters: { \"use_label_encoder\" } are not used.\n",
      "\n",
      "  warnings.warn(smsg, UserWarning)\n",
      "/opt/homebrew/var/pyenv/versions/3.12.6/lib/python3.12/site-packages/xgboost/core.py:158: UserWarning: [06:39:17] WARNING: /Users/runner/work/xgboost/xgboost/src/learner.cc:740: \n",
      "Parameters: { \"use_label_encoder\" } are not used.\n",
      "\n",
      "  warnings.warn(smsg, UserWarning)\n",
      "/opt/homebrew/var/pyenv/versions/3.12.6/lib/python3.12/site-packages/xgboost/core.py:158: UserWarning: [06:39:18] WARNING: /Users/runner/work/xgboost/xgboost/src/learner.cc:740: \n",
      "Parameters: { \"use_label_encoder\" } are not used.\n",
      "\n",
      "  warnings.warn(smsg, UserWarning)\n",
      "/opt/homebrew/var/pyenv/versions/3.12.6/lib/python3.12/site-packages/xgboost/core.py:158: UserWarning: [06:39:18] WARNING: /Users/runner/work/xgboost/xgboost/src/learner.cc:740: \n",
      "Parameters: { \"use_label_encoder\" } are not used.\n",
      "\n",
      "  warnings.warn(smsg, UserWarning)\n",
      "[I 2025-03-04 06:39:18,399] Trial 1 finished with value: 0.34686369771654807 and parameters: {'max_depth': 15, 'min_child_weight': 5, 'learning_rate': 0.029971245786056717, 'subsample': 0.6534625596564385, 'colsample_bytree': 0.4663160977867879, 'n_estimators': 1100, 'gamma': 8.067912385313132, 'reg_alpha': 6.756134020747422, 'reg_lambda': 0.2942205523725683}. Best is trial 1 with value: 0.34686369771654807.\n",
      "/opt/homebrew/var/pyenv/versions/3.12.6/lib/python3.12/site-packages/xgboost/core.py:158: UserWarning: [06:39:18] WARNING: /Users/runner/work/xgboost/xgboost/src/learner.cc:740: \n",
      "Parameters: { \"use_label_encoder\" } are not used.\n",
      "\n",
      "  warnings.warn(smsg, UserWarning)\n",
      "/opt/homebrew/var/pyenv/versions/3.12.6/lib/python3.12/site-packages/xgboost/core.py:158: UserWarning: [06:39:18] WARNING: /Users/runner/work/xgboost/xgboost/src/learner.cc:740: \n",
      "Parameters: { \"use_label_encoder\" } are not used.\n",
      "\n",
      "  warnings.warn(smsg, UserWarning)\n",
      "/opt/homebrew/var/pyenv/versions/3.12.6/lib/python3.12/site-packages/xgboost/core.py:158: UserWarning: [06:39:18] WARNING: /Users/runner/work/xgboost/xgboost/src/learner.cc:740: \n",
      "Parameters: { \"use_label_encoder\" } are not used.\n",
      "\n",
      "  warnings.warn(smsg, UserWarning)\n",
      "/opt/homebrew/var/pyenv/versions/3.12.6/lib/python3.12/site-packages/xgboost/core.py:158: UserWarning: [06:39:18] WARNING: /Users/runner/work/xgboost/xgboost/src/learner.cc:740: \n",
      "Parameters: { \"use_label_encoder\" } are not used.\n",
      "\n",
      "  warnings.warn(smsg, UserWarning)\n",
      "/opt/homebrew/var/pyenv/versions/3.12.6/lib/python3.12/site-packages/xgboost/core.py:158: UserWarning: [06:39:18] WARNING: /Users/runner/work/xgboost/xgboost/src/learner.cc:740: \n",
      "Parameters: { \"use_label_encoder\" } are not used.\n",
      "\n",
      "  warnings.warn(smsg, UserWarning)\n",
      "[I 2025-03-04 06:39:18,868] Trial 2 finished with value: 0.3713825712601576 and parameters: {'max_depth': 11, 'min_child_weight': 11, 'learning_rate': 0.018566000072136834, 'subsample': 0.37438122796521317, 'colsample_bytree': 0.5916411617217548, 'n_estimators': 763, 'gamma': 17.464000552225542, 'reg_alpha': 5.501982960141234, 'reg_lambda': 15.22955311257056}. Best is trial 1 with value: 0.34686369771654807.\n",
      "/opt/homebrew/var/pyenv/versions/3.12.6/lib/python3.12/site-packages/xgboost/core.py:158: UserWarning: [06:39:18] WARNING: /Users/runner/work/xgboost/xgboost/src/learner.cc:740: \n",
      "Parameters: { \"use_label_encoder\" } are not used.\n",
      "\n",
      "  warnings.warn(smsg, UserWarning)\n",
      "/opt/homebrew/var/pyenv/versions/3.12.6/lib/python3.12/site-packages/xgboost/core.py:158: UserWarning: [06:39:18] WARNING: /Users/runner/work/xgboost/xgboost/src/learner.cc:740: \n",
      "Parameters: { \"use_label_encoder\" } are not used.\n",
      "\n",
      "  warnings.warn(smsg, UserWarning)\n",
      "/opt/homebrew/var/pyenv/versions/3.12.6/lib/python3.12/site-packages/xgboost/core.py:158: UserWarning: [06:39:18] WARNING: /Users/runner/work/xgboost/xgboost/src/learner.cc:740: \n",
      "Parameters: { \"use_label_encoder\" } are not used.\n",
      "\n",
      "  warnings.warn(smsg, UserWarning)\n",
      "/opt/homebrew/var/pyenv/versions/3.12.6/lib/python3.12/site-packages/xgboost/core.py:158: UserWarning: [06:39:19] WARNING: /Users/runner/work/xgboost/xgboost/src/learner.cc:740: \n",
      "Parameters: { \"use_label_encoder\" } are not used.\n",
      "\n",
      "  warnings.warn(smsg, UserWarning)\n",
      "/opt/homebrew/var/pyenv/versions/3.12.6/lib/python3.12/site-packages/xgboost/core.py:158: UserWarning: [06:39:19] WARNING: /Users/runner/work/xgboost/xgboost/src/learner.cc:740: \n",
      "Parameters: { \"use_label_encoder\" } are not used.\n",
      "\n",
      "  warnings.warn(smsg, UserWarning)\n",
      "[I 2025-03-04 06:39:19,290] Trial 3 finished with value: 0.360635417841784 and parameters: {'max_depth': 15, 'min_child_weight': 8, 'learning_rate': 0.06300507409966788, 'subsample': 0.7110415619701012, 'colsample_bytree': 0.6454127846405658, 'n_estimators': 394, 'gamma': 19.274906741859834, 'reg_alpha': 6.383338500286655, 'reg_lambda': 7.562757337924491}. Best is trial 1 with value: 0.34686369771654807.\n",
      "/opt/homebrew/var/pyenv/versions/3.12.6/lib/python3.12/site-packages/xgboost/core.py:158: UserWarning: [06:39:19] WARNING: /Users/runner/work/xgboost/xgboost/src/learner.cc:740: \n",
      "Parameters: { \"use_label_encoder\" } are not used.\n",
      "\n",
      "  warnings.warn(smsg, UserWarning)\n",
      "/opt/homebrew/var/pyenv/versions/3.12.6/lib/python3.12/site-packages/xgboost/core.py:158: UserWarning: [06:39:19] WARNING: /Users/runner/work/xgboost/xgboost/src/learner.cc:740: \n",
      "Parameters: { \"use_label_encoder\" } are not used.\n",
      "\n",
      "  warnings.warn(smsg, UserWarning)\n",
      "/opt/homebrew/var/pyenv/versions/3.12.6/lib/python3.12/site-packages/xgboost/core.py:158: UserWarning: [06:39:19] WARNING: /Users/runner/work/xgboost/xgboost/src/learner.cc:740: \n",
      "Parameters: { \"use_label_encoder\" } are not used.\n",
      "\n",
      "  warnings.warn(smsg, UserWarning)\n",
      "/opt/homebrew/var/pyenv/versions/3.12.6/lib/python3.12/site-packages/xgboost/core.py:158: UserWarning: [06:39:19] WARNING: /Users/runner/work/xgboost/xgboost/src/learner.cc:740: \n",
      "Parameters: { \"use_label_encoder\" } are not used.\n",
      "\n",
      "  warnings.warn(smsg, UserWarning)\n",
      "/opt/homebrew/var/pyenv/versions/3.12.6/lib/python3.12/site-packages/xgboost/core.py:158: UserWarning: [06:39:19] WARNING: /Users/runner/work/xgboost/xgboost/src/learner.cc:740: \n",
      "Parameters: { \"use_label_encoder\" } are not used.\n",
      "\n",
      "  warnings.warn(smsg, UserWarning)\n",
      "[I 2025-03-04 06:39:19,876] Trial 4 finished with value: 0.3680163460331128 and parameters: {'max_depth': 8, 'min_child_weight': 14, 'learning_rate': 0.3326802715984538, 'subsample': 0.6478537705993371, 'colsample_bytree': 0.940612506734835, 'n_estimators': 1580, 'gamma': 14.801679692524143, 'reg_alpha': 17.130059950665977, 'reg_lambda': 3.9476248984732454}. Best is trial 1 with value: 0.34686369771654807.\n"
     ]
    },
    {
     "name": "stdout",
     "output_type": "stream",
     "text": [
      "最適なパラメータ: {'max_depth': 15, 'min_child_weight': 5, 'learning_rate': 0.029971245786056717, 'subsample': 0.6534625596564385, 'colsample_bytree': 0.4663160977867879, 'n_estimators': 1100, 'gamma': 8.067912385313132, 'reg_alpha': 6.756134020747422, 'reg_lambda': 0.2942205523725683}\n"
     ]
    }
   ],
   "source": [
    "#\"\"\"\n",
    "import optuna\n",
    "import numpy as np\n",
    "import xgboost as xgb\n",
    "from sklearn.model_selection import train_test_split, cross_val_score\n",
    "from sklearn.metrics import log_loss\n",
    "\n",
    "# ランダムシードを設定\n",
    "np.random.seed(71)  # NumPyの乱数シード\n",
    "import random\n",
    "random.seed(71)  # Pythonのランダムシード\n",
    "\n",
    "# 目的関数（評価指標: log_loss）\n",
    "def objective(trial):\n",
    "    params = {\n",
    "        'max_depth': trial.suggest_int('max_depth', 2, 15),\n",
    "        'min_child_weight': trial.suggest_int('min_child_weight', 1, 20),\n",
    "        'learning_rate': trial.suggest_float('learning_rate', 0.001, 0.5),\n",
    "        'subsample': trial.suggest_float('subsample', 0.3, 1.0),\n",
    "        'colsample_bytree': trial.suggest_float('colsample_bytree', 0.3, 1.0),\n",
    "        'n_estimators': trial.suggest_int('n_estimators', 50, 2000),\n",
    "        'gamma': trial.suggest_float('gamma', 0, 20),\n",
    "        'reg_alpha': trial.suggest_float('reg_alpha', 0, 20),\n",
    "        'reg_lambda': trial.suggest_float('reg_lambda', 0, 20),\n",
    "        'random_state': 71,\n",
    "        'use_label_encoder': False,\n",
    "        'eval_metric': 'logloss'\n",
    "    }\n",
    "\n",
    "    # モデルの定義\n",
    "    model = xgb.XGBClassifier(**params, n_jobs=-1)\n",
    "\n",
    "    # 5分割クロスバリデーションで評価\n",
    "    score = cross_val_score(model, train_x, train_y, scoring='neg_log_loss', cv=5, n_jobs=-1)\n",
    "    \n",
    "    return -1.0 * np.mean(score)  # log_loss は小さい方が良いので符号を反転\n",
    "\n",
    "# Optuna でベイズ最適化\n",
    "study = optuna.create_study(direction='minimize')\n",
    "study.optimize(objective, n_trials=5)  # 試行回数を500に増加\n",
    "\n",
    "# 最適なパラメータ\n",
    "best_params = study.best_params\n",
    "print(f'最適なパラメータ: {best_params}')\n",
    "#\"\"\""
   ]
  },
  {
   "cell_type": "code",
   "execution_count": 57,
   "metadata": {},
   "outputs": [
    {
     "name": "stdout",
     "output_type": "stream",
     "text": [
      "Test Log Loss: 0.3285\n",
      "Test Accuracy: 0.8731\n",
      "Test Precision: 0.8693\n",
      "Test Recall: 0.8731\n",
      "Test F1 Score: 0.8702\n",
      "Confusion Matrix:\n",
      "[[ 368  172]\n",
      " [ 106 1544]]\n"
     ]
    }
   ],
   "source": [
    "#\"\"\"\n",
    "from sklearn.metrics import accuracy_score, log_loss, precision_score, recall_score, f1_score, confusion_matrix\n",
    "\n",
    "# モデルの作成と学習\n",
    "model = xgb.XGBClassifier(**best_params, n_jobs=-1)\n",
    "model.fit(train_x, train_y)\n",
    "\n",
    "# テストデータで評価\n",
    "y_pred_prob = model.predict_proba(train_x)  # 確率予測\n",
    "logloss = log_loss(train_y, y_pred_prob)  # log_lossを計算\n",
    "\n",
    "# 予測ラベルを取得\n",
    "y_pred_label = model.predict(train_x)\n",
    "\n",
    "# 正当率（accuracy）の計算\n",
    "accuracy = accuracy_score(train_y, y_pred_label)\n",
    "\n",
    "# その他の評価指標\n",
    "precision = precision_score(train_y, y_pred_label, average='weighted')  # クラスごとに重み付き適合率\n",
    "recall = recall_score(train_y, y_pred_label, average='weighted')  # クラスごとに重み付き再現率\n",
    "f1 = f1_score(train_y, y_pred_label, average='weighted')  # クラスごとに重み付きF1スコア\n",
    "conf_matrix = confusion_matrix(train_y, y_pred_label)  # 混同行列\n",
    "\n",
    "# 結果を表示\n",
    "print(f'Test Log Loss: {logloss:.4f}')\n",
    "print(f'Test Accuracy: {accuracy:.4f}')\n",
    "print(f'Test Precision: {precision:.4f}')\n",
    "print(f'Test Recall: {recall:.4f}')\n",
    "print(f'Test F1 Score: {f1:.4f}')\n",
    "print(f'Confusion Matrix:\\n{conf_matrix}')\n",
    "#\"\"\"\n"
   ]
  },
  {
   "cell_type": "code",
   "execution_count": 58,
   "metadata": {},
   "outputs": [
    {
     "name": "stdout",
     "output_type": "stream",
     "text": [
      "day                                   int64\n",
      "pressure                            float64\n",
      "maxtemp                             float64\n",
      "temparature                         float64\n",
      "mintemp                             float64\n",
      "dewpoint                            float64\n",
      "humidity                            float64\n",
      "cloud                               float64\n",
      "sunshine                            float64\n",
      "winddirection                       float64\n",
      "windspeed                           float64\n",
      "month                                 int32\n",
      "month_sin                           float64\n",
      "month_cos                           float64\n",
      "day_sin                             float64\n",
      "day_cos                             float64\n",
      "df_temp                             float64\n",
      "mintemp_dewpoint                      int64\n",
      "temp_dewpoint_diff                  float64\n",
      "humidity_pressure_interaction       float64\n",
      "wind_direction_speed                float64\n",
      "month_day_interaction               float64\n",
      "windspeed_sunshine_interaction      float64\n",
      "temperature_humidity_interaction    float64\n",
      "temperature_sunshine_interaction    float64\n",
      "temperature_pressure_interaction    float64\n",
      "windspeed_humidity_interaction      float64\n",
      "pressure_windspeed_interaction      float64\n",
      "humidity_cloud_interaction          float64\n",
      "humidity_dewpoint_ratio             float64\n",
      "humidity_sunshine_interaction       float64\n",
      "temp_change                         float64\n",
      "pressure_change_rate                float64\n",
      "windspeed_change                    float64\n",
      "week_temperature_change             float64\n",
      "extreme_windspeed_change              int64\n",
      "day_of_week                           int64\n",
      "high_pressure                         int64\n",
      "low_humidity                          int64\n",
      "high_sunshine                         int64\n",
      "low_windspeed                         int64\n",
      "high_temp_dewpoint_diff               int64\n",
      "summer_or_spring                      int64\n",
      "high_pressure_low_windspeed           int64\n",
      "sunshine_low_humidity                 int64\n",
      "stable_winddirection                  int64\n",
      "sunshine_high_temp                    int64\n",
      "prev_day_sunshine                   float64\n",
      "low_humidity_high_temp                int64\n",
      "dtype: object\n"
     ]
    }
   ],
   "source": [
    "# train_xの各列のデータ型を確認\n",
    "print(train_x.dtypes)\n",
    "\n",
    "# 数値に変換できない列を適切に処理\n",
    "# 例えば、カテゴリカルな列をOneHotエンコーディングするなど\n",
    "train_x = pd.get_dummies(train_x, drop_first=True)  # カテゴリカル変数をダミー変数に変換\n"
   ]
  },
  {
   "cell_type": "code",
   "execution_count": 59,
   "metadata": {},
   "outputs": [
    {
     "data": {
      "image/png": "[encoded data removed]",
      "text/plain": [
       "<Figure size 800x950 with 2 Axes>"
      ]
     },
     "metadata": {},
     "output_type": "display_data"
    },
    {
     "data": {
      "image/png": "[encoded data removed]",
      "text/plain": [
       "<Figure size 800x650 with 3 Axes>"
      ]
     },
     "metadata": {},
     "output_type": "display_data"
    }
   ],
   "source": [
    "#\"\"\"\"\n",
    "import shap\n",
    "import matplotlib.pyplot as plt\n",
    "\n",
    "# SHAPのExplainerを作成\n",
    "explainer = shap.Explainer(model, train_x)\n",
    "\n",
    "# SHAP値を計算\n",
    "shap_values = explainer(train_x)\n",
    "\n",
    "# 特徴量の重要度を可視化（サマリープロット）\n",
    "shap.summary_plot(shap_values, train_x)\n",
    "\n",
    "# 特定のサンプルについてSHAPの力価プロットを表示（例: 0番目のデータ）\n",
    "shap.plots.waterfall(shap_values[0])\n",
    "#\"\"\""
   ]
  },
  {
   "cell_type": "code",
   "execution_count": 60,
   "metadata": {},
   "outputs": [
    {
     "name": "stdout",
     "output_type": "stream",
     "text": [
      "       id  rainfall\n",
      "0    2190         1\n",
      "1    2191         1\n",
      "2    2192         1\n",
      "3    2193         0\n",
      "4    2194         0\n",
      "..    ...       ...\n",
      "725  2915         1\n",
      "726  2916         1\n",
      "727  2917         1\n",
      "728  2918         1\n",
      "729  2919         1\n",
      "\n",
      "[730 rows x 2 columns]\n",
      "予測結果pred_labelの1の数: 579\n"
     ]
    }
   ],
   "source": [
    "#\"\"\"\n",
    "from sklearn.metrics import accuracy_score\n",
    "\n",
    "# テストデータの予測確率を取得\n",
    "pred_prob = model.predict_proba(test_x)[:, 1]\n",
    "\n",
    "# 最適なしきい値を使用して予測値を二値に変換\n",
    "#pred_label = np.where(pred_prob > best_threshold, 1, 0)\n",
    "pred_label = np.where(pred_prob > 0.5, 1, 0)\n",
    "\n",
    "# 提出用ファイルの作成\n",
    "submission = pd.DataFrame({\n",
    "    'id': test['id'], \n",
    "    'rainfall': pred_label\n",
    "})\n",
    "\n",
    "# 出力確認\n",
    "print(submission)\n",
    "\n",
    "# best['Survived']とpred_labelの1の数を比較\n",
    "print(\"予測結果pred_labelの1の数:\", pred_label.sum())\n",
    "#\"\"\""
   ]
  },
  {
   "cell_type": "code",
   "execution_count": 61,
   "metadata": {},
   "outputs": [
    {
     "data": {
      "text/plain": [
       "['prodict_model/xgb_model.pkl']"
      ]
     },
     "execution_count": 61,
     "metadata": {},
     "output_type": "execute_result"
    }
   ],
   "source": [
    "import joblib\n",
    "\n",
    "# 学習したモデルを保存\n",
    "joblib.dump(pred_prob, 'prodict_model/xgb_model.pkl')"
   ]
  },
  {
   "cell_type": "code",
   "execution_count": 62,
   "metadata": {},
   "outputs": [],
   "source": [
    "# 提出用ファイルの保存（例: 'submission.csv'）\n",
    "#submission.to_csv('submit/submission_5_4.csv', index=False)"
   ]
  }
 ],
 "metadata": {
  "kernelspec": {
   "display_name": "Python 3",
   "language": "python",
   "name": "python3"
  },
  "language_info": {
   "codemirror_mode": {
    "name": "ipython",
    "version": 3
   },
   "file_extension": ".py",
   "mimetype": "text/x-python",
   "name": "python",
   "nbconvert_exporter": "python",
   "pygments_lexer": "ipython3",
   "version": "3.12.6"
  }
 },
 "nbformat": 4,
 "nbformat_minor": 2
}
