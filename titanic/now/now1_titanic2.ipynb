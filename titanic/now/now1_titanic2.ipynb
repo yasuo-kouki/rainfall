{
 "cells": [
  {
   "cell_type": "code",
   "execution_count": 1678,
   "metadata": {},
   "outputs": [],
   "source": [
    "import pandas as pd\n",
    "import numpy as np"
   ]
  },
  {
   "cell_type": "markdown",
   "metadata": {},
   "source": [
    "データの読み込み"
   ]
  },
  {
   "cell_type": "code",
   "execution_count": 1679,
   "metadata": {},
   "outputs": [],
   "source": [
    "train = pd.read_csv('data/train.csv')\n",
    "test = pd.read_csv('data/test.csv')"
   ]
  },
  {
   "cell_type": "code",
   "execution_count": 1680,
   "metadata": {},
   "outputs": [
    {
     "data": {
      "text/html": [
       "<div>\n",
       "<style scoped>\n",
       "    .dataframe tbody tr th:only-of-type {\n",
       "        vertical-align: middle;\n",
       "    }\n",
       "\n",
       "    .dataframe tbody tr th {\n",
       "        vertical-align: top;\n",
       "    }\n",
       "\n",
       "    .dataframe thead th {\n",
       "        text-align: right;\n",
       "    }\n",
       "</style>\n",
       "<table border=\"1\" class=\"dataframe\">\n",
       "  <thead>\n",
       "    <tr style=\"text-align: right;\">\n",
       "      <th></th>\n",
       "      <th>PassengerId</th>\n",
       "      <th>Survived</th>\n",
       "      <th>Pclass</th>\n",
       "      <th>Name</th>\n",
       "      <th>Sex</th>\n",
       "      <th>Age</th>\n",
       "      <th>SibSp</th>\n",
       "      <th>Parch</th>\n",
       "      <th>Ticket</th>\n",
       "      <th>Fare</th>\n",
       "      <th>Cabin</th>\n",
       "      <th>Embarked</th>\n",
       "    </tr>\n",
       "  </thead>\n",
       "  <tbody>\n",
       "    <tr>\n",
       "      <th>0</th>\n",
       "      <td>1</td>\n",
       "      <td>0</td>\n",
       "      <td>3</td>\n",
       "      <td>Braund, Mr. Owen Harris</td>\n",
       "      <td>male</td>\n",
       "      <td>22.0</td>\n",
       "      <td>1</td>\n",
       "      <td>0</td>\n",
       "      <td>A/5 21171</td>\n",
       "      <td>7.2500</td>\n",
       "      <td>NaN</td>\n",
       "      <td>S</td>\n",
       "    </tr>\n",
       "    <tr>\n",
       "      <th>1</th>\n",
       "      <td>2</td>\n",
       "      <td>1</td>\n",
       "      <td>1</td>\n",
       "      <td>Cumings, Mrs. John Bradley (Florence Briggs Th...</td>\n",
       "      <td>female</td>\n",
       "      <td>38.0</td>\n",
       "      <td>1</td>\n",
       "      <td>0</td>\n",
       "      <td>PC 17599</td>\n",
       "      <td>71.2833</td>\n",
       "      <td>C85</td>\n",
       "      <td>C</td>\n",
       "    </tr>\n",
       "    <tr>\n",
       "      <th>2</th>\n",
       "      <td>3</td>\n",
       "      <td>1</td>\n",
       "      <td>3</td>\n",
       "      <td>Heikkinen, Miss. Laina</td>\n",
       "      <td>female</td>\n",
       "      <td>26.0</td>\n",
       "      <td>0</td>\n",
       "      <td>0</td>\n",
       "      <td>STON/O2. 3101282</td>\n",
       "      <td>7.9250</td>\n",
       "      <td>NaN</td>\n",
       "      <td>S</td>\n",
       "    </tr>\n",
       "    <tr>\n",
       "      <th>3</th>\n",
       "      <td>4</td>\n",
       "      <td>1</td>\n",
       "      <td>1</td>\n",
       "      <td>Futrelle, Mrs. Jacques Heath (Lily May Peel)</td>\n",
       "      <td>female</td>\n",
       "      <td>35.0</td>\n",
       "      <td>1</td>\n",
       "      <td>0</td>\n",
       "      <td>113803</td>\n",
       "      <td>53.1000</td>\n",
       "      <td>C123</td>\n",
       "      <td>S</td>\n",
       "    </tr>\n",
       "    <tr>\n",
       "      <th>4</th>\n",
       "      <td>5</td>\n",
       "      <td>0</td>\n",
       "      <td>3</td>\n",
       "      <td>Allen, Mr. William Henry</td>\n",
       "      <td>male</td>\n",
       "      <td>35.0</td>\n",
       "      <td>0</td>\n",
       "      <td>0</td>\n",
       "      <td>373450</td>\n",
       "      <td>8.0500</td>\n",
       "      <td>NaN</td>\n",
       "      <td>S</td>\n",
       "    </tr>\n",
       "  </tbody>\n",
       "</table>\n",
       "</div>"
      ],
      "text/plain": [
       "   PassengerId  Survived  Pclass  \\\n",
       "0            1         0       3   \n",
       "1            2         1       1   \n",
       "2            3         1       3   \n",
       "3            4         1       1   \n",
       "4            5         0       3   \n",
       "\n",
       "                                                Name     Sex   Age  SibSp  \\\n",
       "0                            Braund, Mr. Owen Harris    male  22.0      1   \n",
       "1  Cumings, Mrs. John Bradley (Florence Briggs Th...  female  38.0      1   \n",
       "2                             Heikkinen, Miss. Laina  female  26.0      0   \n",
       "3       Futrelle, Mrs. Jacques Heath (Lily May Peel)  female  35.0      1   \n",
       "4                           Allen, Mr. William Henry    male  35.0      0   \n",
       "\n",
       "   Parch            Ticket     Fare Cabin Embarked  \n",
       "0      0         A/5 21171   7.2500   NaN        S  \n",
       "1      0          PC 17599  71.2833   C85        C  \n",
       "2      0  STON/O2. 3101282   7.9250   NaN        S  \n",
       "3      0            113803  53.1000  C123        S  \n",
       "4      0            373450   8.0500   NaN        S  "
      ]
     },
     "execution_count": 1680,
     "metadata": {},
     "output_type": "execute_result"
    }
   ],
   "source": [
    "train.head()"
   ]
  },
  {
   "cell_type": "markdown",
   "metadata": {},
   "source": [
    "学習データを特徴量と目的変数に分ける"
   ]
  },
  {
   "cell_type": "code",
   "execution_count": 1681,
   "metadata": {},
   "outputs": [],
   "source": [
    "train_x = train.drop(['Survived'],axis=1)\n",
    "train_y = train['Survived']\n",
    "\n",
    "#テストデータは特徴量のみなのでそのまま\n",
    "test_x = test.copy()"
   ]
  },
  {
   "cell_type": "markdown",
   "metadata": {},
   "source": [
    "データの揺れ(型)を確認する"
   ]
  },
  {
   "cell_type": "code",
   "execution_count": 1682,
   "metadata": {},
   "outputs": [
    {
     "data": {
      "text/plain": [
       "PassengerId      int64\n",
       "Pclass           int64\n",
       "Name            object\n",
       "Sex             object\n",
       "Age            float64\n",
       "SibSp            int64\n",
       "Parch            int64\n",
       "Ticket          object\n",
       "Fare           float64\n",
       "Cabin           object\n",
       "Embarked        object\n",
       "dtype: object"
      ]
     },
     "execution_count": 1682,
     "metadata": {},
     "output_type": "execute_result"
    }
   ],
   "source": [
    "train_x.dtypes"
   ]
  },
  {
   "cell_type": "markdown",
   "metadata": {},
   "source": [
    "データの欠損値の確認をする"
   ]
  },
  {
   "cell_type": "code",
   "execution_count": 1683,
   "metadata": {},
   "outputs": [
    {
     "data": {
      "text/plain": [
       "PassengerId      0\n",
       "Pclass           0\n",
       "Name             0\n",
       "Sex              0\n",
       "Age            177\n",
       "SibSp            0\n",
       "Parch            0\n",
       "Ticket           0\n",
       "Fare             0\n",
       "Cabin          687\n",
       "Embarked         2\n",
       "dtype: int64"
      ]
     },
     "execution_count": 1683,
     "metadata": {},
     "output_type": "execute_result"
    }
   ],
   "source": [
    "train_x.isnull().sum()"
   ]
  },
  {
   "cell_type": "code",
   "execution_count": 1684,
   "metadata": {},
   "outputs": [
    {
     "data": {
      "text/plain": [
       "PassengerId      0\n",
       "Pclass           0\n",
       "Name             0\n",
       "Sex              0\n",
       "Age             86\n",
       "SibSp            0\n",
       "Parch            0\n",
       "Ticket           0\n",
       "Fare             1\n",
       "Cabin          327\n",
       "Embarked         0\n",
       "dtype: int64"
      ]
     },
     "execution_count": 1684,
     "metadata": {},
     "output_type": "execute_result"
    }
   ],
   "source": [
    "test_x.isnull().sum()"
   ]
  },
  {
   "cell_type": "markdown",
   "metadata": {},
   "source": [
    "####  変数の削除をする"
   ]
  },
  {
   "cell_type": "code",
   "execution_count": 1685,
   "metadata": {},
   "outputs": [],
   "source": [
    "#変数PassengeerIdを削除する\n",
    "train_x = train_x.drop(['PassengerId'],axis=1)\n",
    "test_x = test_x.drop(['PassengerId'],axis=1)"
   ]
  },
  {
   "cell_type": "markdown",
   "metadata": {},
   "source": [
    "## データの確認"
   ]
  },
  {
   "cell_type": "markdown",
   "metadata": {},
   "source": [
    "年齢の分布を確認"
   ]
  },
  {
   "cell_type": "code",
   "execution_count": 1686,
   "metadata": {},
   "outputs": [
    {
     "data": {
      "image/png": "[encoded data removed]",
      "text/plain": [
       "<Figure size 800x500 with 1 Axes>"
      ]
     },
     "metadata": {},
     "output_type": "display_data"
    }
   ],
   "source": [
    "import matplotlib.pyplot as plt\n",
    "import seaborn as sns\n",
    "\n",
    "plt.figure(figsize=(8, 5))\n",
    "sns.histplot(train_x['Age'], bins=30, kde=True, color='blue')  # KDE=Trueで確率密度関数も描画\n",
    "plt.xlabel(\"Age\")\n",
    "plt.ylabel(\"Count\")\n",
    "plt.title(\"Distribution of Age\")\n",
    "plt.grid(True)\n",
    "plt.show()"
   ]
  },
  {
   "cell_type": "markdown",
   "metadata": {},
   "source": [
    "NaNが2つ以上ある行を確認"
   ]
  },
  {
   "cell_type": "code",
   "execution_count": 1687,
   "metadata": {},
   "outputs": [
    {
     "name": "stdout",
     "output_type": "stream",
     "text": [
      "     Pclass                                      Name     Sex  Age  SibSp  \\\n",
      "5         3                          Moran, Mr. James    male  NaN      0   \n",
      "17        2              Williams, Mr. Charles Eugene    male  NaN      0   \n",
      "19        3                   Masselmani, Mrs. Fatima  female  NaN      0   \n",
      "26        3                   Emir, Mr. Farred Chehab    male  NaN      0   \n",
      "28        3             O'Dwyer, Miss. Ellen \"Nellie\"  female  NaN      0   \n",
      "..      ...                                       ...     ...  ...    ...   \n",
      "859       3                          Razi, Mr. Raihed    male  NaN      0   \n",
      "863       3         Sage, Miss. Dorothy Edith \"Dolly\"  female  NaN      8   \n",
      "868       3               van Melkebeke, Mr. Philemon    male  NaN      0   \n",
      "878       3                        Laleff, Mr. Kristo    male  NaN      0   \n",
      "888       3  Johnston, Miss. Catherine Helen \"Carrie\"  female  NaN      1   \n",
      "\n",
      "     Parch      Ticket     Fare Cabin Embarked  \n",
      "5        0      330877   8.4583   NaN        Q  \n",
      "17       0      244373  13.0000   NaN        S  \n",
      "19       0        2649   7.2250   NaN        C  \n",
      "26       0        2631   7.2250   NaN        C  \n",
      "28       0      330959   7.8792   NaN        Q  \n",
      "..     ...         ...      ...   ...      ...  \n",
      "859      0        2629   7.2292   NaN        C  \n",
      "863      2    CA. 2343  69.5500   NaN        S  \n",
      "868      0      345777   9.5000   NaN        S  \n",
      "878      0      349217   7.8958   NaN        S  \n",
      "888      2  W./C. 6607  23.4500   NaN        S  \n",
      "\n",
      "[158 rows x 10 columns]\n"
     ]
    }
   ],
   "source": [
    "nan_rows = train_x[train_x.isna().sum(axis=1) >= 2]\n",
    "print(nan_rows)\n",
    "#3個あるものはなかった"
   ]
  },
  {
   "cell_type": "markdown",
   "metadata": {},
   "source": [
    "ただ乗りしている人がいる！？"
   ]
  },
  {
   "cell_type": "code",
   "execution_count": 1688,
   "metadata": {},
   "outputs": [
    {
     "name": "stdout",
     "output_type": "stream",
     "text": [
      "     Pclass                              Name   Sex   Age  SibSp  Parch  \\\n",
      "179       3               Leonard, Mr. Lionel  male  36.0      0      0   \n",
      "263       1             Harrison, Mr. William  male  40.0      0      0   \n",
      "271       3      Tornquist, Mr. William Henry  male  25.0      0      0   \n",
      "277       2       Parkes, Mr. Francis \"Frank\"  male   NaN      0      0   \n",
      "302       3   Johnson, Mr. William Cahoone Jr  male  19.0      0      0   \n",
      "413       2    Cunningham, Mr. Alfred Fleming  male   NaN      0      0   \n",
      "466       2             Campbell, Mr. William  male   NaN      0      0   \n",
      "481       2  Frost, Mr. Anthony Wood \"Archie\"  male   NaN      0      0   \n",
      "597       3               Johnson, Mr. Alfred  male  49.0      0      0   \n",
      "633       1     Parr, Mr. William Henry Marsh  male   NaN      0      0   \n",
      "674       2        Watson, Mr. Ennis Hastings  male   NaN      0      0   \n",
      "732       2              Knight, Mr. Robert J  male   NaN      0      0   \n",
      "806       1            Andrews, Mr. Thomas Jr  male  39.0      0      0   \n",
      "815       1                  Fry, Mr. Richard  male   NaN      0      0   \n",
      "822       1   Reuchlin, Jonkheer. John George  male  38.0      0      0   \n",
      "\n",
      "     Ticket  Fare Cabin Embarked  \n",
      "179    LINE   0.0   NaN        S  \n",
      "263  112059   0.0   B94        S  \n",
      "271    LINE   0.0   NaN        S  \n",
      "277  239853   0.0   NaN        S  \n",
      "302    LINE   0.0   NaN        S  \n",
      "413  239853   0.0   NaN        S  \n",
      "466  239853   0.0   NaN        S  \n",
      "481  239854   0.0   NaN        S  \n",
      "597    LINE   0.0   NaN        S  \n",
      "633  112052   0.0   NaN        S  \n",
      "674  239856   0.0   NaN        S  \n",
      "732  239855   0.0   NaN        S  \n",
      "806  112050   0.0   A36        S  \n",
      "815  112058   0.0  B102        S  \n",
      "822   19972   0.0   NaN        S  \n"
     ]
    }
   ],
   "source": [
    "fare_zero_rows = train_x[train_x['Fare'] == 0]\n",
    "print(fare_zero_rows)"
   ]
  },
  {
   "cell_type": "markdown",
   "metadata": {},
   "source": [
    "## 特徴量の作成"
   ]
  },
  {
   "cell_type": "markdown",
   "metadata": {},
   "source": [
    "### 行のNaNの数の特徴量を作成する"
   ]
  },
  {
   "cell_type": "code",
   "execution_count": 1689,
   "metadata": {},
   "outputs": [],
   "source": [
    "#train_x[\"num_missing\"] = train_x.isna().sum(axis=1)\n",
    "#test_x[\"num_missing\"] = test_x.isna().sum(axis=1)"
   ]
  },
  {
   "cell_type": "markdown",
   "metadata": {},
   "source": [
    "### Fareが０の特徴量の列の作成"
   ]
  },
  {
   "cell_type": "code",
   "execution_count": 1690,
   "metadata": {},
   "outputs": [],
   "source": [
    "#使えなかった\n",
    "train_x[\"fare_zero\"] = (train_x['Fare'] == 0).astype(int)\n",
    "test_x[\"fare_zero\"] = (test_x['Fare'] == 0).astype(int)"
   ]
  },
  {
   "cell_type": "markdown",
   "metadata": {},
   "source": [
    "### Cabinから新たな特徴量を作成する"
   ]
  },
  {
   "cell_type": "code",
   "execution_count": 1691,
   "metadata": {},
   "outputs": [
    {
     "name": "stdout",
     "output_type": "stream",
     "text": [
      "0      NaN\n",
      "1        C\n",
      "2      NaN\n",
      "3        C\n",
      "4      NaN\n",
      "      ... \n",
      "886    NaN\n",
      "887      B\n",
      "888    NaN\n",
      "889      C\n",
      "890    NaN\n",
      "Name: Cabin_Deck, Length: 891, dtype: object\n"
     ]
    }
   ],
   "source": [
    "train_x['Cabin_Deck'] = train_x['Cabin'].astype(str).str[0]\n",
    "train_x.loc[train_x['Cabin'].isna(),'Cabin_Deck'] = np.nan\n",
    "\n",
    "test_x['Cabin_Deck'] = test_x['Cabin'].astype(str).str[0]\n",
    "test_x.loc[test_x['Cabin'].isna(),'Cabin_Deck'] = np.nan\n",
    "\n",
    "print(train_x['Cabin_Deck'])"
   ]
  },
  {
   "cell_type": "markdown",
   "metadata": {},
   "source": [
    "### Name列からタイトルを抽出"
   ]
  },
  {
   "cell_type": "code",
   "execution_count": 1692,
   "metadata": {},
   "outputs": [
    {
     "name": "stdout",
     "output_type": "stream",
     "text": [
      "Title\n",
      "Mr        517\n",
      "Miss      182\n",
      "Mrs       125\n",
      "Master     40\n",
      "Rare       27\n",
      "Name: count, dtype: int64\n",
      "Title\n",
      "Mr        240\n",
      "Miss       78\n",
      "Mrs        72\n",
      "Master     21\n",
      "Rare        7\n",
      "Name: count, dtype: int64\n"
     ]
    }
   ],
   "source": [
    "# Name列からタイトルを抽出\n",
    "train_x['Title'] = train_x['Name'].str.extract(r',\\s*([^\\.]+)\\.')\n",
    "test_x['Title'] = test_x['Name'].str.extract(r',\\s*([^\\.]+)\\.')\n",
    "\n",
    "# 稀なタイトルを結合\n",
    "rare_titles = ['Lady', 'Countess', 'Capt', 'Col', 'Don', 'Dr', 'Major', 'Rev', 'Sir', \n",
    "               'Jonkheer', 'Dona', 'Mlle', 'Mme', 'Ms', 'the Countess']\n",
    "train_x['Title'] = train_x['Title'].replace(rare_titles,'Rare')\n",
    "test_x['Title'] = test_x['Title'].replace(rare_titles,'Rare')\n",
    "\n",
    "print(train_x['Title'].value_counts())\n",
    "print(test_x['Title'].value_counts())"
   ]
  },
  {
   "cell_type": "markdown",
   "metadata": {},
   "source": [
    "### 家族人数の特徴量の作成をする"
   ]
  },
  {
   "cell_type": "code",
   "execution_count": 1693,
   "metadata": {},
   "outputs": [],
   "source": [
    "#家族人数の合計\n",
    "train_x['FamilySize'] = train_x['SibSp'] + train_x['Parch'] + 1\n",
    "test_x['FamilySize'] = test_x['SibSp'] + test_x['Parch'] + 1"
   ]
  },
  {
   "cell_type": "markdown",
   "metadata": {},
   "source": [
    "### 料金/家族人数の特徴量を作成する"
   ]
  },
  {
   "cell_type": "code",
   "execution_count": 1694,
   "metadata": {},
   "outputs": [
    {
     "data": {
      "text/plain": [
       "0       3.62500\n",
       "1      35.64165\n",
       "2       7.92500\n",
       "3      26.55000\n",
       "4       8.05000\n",
       "         ...   \n",
       "886    13.00000\n",
       "887    30.00000\n",
       "888     5.86250\n",
       "889    30.00000\n",
       "890     7.75000\n",
       "Name: FarePerFamilyMember, Length: 891, dtype: float64"
      ]
     },
     "execution_count": 1694,
     "metadata": {},
     "output_type": "execute_result"
    }
   ],
   "source": [
    "train_x['FarePerFamilyMember'] = train_x['Fare'] / train_x['FamilySize']\n",
    "test_x['FarePerFamilyMember'] = test_x['Fare'] / train_x['FamilySize']\n",
    "\n",
    "train_x['FarePerFamilyMember']"
   ]
  },
  {
   "cell_type": "markdown",
   "metadata": {},
   "source": [
    "### LastNameの特徴量を作成する"
   ]
  },
  {
   "cell_type": "code",
   "execution_count": 1695,
   "metadata": {},
   "outputs": [],
   "source": [
    "#姓(LastName)を抽出して新しい列に追加\n",
    "train_x['LastName'] = train['Name'].str.split(',').str[0]\n",
    "test_x['LastName'] = test['Name'].str.split(',').str[0]"
   ]
  },
  {
   "cell_type": "code",
   "execution_count": 1696,
   "metadata": {},
   "outputs": [
    {
     "data": {
      "text/plain": [
       "LastName\n",
       "Andersson    9\n",
       "Sage         7\n",
       "Panula       6\n",
       "Skoog        6\n",
       "Carter       6\n",
       "            ..\n",
       "Hanna        1\n",
       "Lewy         1\n",
       "Mineff       1\n",
       "Haas         1\n",
       "Dooley       1\n",
       "Name: count, Length: 667, dtype: int64"
      ]
     },
     "execution_count": 1696,
     "metadata": {},
     "output_type": "execute_result"
    }
   ],
   "source": [
    "train_x['LastName'].value_counts()"
   ]
  },
  {
   "cell_type": "markdown",
   "metadata": {},
   "source": [
    "### LastNameからSameNameの列を作成する"
   ]
  },
  {
   "cell_type": "code",
   "execution_count": 1697,
   "metadata": {},
   "outputs": [],
   "source": [
    "#LastNameの登場回数を記録\n",
    "train_x['Same_Name'] = train_x['LastName'].map(train_x['LastName'].value_counts())\n",
    "test_x['Same_Name'] = test_x['LastName'].map(test_x['LastName'].value_counts())"
   ]
  },
  {
   "cell_type": "markdown",
   "metadata": {},
   "source": [
    "### Ticketから特徴量を作る"
   ]
  },
  {
   "cell_type": "code",
   "execution_count": 1698,
   "metadata": {},
   "outputs": [],
   "source": [
    "def classify_ticket(ticket):\n",
    "    #  1. Numeric（すべて数値）\n",
    "    if ticket.isdigit():\n",
    "        return \"Numeric\"\n",
    "    \n",
    "    #  2. SpecialChar（\"/\" や \".\" を含む場合）\n",
    "    elif \"/\" in ticket or \".\" in ticket:\n",
    "        return \"SpecialChar\"\n",
    "    \n",
    "    #  3. Alphanumeric（英字と数字の両方を含む場合）\n",
    "    elif any(char.isdigit() for char in ticket) and any(char.isalpha() for char in ticket):\n",
    "        return \"Alphanumeric\"\n",
    "    \n",
    "    #  4. Unknown（どれにも当てはまらない場合）\n",
    "    else:\n",
    "        return \"Unknown\""
   ]
  },
  {
   "cell_type": "code",
   "execution_count": 1699,
   "metadata": {},
   "outputs": [
    {
     "name": "stdout",
     "output_type": "stream",
     "text": [
      "Ticket_Tpye\n",
      "Numeric         661\n",
      "SpecialChar     150\n",
      "Alphanumeric     76\n",
      "Unknown           4\n",
      "Name: count, dtype: int64\n"
     ]
    }
   ],
   "source": [
    "train_x[\"Ticket_Tpye\"] = train_x[\"Ticket\"].apply(classify_ticket)\n",
    "test_x[\"Ticket_Tpye\"] = test_x[\"Ticket\"].apply(classify_ticket)\n",
    "print(train_x['Ticket_Tpye'].value_counts())"
   ]
  },
  {
   "cell_type": "code",
   "execution_count": 1700,
   "metadata": {},
   "outputs": [
    {
     "data": {
      "text/plain": [
       "0             A/5 21171\n",
       "2      STON/O2. 3101282\n",
       "12            A/5. 2151\n",
       "33           C.A. 24579\n",
       "37           A./5. 2152\n",
       "             ...       \n",
       "866       SC/PARIS 2149\n",
       "874           P/PP 3381\n",
       "883    C.A./SOTON 34068\n",
       "884     SOTON/OQ 392076\n",
       "888          W./C. 6607\n",
       "Name: Ticket, Length: 150, dtype: object"
      ]
     },
     "execution_count": 1700,
     "metadata": {},
     "output_type": "execute_result"
    }
   ],
   "source": [
    "#正しく分類できているか確認\n",
    "train_x[train_x[\"Ticket_Tpye\"] == \"SpecialChar\"][\"Ticket\"]"
   ]
  },
  {
   "cell_type": "markdown",
   "metadata": {},
   "source": [
    "### 子どもだけの特徴量を作成したい"
   ]
  },
  {
   "cell_type": "code",
   "execution_count": 1701,
   "metadata": {},
   "outputs": [
    {
     "name": "stdout",
     "output_type": "stream",
     "text": [
      "     Pclass                                               Name     Sex   Age  \\\n",
      "1         1  Cumings, Mrs. John Bradley (Florence Briggs Th...  female  38.0   \n",
      "3         1       Futrelle, Mrs. Jacques Heath (Lily May Peel)  female  35.0   \n",
      "9         2                Nasser, Mrs. Nicholas (Adele Achem)  female  14.0   \n",
      "18        3  Vander Planke, Mrs. Julius (Emelia Maria Vande...  female  31.0   \n",
      "25        3  Asplund, Mrs. Carl Oscar (Selma Augusta Emilia...  female  38.0   \n",
      "..      ...                                                ...     ...   ...   \n",
      "849       1       Goldenberg, Mrs. Samuel L (Edwiga Grabowska)  female   NaN   \n",
      "854       2      Carter, Mrs. Ernest Courtenay (Lilian Hughes)  female  44.0   \n",
      "856       1         Wick, Mrs. George Dennick (Mary Hitchcock)  female  45.0   \n",
      "871       1   Beckwith, Mrs. Richard Leonard (Sallie Monypeny)  female  47.0   \n",
      "874       2              Abelson, Mrs. Samuel (Hannah Wizosky)  female  28.0   \n",
      "\n",
      "     SibSp  Parch     Ticket      Fare Cabin Embarked  fare_zero Cabin_Deck  \\\n",
      "1        1      0   PC 17599   71.2833   C85        C          0          C   \n",
      "3        1      0     113803   53.1000  C123        S          0          C   \n",
      "9        1      0     237736   30.0708   NaN        C          0        NaN   \n",
      "18       1      0     345763   18.0000   NaN        S          0        NaN   \n",
      "25       1      5     347077   31.3875   NaN        S          0        NaN   \n",
      "..     ...    ...        ...       ...   ...      ...        ...        ...   \n",
      "849      1      0      17453   89.1042   C92        C          0          C   \n",
      "854      1      0     244252   26.0000   NaN        S          0        NaN   \n",
      "856      1      1      36928  164.8667   NaN        S          0        NaN   \n",
      "871      1      1      11751   52.5542   D35        S          0          D   \n",
      "874      1      0  P/PP 3381   24.0000   NaN        C          0        NaN   \n",
      "\n",
      "    Title  FamilySize  FarePerFamilyMember       LastName  Same_Name  \\\n",
      "1     Mrs           2            35.641650        Cumings          1   \n",
      "3     Mrs           2            26.550000       Futrelle          2   \n",
      "9     Mrs           2            15.035400         Nasser          2   \n",
      "18    Mrs           2             9.000000  Vander Planke          3   \n",
      "25    Mrs           7             4.483929        Asplund          4   \n",
      "..    ...         ...                  ...            ...        ...   \n",
      "849   Mrs           2            44.552100     Goldenberg          2   \n",
      "854   Mrs           2            13.000000         Carter          6   \n",
      "856   Mrs           3            54.955567           Wick          2   \n",
      "871   Mrs           3            17.518067       Beckwith          2   \n",
      "874   Mrs           2            12.000000        Abelson          2   \n",
      "\n",
      "      Ticket_Tpye  \n",
      "1    Alphanumeric  \n",
      "3         Numeric  \n",
      "9         Numeric  \n",
      "18        Numeric  \n",
      "25        Numeric  \n",
      "..            ...  \n",
      "849       Numeric  \n",
      "854       Numeric  \n",
      "856       Numeric  \n",
      "871       Numeric  \n",
      "874   SpecialChar  \n",
      "\n",
      "[75 rows x 18 columns]\n"
     ]
    }
   ],
   "source": [
    "#妻から夫を算出\n",
    "filtered_rows = train_x[(train_x[\"Title\"] == \"Mrs\") & (train_x[\"SibSp\"] == 1)]\n",
    "print(filtered_rows)"
   ]
  },
  {
   "cell_type": "markdown",
   "metadata": {},
   "source": [
    "### 子か親の欄を2人いる時は親だと仮定して特徴量の作成"
   ]
  },
  {
   "cell_type": "code",
   "execution_count": 1702,
   "metadata": {},
   "outputs": [],
   "source": [
    "#train_x['Parch_child'] = (train_x['Parch']==2) & ((train_x['Title'] == 'Miss') | (train_x['Parch'] == 'Master'))\n",
    "#train_x"
   ]
  },
  {
   "cell_type": "markdown",
   "metadata": {},
   "source": [
    "### Ageデータの結合"
   ]
  },
  {
   "cell_type": "code",
   "execution_count": 1703,
   "metadata": {},
   "outputs": [],
   "source": [
    "train_age_data = pd.read_csv('age_data/train_age_data1.csv')\n",
    "test_age_data = pd.read_csv('age_data/test_age_data1.csv')\n",
    "\n",
    "train_x = pd.concat([train_x,train_age_data['Predict_Age']],axis=1)\n",
    "test_x = pd.concat([test_x,test_age_data['Predict_Age']],axis=1)"
   ]
  },
  {
   "cell_type": "markdown",
   "metadata": {},
   "source": [
    "### Ageを二値に分類"
   ]
  },
  {
   "cell_type": "code",
   "execution_count": 1704,
   "metadata": {},
   "outputs": [],
   "source": [
    "train_x['Age_missing'] = train_x['Age'].isnull().astype(int)\n",
    "test_x['Age_missing'] = test_x['Age'].isnull().astype(int)"
   ]
  },
  {
   "cell_type": "markdown",
   "metadata": {},
   "source": [
    "### LastNameの長さから特徴量を作成する"
   ]
  },
  {
   "cell_type": "code",
   "execution_count": 1705,
   "metadata": {},
   "outputs": [
    {
     "name": "stdout",
     "output_type": "stream",
     "text": [
      "    LastName  LastName_length\n",
      "0     Braund                6\n",
      "1    Cumings                7\n",
      "2  Heikkinen                9\n",
      "3   Futrelle                8\n",
      "4      Allen                5\n"
     ]
    }
   ],
   "source": [
    "# 名前の長さを特徴量として追加\n",
    "train_x['LastName_length'] = train_x['LastName'].apply(len)\n",
    "test_x['LastName_length'] = test_x['LastName'].apply(len)\n",
    "\n",
    "# 確認\n",
    "print(train_x[['LastName', 'LastName_length']].head())"
   ]
  },
  {
   "cell_type": "markdown",
   "metadata": {},
   "source": [
    "### 最終データ確認"
   ]
  },
  {
   "cell_type": "code",
   "execution_count": 1706,
   "metadata": {},
   "outputs": [
    {
     "data": {
      "text/html": [
       "<div>\n",
       "<style scoped>\n",
       "    .dataframe tbody tr th:only-of-type {\n",
       "        vertical-align: middle;\n",
       "    }\n",
       "\n",
       "    .dataframe tbody tr th {\n",
       "        vertical-align: top;\n",
       "    }\n",
       "\n",
       "    .dataframe thead th {\n",
       "        text-align: right;\n",
       "    }\n",
       "</style>\n",
       "<table border=\"1\" class=\"dataframe\">\n",
       "  <thead>\n",
       "    <tr style=\"text-align: right;\">\n",
       "      <th></th>\n",
       "      <th>Pclass</th>\n",
       "      <th>Name</th>\n",
       "      <th>Sex</th>\n",
       "      <th>Age</th>\n",
       "      <th>SibSp</th>\n",
       "      <th>Parch</th>\n",
       "      <th>Ticket</th>\n",
       "      <th>Fare</th>\n",
       "      <th>Cabin</th>\n",
       "      <th>Embarked</th>\n",
       "      <th>...</th>\n",
       "      <th>Cabin_Deck</th>\n",
       "      <th>Title</th>\n",
       "      <th>FamilySize</th>\n",
       "      <th>FarePerFamilyMember</th>\n",
       "      <th>LastName</th>\n",
       "      <th>Same_Name</th>\n",
       "      <th>Ticket_Tpye</th>\n",
       "      <th>Predict_Age</th>\n",
       "      <th>Age_missing</th>\n",
       "      <th>LastName_length</th>\n",
       "    </tr>\n",
       "  </thead>\n",
       "  <tbody>\n",
       "    <tr>\n",
       "      <th>0</th>\n",
       "      <td>3</td>\n",
       "      <td>Braund, Mr. Owen Harris</td>\n",
       "      <td>male</td>\n",
       "      <td>22.0</td>\n",
       "      <td>1</td>\n",
       "      <td>0</td>\n",
       "      <td>A/5 21171</td>\n",
       "      <td>7.2500</td>\n",
       "      <td>NaN</td>\n",
       "      <td>S</td>\n",
       "      <td>...</td>\n",
       "      <td>NaN</td>\n",
       "      <td>Mr</td>\n",
       "      <td>2</td>\n",
       "      <td>3.62500</td>\n",
       "      <td>Braund</td>\n",
       "      <td>2</td>\n",
       "      <td>SpecialChar</td>\n",
       "      <td>22.0</td>\n",
       "      <td>0</td>\n",
       "      <td>6</td>\n",
       "    </tr>\n",
       "    <tr>\n",
       "      <th>1</th>\n",
       "      <td>1</td>\n",
       "      <td>Cumings, Mrs. John Bradley (Florence Briggs Th...</td>\n",
       "      <td>female</td>\n",
       "      <td>38.0</td>\n",
       "      <td>1</td>\n",
       "      <td>0</td>\n",
       "      <td>PC 17599</td>\n",
       "      <td>71.2833</td>\n",
       "      <td>C85</td>\n",
       "      <td>C</td>\n",
       "      <td>...</td>\n",
       "      <td>C</td>\n",
       "      <td>Mrs</td>\n",
       "      <td>2</td>\n",
       "      <td>35.64165</td>\n",
       "      <td>Cumings</td>\n",
       "      <td>1</td>\n",
       "      <td>Alphanumeric</td>\n",
       "      <td>38.0</td>\n",
       "      <td>0</td>\n",
       "      <td>7</td>\n",
       "    </tr>\n",
       "    <tr>\n",
       "      <th>2</th>\n",
       "      <td>3</td>\n",
       "      <td>Heikkinen, Miss. Laina</td>\n",
       "      <td>female</td>\n",
       "      <td>26.0</td>\n",
       "      <td>0</td>\n",
       "      <td>0</td>\n",
       "      <td>STON/O2. 3101282</td>\n",
       "      <td>7.9250</td>\n",
       "      <td>NaN</td>\n",
       "      <td>S</td>\n",
       "      <td>...</td>\n",
       "      <td>NaN</td>\n",
       "      <td>Miss</td>\n",
       "      <td>1</td>\n",
       "      <td>7.92500</td>\n",
       "      <td>Heikkinen</td>\n",
       "      <td>1</td>\n",
       "      <td>SpecialChar</td>\n",
       "      <td>26.0</td>\n",
       "      <td>0</td>\n",
       "      <td>9</td>\n",
       "    </tr>\n",
       "    <tr>\n",
       "      <th>3</th>\n",
       "      <td>1</td>\n",
       "      <td>Futrelle, Mrs. Jacques Heath (Lily May Peel)</td>\n",
       "      <td>female</td>\n",
       "      <td>35.0</td>\n",
       "      <td>1</td>\n",
       "      <td>0</td>\n",
       "      <td>113803</td>\n",
       "      <td>53.1000</td>\n",
       "      <td>C123</td>\n",
       "      <td>S</td>\n",
       "      <td>...</td>\n",
       "      <td>C</td>\n",
       "      <td>Mrs</td>\n",
       "      <td>2</td>\n",
       "      <td>26.55000</td>\n",
       "      <td>Futrelle</td>\n",
       "      <td>2</td>\n",
       "      <td>Numeric</td>\n",
       "      <td>35.0</td>\n",
       "      <td>0</td>\n",
       "      <td>8</td>\n",
       "    </tr>\n",
       "    <tr>\n",
       "      <th>4</th>\n",
       "      <td>3</td>\n",
       "      <td>Allen, Mr. William Henry</td>\n",
       "      <td>male</td>\n",
       "      <td>35.0</td>\n",
       "      <td>0</td>\n",
       "      <td>0</td>\n",
       "      <td>373450</td>\n",
       "      <td>8.0500</td>\n",
       "      <td>NaN</td>\n",
       "      <td>S</td>\n",
       "      <td>...</td>\n",
       "      <td>NaN</td>\n",
       "      <td>Mr</td>\n",
       "      <td>1</td>\n",
       "      <td>8.05000</td>\n",
       "      <td>Allen</td>\n",
       "      <td>2</td>\n",
       "      <td>Numeric</td>\n",
       "      <td>35.0</td>\n",
       "      <td>0</td>\n",
       "      <td>5</td>\n",
       "    </tr>\n",
       "  </tbody>\n",
       "</table>\n",
       "<p>5 rows × 21 columns</p>\n",
       "</div>"
      ],
      "text/plain": [
       "   Pclass                                               Name     Sex   Age  \\\n",
       "0       3                            Braund, Mr. Owen Harris    male  22.0   \n",
       "1       1  Cumings, Mrs. John Bradley (Florence Briggs Th...  female  38.0   \n",
       "2       3                             Heikkinen, Miss. Laina  female  26.0   \n",
       "3       1       Futrelle, Mrs. Jacques Heath (Lily May Peel)  female  35.0   \n",
       "4       3                           Allen, Mr. William Henry    male  35.0   \n",
       "\n",
       "   SibSp  Parch            Ticket     Fare Cabin Embarked  ...  Cabin_Deck  \\\n",
       "0      1      0         A/5 21171   7.2500   NaN        S  ...         NaN   \n",
       "1      1      0          PC 17599  71.2833   C85        C  ...           C   \n",
       "2      0      0  STON/O2. 3101282   7.9250   NaN        S  ...         NaN   \n",
       "3      1      0            113803  53.1000  C123        S  ...           C   \n",
       "4      0      0            373450   8.0500   NaN        S  ...         NaN   \n",
       "\n",
       "  Title FamilySize  FarePerFamilyMember   LastName Same_Name   Ticket_Tpye  \\\n",
       "0    Mr          2              3.62500     Braund         2   SpecialChar   \n",
       "1   Mrs          2             35.64165    Cumings         1  Alphanumeric   \n",
       "2  Miss          1              7.92500  Heikkinen         1   SpecialChar   \n",
       "3   Mrs          2             26.55000   Futrelle         2       Numeric   \n",
       "4    Mr          1              8.05000      Allen         2       Numeric   \n",
       "\n",
       "  Predict_Age  Age_missing  LastName_length  \n",
       "0        22.0            0                6  \n",
       "1        38.0            0                7  \n",
       "2        26.0            0                9  \n",
       "3        35.0            0                8  \n",
       "4        35.0            0                5  \n",
       "\n",
       "[5 rows x 21 columns]"
      ]
     },
     "execution_count": 1706,
     "metadata": {},
     "output_type": "execute_result"
    }
   ],
   "source": [
    "train_x.head()"
   ]
  },
  {
   "cell_type": "code",
   "execution_count": 1707,
   "metadata": {},
   "outputs": [
    {
     "data": {
      "text/html": [
       "<div>\n",
       "<style scoped>\n",
       "    .dataframe tbody tr th:only-of-type {\n",
       "        vertical-align: middle;\n",
       "    }\n",
       "\n",
       "    .dataframe tbody tr th {\n",
       "        vertical-align: top;\n",
       "    }\n",
       "\n",
       "    .dataframe thead th {\n",
       "        text-align: right;\n",
       "    }\n",
       "</style>\n",
       "<table border=\"1\" class=\"dataframe\">\n",
       "  <thead>\n",
       "    <tr style=\"text-align: right;\">\n",
       "      <th></th>\n",
       "      <th>Pclass</th>\n",
       "      <th>Name</th>\n",
       "      <th>Sex</th>\n",
       "      <th>Age</th>\n",
       "      <th>SibSp</th>\n",
       "      <th>Parch</th>\n",
       "      <th>Ticket</th>\n",
       "      <th>Fare</th>\n",
       "      <th>Cabin</th>\n",
       "      <th>Embarked</th>\n",
       "      <th>...</th>\n",
       "      <th>Cabin_Deck</th>\n",
       "      <th>Title</th>\n",
       "      <th>FamilySize</th>\n",
       "      <th>FarePerFamilyMember</th>\n",
       "      <th>LastName</th>\n",
       "      <th>Same_Name</th>\n",
       "      <th>Ticket_Tpye</th>\n",
       "      <th>Predict_Age</th>\n",
       "      <th>Age_missing</th>\n",
       "      <th>LastName_length</th>\n",
       "    </tr>\n",
       "  </thead>\n",
       "  <tbody>\n",
       "    <tr>\n",
       "      <th>0</th>\n",
       "      <td>3</td>\n",
       "      <td>Kelly, Mr. James</td>\n",
       "      <td>male</td>\n",
       "      <td>34.5</td>\n",
       "      <td>0</td>\n",
       "      <td>0</td>\n",
       "      <td>330911</td>\n",
       "      <td>7.8292</td>\n",
       "      <td>NaN</td>\n",
       "      <td>Q</td>\n",
       "      <td>...</td>\n",
       "      <td>NaN</td>\n",
       "      <td>Mr</td>\n",
       "      <td>1</td>\n",
       "      <td>3.91460</td>\n",
       "      <td>Kelly</td>\n",
       "      <td>1</td>\n",
       "      <td>Numeric</td>\n",
       "      <td>34.5</td>\n",
       "      <td>0</td>\n",
       "      <td>5</td>\n",
       "    </tr>\n",
       "    <tr>\n",
       "      <th>1</th>\n",
       "      <td>3</td>\n",
       "      <td>Wilkes, Mrs. James (Ellen Needs)</td>\n",
       "      <td>female</td>\n",
       "      <td>47.0</td>\n",
       "      <td>1</td>\n",
       "      <td>0</td>\n",
       "      <td>363272</td>\n",
       "      <td>7.0000</td>\n",
       "      <td>NaN</td>\n",
       "      <td>S</td>\n",
       "      <td>...</td>\n",
       "      <td>NaN</td>\n",
       "      <td>Mrs</td>\n",
       "      <td>2</td>\n",
       "      <td>3.50000</td>\n",
       "      <td>Wilkes</td>\n",
       "      <td>1</td>\n",
       "      <td>Numeric</td>\n",
       "      <td>47.0</td>\n",
       "      <td>0</td>\n",
       "      <td>6</td>\n",
       "    </tr>\n",
       "    <tr>\n",
       "      <th>2</th>\n",
       "      <td>2</td>\n",
       "      <td>Myles, Mr. Thomas Francis</td>\n",
       "      <td>male</td>\n",
       "      <td>62.0</td>\n",
       "      <td>0</td>\n",
       "      <td>0</td>\n",
       "      <td>240276</td>\n",
       "      <td>9.6875</td>\n",
       "      <td>NaN</td>\n",
       "      <td>Q</td>\n",
       "      <td>...</td>\n",
       "      <td>NaN</td>\n",
       "      <td>Mr</td>\n",
       "      <td>1</td>\n",
       "      <td>9.68750</td>\n",
       "      <td>Myles</td>\n",
       "      <td>1</td>\n",
       "      <td>Numeric</td>\n",
       "      <td>62.0</td>\n",
       "      <td>0</td>\n",
       "      <td>5</td>\n",
       "    </tr>\n",
       "    <tr>\n",
       "      <th>3</th>\n",
       "      <td>3</td>\n",
       "      <td>Wirz, Mr. Albert</td>\n",
       "      <td>male</td>\n",
       "      <td>27.0</td>\n",
       "      <td>0</td>\n",
       "      <td>0</td>\n",
       "      <td>315154</td>\n",
       "      <td>8.6625</td>\n",
       "      <td>NaN</td>\n",
       "      <td>S</td>\n",
       "      <td>...</td>\n",
       "      <td>NaN</td>\n",
       "      <td>Mr</td>\n",
       "      <td>1</td>\n",
       "      <td>4.33125</td>\n",
       "      <td>Wirz</td>\n",
       "      <td>1</td>\n",
       "      <td>Numeric</td>\n",
       "      <td>27.0</td>\n",
       "      <td>0</td>\n",
       "      <td>4</td>\n",
       "    </tr>\n",
       "    <tr>\n",
       "      <th>4</th>\n",
       "      <td>3</td>\n",
       "      <td>Hirvonen, Mrs. Alexander (Helga E Lindqvist)</td>\n",
       "      <td>female</td>\n",
       "      <td>22.0</td>\n",
       "      <td>1</td>\n",
       "      <td>1</td>\n",
       "      <td>3101298</td>\n",
       "      <td>12.2875</td>\n",
       "      <td>NaN</td>\n",
       "      <td>S</td>\n",
       "      <td>...</td>\n",
       "      <td>NaN</td>\n",
       "      <td>Mrs</td>\n",
       "      <td>3</td>\n",
       "      <td>12.28750</td>\n",
       "      <td>Hirvonen</td>\n",
       "      <td>1</td>\n",
       "      <td>Numeric</td>\n",
       "      <td>22.0</td>\n",
       "      <td>0</td>\n",
       "      <td>8</td>\n",
       "    </tr>\n",
       "  </tbody>\n",
       "</table>\n",
       "<p>5 rows × 21 columns</p>\n",
       "</div>"
      ],
      "text/plain": [
       "   Pclass                                          Name     Sex   Age  SibSp  \\\n",
       "0       3                              Kelly, Mr. James    male  34.5      0   \n",
       "1       3              Wilkes, Mrs. James (Ellen Needs)  female  47.0      1   \n",
       "2       2                     Myles, Mr. Thomas Francis    male  62.0      0   \n",
       "3       3                              Wirz, Mr. Albert    male  27.0      0   \n",
       "4       3  Hirvonen, Mrs. Alexander (Helga E Lindqvist)  female  22.0      1   \n",
       "\n",
       "   Parch   Ticket     Fare Cabin Embarked  ...  Cabin_Deck Title FamilySize  \\\n",
       "0      0   330911   7.8292   NaN        Q  ...         NaN    Mr          1   \n",
       "1      0   363272   7.0000   NaN        S  ...         NaN   Mrs          2   \n",
       "2      0   240276   9.6875   NaN        Q  ...         NaN    Mr          1   \n",
       "3      0   315154   8.6625   NaN        S  ...         NaN    Mr          1   \n",
       "4      1  3101298  12.2875   NaN        S  ...         NaN   Mrs          3   \n",
       "\n",
       "   FarePerFamilyMember  LastName Same_Name  Ticket_Tpye Predict_Age  \\\n",
       "0              3.91460     Kelly         1      Numeric        34.5   \n",
       "1              3.50000    Wilkes         1      Numeric        47.0   \n",
       "2              9.68750     Myles         1      Numeric        62.0   \n",
       "3              4.33125      Wirz         1      Numeric        27.0   \n",
       "4             12.28750  Hirvonen         1      Numeric        22.0   \n",
       "\n",
       "   Age_missing  LastName_length  \n",
       "0            0                5  \n",
       "1            0                6  \n",
       "2            0                5  \n",
       "3            0                4  \n",
       "4            0                8  \n",
       "\n",
       "[5 rows x 21 columns]"
      ]
     },
     "execution_count": 1707,
     "metadata": {},
     "output_type": "execute_result"
    }
   ],
   "source": [
    "test_x.head()"
   ]
  },
  {
   "cell_type": "markdown",
   "metadata": {},
   "source": [
    "### 変更した特徴量の削除"
   ]
  },
  {
   "cell_type": "code",
   "execution_count": 1708,
   "metadata": {},
   "outputs": [],
   "source": [
    "#変数を削除する\n",
    "train_x = train_x.drop(['Name','Ticket','LastName','Cabin' ,'Age_missing','fare_zero','Parch','Ticket_Tpye','Age','Same_Name','LastName_length','Fare'],axis=1)\n",
    "test_x = test_x.drop(['Name','Ticket','LastName','Cabin','Age_missing','fare_zero','Parch','Ticket_Tpye','Age','Same_Name','LastName_length','Fare'],axis=1)"
   ]
  },
  {
   "cell_type": "markdown",
   "metadata": {},
   "source": [
    "### label enocdingを行う"
   ]
  },
  {
   "cell_type": "code",
   "execution_count": 1709,
   "metadata": {},
   "outputs": [],
   "source": [
    "from sklearn.preprocessing import LabelEncoder\n",
    "\n",
    "for c in ['Sex','Embarked','Title','Cabin_Deck']:\n",
    "    #学習データをどう変換するかを決める\n",
    "    le = LabelEncoder()\n",
    "    le.fit(train_x[c].fillna('NA')) #欠損値の変換\n",
    "\n",
    "    train_x[c] = le.transform(train_x[c].fillna('NA'))\n",
    "    test_x[c] = le.transform(test_x[c].fillna('NA'))"
   ]
  },
  {
   "cell_type": "code",
   "execution_count": 1710,
   "metadata": {},
   "outputs": [
    {
     "data": {
      "text/html": [
       "<div>\n",
       "<style scoped>\n",
       "    .dataframe tbody tr th:only-of-type {\n",
       "        vertical-align: middle;\n",
       "    }\n",
       "\n",
       "    .dataframe tbody tr th {\n",
       "        vertical-align: top;\n",
       "    }\n",
       "\n",
       "    .dataframe thead th {\n",
       "        text-align: right;\n",
       "    }\n",
       "</style>\n",
       "<table border=\"1\" class=\"dataframe\">\n",
       "  <thead>\n",
       "    <tr style=\"text-align: right;\">\n",
       "      <th></th>\n",
       "      <th>Pclass</th>\n",
       "      <th>Sex</th>\n",
       "      <th>SibSp</th>\n",
       "      <th>Embarked</th>\n",
       "      <th>Cabin_Deck</th>\n",
       "      <th>Title</th>\n",
       "      <th>FamilySize</th>\n",
       "      <th>FarePerFamilyMember</th>\n",
       "      <th>Predict_Age</th>\n",
       "    </tr>\n",
       "  </thead>\n",
       "  <tbody>\n",
       "    <tr>\n",
       "      <th>0</th>\n",
       "      <td>3</td>\n",
       "      <td>1</td>\n",
       "      <td>1</td>\n",
       "      <td>3</td>\n",
       "      <td>7</td>\n",
       "      <td>2</td>\n",
       "      <td>2</td>\n",
       "      <td>3.62500</td>\n",
       "      <td>22.0</td>\n",
       "    </tr>\n",
       "    <tr>\n",
       "      <th>1</th>\n",
       "      <td>1</td>\n",
       "      <td>0</td>\n",
       "      <td>1</td>\n",
       "      <td>0</td>\n",
       "      <td>2</td>\n",
       "      <td>3</td>\n",
       "      <td>2</td>\n",
       "      <td>35.64165</td>\n",
       "      <td>38.0</td>\n",
       "    </tr>\n",
       "    <tr>\n",
       "      <th>2</th>\n",
       "      <td>3</td>\n",
       "      <td>0</td>\n",
       "      <td>0</td>\n",
       "      <td>3</td>\n",
       "      <td>7</td>\n",
       "      <td>1</td>\n",
       "      <td>1</td>\n",
       "      <td>7.92500</td>\n",
       "      <td>26.0</td>\n",
       "    </tr>\n",
       "    <tr>\n",
       "      <th>3</th>\n",
       "      <td>1</td>\n",
       "      <td>0</td>\n",
       "      <td>1</td>\n",
       "      <td>3</td>\n",
       "      <td>2</td>\n",
       "      <td>3</td>\n",
       "      <td>2</td>\n",
       "      <td>26.55000</td>\n",
       "      <td>35.0</td>\n",
       "    </tr>\n",
       "    <tr>\n",
       "      <th>4</th>\n",
       "      <td>3</td>\n",
       "      <td>1</td>\n",
       "      <td>0</td>\n",
       "      <td>3</td>\n",
       "      <td>7</td>\n",
       "      <td>2</td>\n",
       "      <td>1</td>\n",
       "      <td>8.05000</td>\n",
       "      <td>35.0</td>\n",
       "    </tr>\n",
       "  </tbody>\n",
       "</table>\n",
       "</div>"
      ],
      "text/plain": [
       "   Pclass  Sex  SibSp  Embarked  Cabin_Deck  Title  FamilySize  \\\n",
       "0       3    1      1         3           7      2           2   \n",
       "1       1    0      1         0           2      3           2   \n",
       "2       3    0      0         3           7      1           1   \n",
       "3       1    0      1         3           2      3           2   \n",
       "4       3    1      0         3           7      2           1   \n",
       "\n",
       "   FarePerFamilyMember  Predict_Age  \n",
       "0              3.62500         22.0  \n",
       "1             35.64165         38.0  \n",
       "2              7.92500         26.0  \n",
       "3             26.55000         35.0  \n",
       "4              8.05000         35.0  "
      ]
     },
     "execution_count": 1710,
     "metadata": {},
     "output_type": "execute_result"
    }
   ],
   "source": [
    "train_x.head()"
   ]
  },
  {
   "cell_type": "markdown",
   "metadata": {},
   "source": [
    "### モデルの評価"
   ]
  },
  {
   "cell_type": "code",
   "execution_count": 1711,
   "metadata": {},
   "outputs": [
    {
     "data": {
      "text/plain": [
       "\"従来\\nfrom sklearn.metrics import log_loss, accuracy_score, roc_auc_score, f1_score, precision_score, recall_score, brier_score_loss\\n\\n# 各foldのスコアを保持するリスト\\nscores_logloss = []\\nscores_accuracy = []\\nscores_auc = []\\nscores_f1 = []\\nscores_precision = []\\nscores_recall = []\\nscores_brier = []\\n\\nkf = KFold(n_splits=4, shuffle=True, random_state=71)\\nfor tr_idx, va_idx in kf.split(train_x):\\n    tr_x, va_x = train_x.iloc[tr_idx], train_x.iloc[va_idx]\\n    tr_y, va_y = train_y.iloc[tr_idx], train_y.iloc[va_idx]\\n\\n    model = XGBClassifier(n_estimators=20, random_state=71, max_depth=2, min_child_weight=6.0)\\n    model.fit(tr_x, tr_y)\\n\\n    va_pred_prob = model.predict_proba(va_x)[:, 1]\\n    va_pred_binary = va_pred_prob > 0.3625\\n\\n    # 各スコアを計算\\n    scores_logloss.append(log_loss(va_y, va_pred_prob))\\n    scores_accuracy.append(accuracy_score(va_y, va_pred_binary))\\n    scores_auc.append(roc_auc_score(va_y, va_pred_prob))\\n    scores_f1.append(f1_score(va_y, va_pred_binary))\\n    scores_precision.append(precision_score(va_y, va_pred_binary))\\n    scores_recall.append(recall_score(va_y, va_pred_binary))\\n    scores_brier.append(brier_score_loss(va_y, va_pred_prob))\\n\\n# 平均スコアを出力\\nprint(f'Log Loss: {np.mean(scores_logloss):.4f}')\\nprint(f'Accuracy: {np.mean(scores_accuracy):.4f}')\\nprint(f'AUC-ROC: {np.mean(scores_auc):.4f}')\\nprint(f'F1 Score: {np.mean(scores_f1):.4f}')\\nprint(f'Precision: {np.mean(scores_precision):.4f}')\\nprint(f'Recall: {np.mean(scores_recall):.4f}')\\nprint(f'Brier Score: {np.mean(scores_brier):.4f}')\\n\""
      ]
     },
     "execution_count": 1711,
     "metadata": {},
     "output_type": "execute_result"
    }
   ],
   "source": [
    "\"\"\"従来\n",
    "from sklearn.metrics import log_loss, accuracy_score, roc_auc_score, f1_score, precision_score, recall_score, brier_score_loss\n",
    "\n",
    "# 各foldのスコアを保持するリスト\n",
    "scores_logloss = []\n",
    "scores_accuracy = []\n",
    "scores_auc = []\n",
    "scores_f1 = []\n",
    "scores_precision = []\n",
    "scores_recall = []\n",
    "scores_brier = []\n",
    "\n",
    "kf = KFold(n_splits=4, shuffle=True, random_state=71)\n",
    "for tr_idx, va_idx in kf.split(train_x):\n",
    "    tr_x, va_x = train_x.iloc[tr_idx], train_x.iloc[va_idx]\n",
    "    tr_y, va_y = train_y.iloc[tr_idx], train_y.iloc[va_idx]\n",
    "\n",
    "    model = XGBClassifier(n_estimators=20, random_state=71, max_depth=2, min_child_weight=6.0)\n",
    "    model.fit(tr_x, tr_y)\n",
    "\n",
    "    va_pred_prob = model.predict_proba(va_x)[:, 1]\n",
    "    va_pred_binary = va_pred_prob > 0.3625\n",
    "\n",
    "    # 各スコアを計算\n",
    "    scores_logloss.append(log_loss(va_y, va_pred_prob))\n",
    "    scores_accuracy.append(accuracy_score(va_y, va_pred_binary))\n",
    "    scores_auc.append(roc_auc_score(va_y, va_pred_prob))\n",
    "    scores_f1.append(f1_score(va_y, va_pred_binary))\n",
    "    scores_precision.append(precision_score(va_y, va_pred_binary))\n",
    "    scores_recall.append(recall_score(va_y, va_pred_binary))\n",
    "    scores_brier.append(brier_score_loss(va_y, va_pred_prob))\n",
    "\n",
    "# 平均スコアを出力\n",
    "print(f'Log Loss: {np.mean(scores_logloss):.4f}')\n",
    "print(f'Accuracy: {np.mean(scores_accuracy):.4f}')\n",
    "print(f'AUC-ROC: {np.mean(scores_auc):.4f}')\n",
    "print(f'F1 Score: {np.mean(scores_f1):.4f}')\n",
    "print(f'Precision: {np.mean(scores_precision):.4f}')\n",
    "print(f'Recall: {np.mean(scores_recall):.4f}')\n",
    "print(f'Brier Score: {np.mean(scores_brier):.4f}')\n",
    "\"\"\""
   ]
  },
  {
   "cell_type": "code",
   "execution_count": 1712,
   "metadata": {},
   "outputs": [
    {
     "name": "stdout",
     "output_type": "stream",
     "text": [
      "最適なパラメータ: {'colsample_bytree': 1.0, 'learning_rate': 0.2, 'max_depth': 2, 'min_child_weight': 2, 'n_estimators': 50, 'subsample': 1.0}\n",
      "最適なしきい値: 0.3672\n",
      "Log Loss: 0.4027\n",
      "Accuracy: 0.8395\n",
      "AUC-ROC: 0.8784\n",
      "F1 Score: 0.7945\n",
      "Precision: 0.7788\n",
      "Recall: 0.8113\n",
      "Brier Score: 0.1232\n"
     ]
    }
   ],
   "source": [
    "import numpy as np\n",
    "from sklearn.metrics import log_loss, accuracy_score, roc_auc_score, f1_score, precision_score, recall_score, brier_score_loss\n",
    "from sklearn.model_selection import KFold, GridSearchCV\n",
    "from xgboost import XGBClassifier\n",
    "\n",
    "# チューニング候補とするパラメータを準備する\n",
    "param_space = {\n",
    "    'max_depth': [2, 3, 4, 5, 6, 7, 8],\n",
    "    'min_child_weight': [2, 3, 4, 5, 6, 7, 8 ,9],\n",
    "    'learning_rate': [0.01, 0.05, 0.1, 0.2],\n",
    "    'subsample': [0.6, 0.8, 1.0],\n",
    "    'colsample_bytree': [0.6, 0.8, 1.0],\n",
    "    'n_estimators': [20 , 50, 100, 200, 300,400]\n",
    "}\n",
    "\n",
    "# XGBoostモデルを準備する\n",
    "model = XGBClassifier(random_state=71)\n",
    "\n",
    "# GridSearchCVを使用して最適なパラメータを探索する\n",
    "#grid_search = GridSearchCV(estimator=model, param_grid=param_space, scoring='neg_log_loss', cv=4)\n",
    "grid_search = GridSearchCV(estimator=model, param_grid=param_space, scoring='neg_log_loss', cv=4, n_jobs=-1)\n",
    "grid_search.fit(train_x, train_y)\n",
    "\n",
    "# 最適なパラメータ\n",
    "best_params = grid_search.best_params_\n",
    "print(f'最適なパラメータ: {best_params}')\n",
    "\n",
    "# 最適なパラメータで再学習\n",
    "model.set_params(**best_params)\n",
    "\n",
    "# 最適なしきい値を計算するための候補\n",
    "thresholds = np.arange(0.0, 1.01, 0.001)\n",
    "best_thresholds = []  # 各foldごとの最適なしきい値を保存\n",
    "\n",
    "# 各foldでの学習と評価\n",
    "kf = KFold(n_splits=4, shuffle=True, random_state=71)\n",
    "\n",
    "# スコアを保存するリスト\n",
    "scores_logloss = []\n",
    "scores_accuracy = []\n",
    "scores_auc = []\n",
    "scores_f1 = []\n",
    "scores_precision = []\n",
    "scores_recall = []\n",
    "scores_brier = []\n",
    "\n",
    "for tr_idx, va_idx in kf.split(train_x):\n",
    "    tr_x, va_x = train_x.iloc[tr_idx], train_x.iloc[va_idx]\n",
    "    tr_y, va_y = train_y.iloc[tr_idx], train_y.iloc[va_idx]\n",
    "\n",
    "    # モデルの学習\n",
    "    model.fit(tr_x, tr_y)\n",
    "\n",
    "    # バリデーションデータに対する予測\n",
    "    va_pred_prob = model.predict_proba(va_x)[:, 1]\n",
    "\n",
    "    # 各しきい値ごとのF1スコアを計算\n",
    "    f1_scores = [f1_score(va_y, va_pred_prob > t) for t in thresholds]\n",
    "\n",
    "    # 最も F1 スコアが高いしきい値を取得\n",
    "    best_threshold = thresholds[np.argmax(f1_scores)]\n",
    "    best_thresholds.append(best_threshold)\n",
    "\n",
    "    # 各スコアを計算\n",
    "    scores_logloss.append(log_loss(va_y, va_pred_prob))\n",
    "    scores_accuracy.append(accuracy_score(va_y, va_pred_prob > best_threshold))\n",
    "    scores_auc.append(roc_auc_score(va_y, va_pred_prob))\n",
    "    scores_f1.append(f1_score(va_y, va_pred_prob > best_threshold))\n",
    "    scores_precision.append(precision_score(va_y, va_pred_prob > best_threshold))\n",
    "    scores_recall.append(recall_score(va_y, va_pred_prob > best_threshold))\n",
    "    scores_brier.append(brier_score_loss(va_y, va_pred_prob))\n",
    "\n",
    "# しきい値の平均をとる\n",
    "optimal_threshold = np.mean(best_thresholds)\n",
    "print(f'最適なしきい値: {optimal_threshold:.4f}')\n",
    "\n",
    "# 各指標の平均を出力\n",
    "print(f'Log Loss: {np.mean(scores_logloss):.4f}')\n",
    "print(f'Accuracy: {np.mean(scores_accuracy):.4f}')\n",
    "print(f'AUC-ROC: {np.mean(scores_auc):.4f}')\n",
    "print(f'F1 Score: {np.mean(scores_f1):.4f}')\n",
    "print(f'Precision: {np.mean(scores_precision):.4f}')\n",
    "print(f'Recall: {np.mean(scores_recall):.4f}')\n",
    "print(f'Brier Score: {np.mean(scores_brier):.4f}')"
   ]
  },
  {
   "cell_type": "code",
   "execution_count": 1720,
   "metadata": {},
   "outputs": [
    {
     "name": "stdout",
     "output_type": "stream",
     "text": [
      "   PassengerId  Survived\n",
      "0          892         0\n",
      "1          893         0\n",
      "2          894         0\n",
      "3          895         0\n",
      "4          896         1\n"
     ]
    }
   ],
   "source": [
    "# クロスバリデーションで最適なしきい値を見つける\n",
    "best_threshold = 0.3672  # 以前のコードで求めた最適なしきい値\n",
    "\n",
    "# モデル作成\n",
    "model = XGBClassifier(\n",
    "    n_estimators=50, \n",
    "    random_state=71, \n",
    "    max_depth=2, \n",
    "    min_child_weight=2, \n",
    "    learning_rate=0.2, \n",
    "    colsample_bytree=1.0, \n",
    "    subsample=1.0\n",
    ")\n",
    "model.fit(train_x, train_y)\n",
    "\n",
    "# テストデータの予測確率を取得\n",
    "pred_prob = model.predict_proba(test_x)[:, 1]\n",
    "\n",
    "# 最適なしきい値を使用して予測値を二値に変換\n",
    "pred_label = np.where(pred_prob > best_threshold, 1, 0)\n",
    "\n",
    "# 提出用ファイルの作成\n",
    "submission = pd.DataFrame({\n",
    "    'PassengerId': test['PassengerId'], \n",
    "    'Survived': pred_label\n",
    "})\n",
    "\n",
    "# 提出用ファイルの保存（例: 'submission.csv'）\n",
    "submission.to_csv('submit/submission_15.csv', index=False)\n",
    "\n",
    "# 出力確認\n",
    "print(submission.head())"
   ]
  },
  {
   "cell_type": "code",
   "execution_count": 1718,
   "metadata": {},
   "outputs": [
    {
     "data": {
      "image/png": "[encoded data removed]",
      "text/plain": [
       "<Figure size 1200x500 with 2 Axes>"
      ]
     },
     "metadata": {},
     "output_type": "display_data"
    }
   ],
   "source": [
    "import matplotlib.pyplot as plt\n",
    "import numpy as np\n",
    "\n",
    "# 各Foldのスコアの推移\n",
    "folds = np.arange(1, len(scores_accuracy) + 1)\n",
    "\n",
    "plt.figure(figsize=(12, 5))\n",
    "\n",
    "# Accuracyの推移\n",
    "plt.subplot(1, 2, 1)\n",
    "plt.plot(folds, scores_accuracy, marker='o', linestyle='-', label=\"Accuracy\")\n",
    "plt.xlabel(\"Fold\")\n",
    "plt.ylabel(\"Accuracy\")\n",
    "plt.title(\"Accuracy per Fold\")\n",
    "plt.xticks(folds)\n",
    "plt.ylim(0, 1)\n",
    "plt.grid(True)\n",
    "\n",
    "# Log Lossの推移\n",
    "plt.subplot(1, 2, 2)\n",
    "plt.plot(folds, scores_logloss, marker='o', linestyle='-', color='red', label=\"Log Loss\")\n",
    "plt.xlabel(\"Fold\")\n",
    "plt.ylabel(\"Log Loss\")\n",
    "plt.title(\"Log Loss per Fold\")\n",
    "plt.xticks(folds)\n",
    "plt.grid(True)\n",
    "\n",
    "plt.tight_layout()\n",
    "plt.show()\n"
   ]
  },
  {
   "cell_type": "code",
   "execution_count": 1715,
   "metadata": {},
   "outputs": [
    {
     "data": {
      "image/png": "[encoded data removed]",
      "text/plain": [
       "<Figure size 1000x600 with 1 Axes>"
      ]
     },
     "metadata": {},
     "output_type": "display_data"
    }
   ],
   "source": [
    "# 特徴量の重要度を取得\n",
    "feature_importances = model.feature_importances_\n",
    "features = train_x.columns\n",
    "\n",
    "# データフレーム化\n",
    "importance_df = pd.DataFrame({'Feature': features, 'Importance': feature_importances})\n",
    "importance_df = importance_df.sort_values(by='Importance', ascending=False)\n",
    "\n",
    "# 可視化\n",
    "plt.figure(figsize=(10, 6))\n",
    "sns.barplot(x='Importance', y='Feature', data=importance_df, hue='Feature', palette='viridis', legend=False)\n",
    "plt.xlabel('Feature Importance')\n",
    "plt.ylabel('Feature Name')\n",
    "plt.title('Feature Importance from XGBoost')\n",
    "plt.show()"
   ]
  },
  {
   "cell_type": "code",
   "execution_count": null,
   "metadata": {},
   "outputs": [],
   "source": []
  },
  {
   "cell_type": "code",
   "execution_count": null,
   "metadata": {},
   "outputs": [],
   "source": []
  },
  {
   "cell_type": "code",
   "execution_count": null,
   "metadata": {},
   "outputs": [],
   "source": []
  },
  {
   "cell_type": "code",
   "execution_count": null,
   "metadata": {},
   "outputs": [],
   "source": []
  },
  {
   "cell_type": "code",
   "execution_count": null,
   "metadata": {},
   "outputs": [],
   "source": []
  },
  {
   "cell_type": "code",
   "execution_count": null,
   "metadata": {},
   "outputs": [],
   "source": []
  },
  {
   "cell_type": "code",
   "execution_count": null,
   "metadata": {},
   "outputs": [],
   "source": [
    "#grid_search = GridSearchCV(estimator=model, param_grid=param_space, scoring='neg_log_loss', cv=4, n_jobs=-1)"
   ]
  },
  {
   "cell_type": "code",
   "execution_count": null,
   "metadata": {},
   "outputs": [
    {
     "ename": "IndexError",
     "evalue": "invalid index to scalar variable.",
     "output_type": "error",
     "traceback": [
      "\u001b[0;31m---------------------------------------------------------------------------\u001b[0m",
      "\u001b[0;31mIndexError\u001b[0m                                Traceback (most recent call last)",
      "Cell \u001b[0;32mIn[1333], line 2\u001b[0m\n\u001b[1;32m      1\u001b[0m \u001b[38;5;66;03m# 最適なパラメータを使用してモデルを学習\u001b[39;00m\n\u001b[0;32m----> 2\u001b[0m optimal_max_depth \u001b[38;5;241m=\u001b[39m \u001b[43mbest_param\u001b[49m\u001b[43m[\u001b[49m\u001b[38;5;241;43m0\u001b[39;49m\u001b[43m]\u001b[49m\n\u001b[1;32m      3\u001b[0m optimal_min_child_weight \u001b[38;5;241m=\u001b[39m best_param[\u001b[38;5;241m1\u001b[39m]\n\u001b[1;32m      4\u001b[0m model \u001b[38;5;241m=\u001b[39m XGBClassifier(n_estimators\u001b[38;5;241m=\u001b[39m\u001b[38;5;241m20\u001b[39m, random_state\u001b[38;5;241m=\u001b[39m\u001b[38;5;241m71\u001b[39m,\n\u001b[1;32m      5\u001b[0m                       max_depth\u001b[38;5;241m=\u001b[39moptimal_max_depth, min_child_weight\u001b[38;5;241m=\u001b[39moptimal_min_child_weight)\n",
      "\u001b[0;31mIndexError\u001b[0m: invalid index to scalar variable."
     ]
    }
   ],
   "source": [
    "# 最適なパラメータを使用してモデルを学習\n",
    "optimal_max_depth = best_param[0]\n",
    "optimal_min_child_weight = best_param[1]\n",
    "model = XGBClassifier(n_estimators=20, random_state=71,\n",
    "                      max_depth=optimal_max_depth, min_child_weight=optimal_min_child_weight)\n",
    "\n",
    "# モデルの学習\n",
    "model.fit(train_x, train_y)\n",
    "\n",
    "# テストデータの予測確率を取得\n",
    "pred_prob = model.predict_proba(test_x)[:, 1]\n",
    "\n",
    "# 最適なしきい値を使用して予測値を二値に変換\n",
    "# ここで最適なしきい値を手動で設定します（例えば、0.3625など）\n",
    "best_threshold = 0.3625  # この値は前のコードで求めた最適なしきい値です\n",
    "pred_label = np.where(pred_prob > best_threshold, 1, 0)\n",
    "\n",
    "# 提出用ファイルの作成\n",
    "submission = pd.DataFrame({\n",
    "    'PassengerId': test['PassengerId'], \n",
    "    'Survived': pred_label\n",
    "})\n",
    "\n",
    "# 提出用ファイルの保存（例: 'submission.csv'）\n",
    "#submission.to_csv('submit/submission_nine.csv', index=False)\n",
    "\n",
    "# 出力確認\n",
    "print(submission.head())"
   ]
  },
  {
   "cell_type": "markdown",
   "metadata": {},
   "source": [
    "### モデルのチューニング"
   ]
  },
  {
   "cell_type": "code",
   "execution_count": null,
   "metadata": {},
   "outputs": [
    {
     "data": {
      "text/plain": [
       "'\\nimport itertools\\nimport numpy as np\\nfrom sklearn.model_selection import KFold, GridSearchCV\\nfrom xgboost import XGBClassifier\\nfrom sklearn.metrics import log_loss\\n\\n# チューニング候補とするパラメータを準備する\\nparam_space = {\\n    \\'max_depth\\': [1, 2, 3, 4, 5, 6],\\n    \\'min_child_weight\\': [1.0, 2.0, 3.0, 4.0, 5.0, 6.0],\\n    \\'learning_rate\\': [0.01, 0.05, 0.1, 0.2],\\n    \\'subsample\\': [0.6, 0.8, 1.0],\\n    \\'colsample_bytree\\': [0.6, 0.8, 1.0],\\n    \\'gamma\\': [0, 0.1, 0.2],\\n    \\'n_estimators\\': [50, 100, 200]\\n}\\n\\n# XGBoostモデルを準備する\\nxgb_model = XGBClassifier(random_state=71)\\n\\n# GridSearchCVを使ってハイパーパラメータチューニングを行う\\ngrid_search = GridSearchCV(estimator=xgb_model, param_grid=param_space, \\n                           scoring=\\'neg_log_loss\\', cv=4, verbose=1, n_jobs=-1)\\n\\n# クロスバリデーションを行う\\ngrid_search.fit(train_x, train_y)\\n\\n# 最適なパラメータを表示\\nbest_param = grid_search.best_params_\\nprint(f\"Best parameters found: {best_param}\")\\n\\n# 最適なモデルでスコアを計算\\nbest_model = grid_search.best_estimator_\\n\\n# テストデータに対する予測とlog_loss計算\\nva_pred = best_model.predict_proba(test_x)[:, 1]\\nlogloss = log_loss(test_y, va_pred)\\nprint(f\"Test log loss: {logloss}\")\\n'"
      ]
     },
     "execution_count": 1058,
     "metadata": {},
     "output_type": "execute_result"
    }
   ],
   "source": [
    "\"\"\"\n",
    "import itertools\n",
    "import numpy as np\n",
    "from sklearn.model_selection import KFold, GridSearchCV\n",
    "from xgboost import XGBClassifier\n",
    "from sklearn.metrics import log_loss\n",
    "\n",
    "# チューニング候補とするパラメータを準備する\n",
    "param_space = {\n",
    "    'max_depth': [1, 2, 3, 4, 5, 6],\n",
    "    'min_child_weight': [1.0, 2.0, 3.0, 4.0, 5.0, 6.0],\n",
    "    'learning_rate': [0.01, 0.05, 0.1, 0.2],\n",
    "    'subsample': [0.6, 0.8, 1.0],\n",
    "    'colsample_bytree': [0.6, 0.8, 1.0],\n",
    "    'gamma': [0, 0.1, 0.2],\n",
    "    'n_estimators': [50, 100, 200]\n",
    "}\n",
    "\n",
    "# XGBoostモデルを準備する\n",
    "xgb_model = XGBClassifier(random_state=71)\n",
    "\n",
    "# GridSearchCVを使ってハイパーパラメータチューニングを行う\n",
    "grid_search = GridSearchCV(estimator=xgb_model, param_grid=param_space, \n",
    "                           scoring='neg_log_loss', cv=4, verbose=1, n_jobs=-1)\n",
    "\n",
    "# クロスバリデーションを行う\n",
    "grid_search.fit(train_x, train_y)\n",
    "\n",
    "# 最適なパラメータを表示\n",
    "best_param = grid_search.best_params_\n",
    "print(f\"Best parameters found: {best_param}\")\n",
    "\n",
    "# 最適なモデルでスコアを計算\n",
    "best_model = grid_search.best_estimator_\n",
    "\n",
    "# テストデータに対する予測とlog_loss計算\n",
    "va_pred = best_model.predict_proba(test_x)[:, 1]\n",
    "logloss = log_loss(test_y, va_pred)\n",
    "print(f\"Test log loss: {logloss}\")\n",
    "\"\"\""
   ]
  },
  {
   "cell_type": "code",
   "execution_count": null,
   "metadata": {},
   "outputs": [
    {
     "name": "stdout",
     "output_type": "stream",
     "text": [
      "max_depth: 2, min_child_weight: 6.0\n"
     ]
    }
   ],
   "source": [
    "\"\"\"ほんのコード\n",
    "import itertools\n",
    "\n",
    "# チューニング候補とするパラメータを準備する\n",
    "param_space = {\n",
    "    'max_depth': [1, 2, 3, 4, 5, 6],\n",
    "    'min_child_weight': [1.0,2.0,3.0, 4.0, 5.0, 6.0]\n",
    "}\n",
    "\n",
    "# 探索するハイパーパラメータの組み合わせ\n",
    "param_combinations = itertools.product(param_space['max_depth'], param_space['min_child_weight'])\n",
    "\n",
    "# 各パラメータの組み合わせ、それに対するスコアを保存するリスト\n",
    "params = []\n",
    "scores = []\n",
    "\n",
    "# 各パラメータの組み合わせごとに、クロスバリデーションで評価を行う\n",
    "for max_depth, min_child_weight in param_combinations:\n",
    "\n",
    "    score_folds = []\n",
    "    # クロスバリデーションを行う\n",
    "    # 学習データを4つに分割し、うち1つをバリデーションデータとすることを、バリデーションデータを変えて繰り返す\n",
    "    kf = KFold(n_splits=4, shuffle=True, random_state=123456)\n",
    "    for tr_idx, va_idx in kf.split(train_x):\n",
    "        # 学習データを学習データとバリデーションデータに分ける\n",
    "        tr_x, va_x = train_x.iloc[tr_idx], train_x.iloc[va_idx]\n",
    "        tr_y, va_y = train_y.iloc[tr_idx], train_y.iloc[va_idx]\n",
    "\n",
    "        # モデルの学習を行う\n",
    "        model = XGBClassifier(n_estimators=20, random_state=71,\n",
    "                              max_depth=max_depth, min_child_weight=min_child_weight)\n",
    "        model.fit(tr_x, tr_y)\n",
    "\n",
    "        # バリデーションデータでのスコアを計算し、保存する\n",
    "        va_pred = model.predict_proba(va_x)[:, 1]\n",
    "        logloss = log_loss(va_y, va_pred)\n",
    "        score_folds.append(logloss)\n",
    "\n",
    "    # 各foldのスコアを平均する\n",
    "    score_mean = np.mean(score_folds)\n",
    "\n",
    "    # パラメータの組み合わせ、それに対するスコアを保存する\n",
    "    params.append((max_depth, min_child_weight))\n",
    "    scores.append(score_mean)\n",
    "\n",
    "# 最もスコアが良いものをベストなパラメータとする\n",
    "best_idx = np.argsort(scores)[0]\n",
    "best_param = params[best_idx]\n",
    "print(f'max_depth: {best_param[0]}, min_child_weight: {best_param[1]}')\n",
    "\"\"\""
   ]
  },
  {
   "cell_type": "markdown",
   "metadata": {},
   "source": [
    "### 最適な閾値を調べるためにF1が一番良いのを探す"
   ]
  },
  {
   "cell_type": "code",
   "execution_count": 1721,
   "metadata": {},
   "outputs": [
    {
     "name": "stdout",
     "output_type": "stream",
     "text": [
      "最適なしきい値: 0.3900\n"
     ]
    }
   ],
   "source": [
    "\"\"\"\n",
    "import numpy as np\n",
    "from sklearn.metrics import f1_score\n",
    "from sklearn.model_selection import KFold\n",
    "from xgboost import XGBClassifier\n",
    "\n",
    "# しきい値の候補を定義\n",
    "thresholds = np.arange(0.0, 1.01, 0.01)\n",
    "\n",
    "kf = KFold(n_splits=4, shuffle=True, random_state=71)\n",
    "best_thresholds = []  # 各foldごとの最適なしきい値を保存\n",
    "\n",
    "for tr_idx, va_idx in kf.split(train_x):\n",
    "    tr_x, va_x = train_x.iloc[tr_idx], train_x.iloc[va_idx]\n",
    "    tr_y, va_y = train_y.iloc[tr_idx], train_y.iloc[va_idx]\n",
    "\n",
    "    model = XGBClassifier(n_estimators=20, random_state=71, max_depth=2, min_child_weight=6.0)\n",
    "    model.fit(tr_x, tr_y)\n",
    "\n",
    "    va_pred_prob = model.predict_proba(va_x)[:, 1]\n",
    "\n",
    "    # 各しきい値ごとのF1スコアを計算\n",
    "    f1_scores = [f1_score(va_y, va_pred_prob > t) for t in thresholds]\n",
    "\n",
    "    # 最も F1 スコアが高いしきい値を取得\n",
    "    best_threshold = thresholds[np.argmax(f1_scores)]\n",
    "    best_thresholds.append(best_threshold)\n",
    "\n",
    "# しきい値の平均をとる\n",
    "optimal_threshold = np.mean(best_thresholds)\n",
    "print(f'最適なしきい値: {optimal_threshold:.4f}')\n",
    "\"\"\""
   ]
  },
  {
   "cell_type": "markdown",
   "metadata": {},
   "source": [
    "### 各Foldのスコアの変動を可視化"
   ]
  },
  {
   "cell_type": "code",
   "execution_count": 1722,
   "metadata": {},
   "outputs": [
    {
     "data": {
      "image/png": "[encoded data removed]",
      "text/plain": [
       "<Figure size 1200x500 with 2 Axes>"
      ]
     },
     "metadata": {},
     "output_type": "display_data"
    }
   ],
   "source": [
    "\"\"\"\n",
    "import matplotlib.pyplot as plt\n",
    "import numpy as np\n",
    "\n",
    "# 各Foldのスコアの推移\n",
    "folds = np.arange(1, len(scores_accuracy) + 1)\n",
    "\n",
    "plt.figure(figsize=(12, 5))\n",
    "\n",
    "# Accuracyの推移\n",
    "plt.subplot(1, 2, 1)\n",
    "plt.plot(folds, scores_accuracy, marker='o', linestyle='-', label=\"Accuracy\")\n",
    "plt.xlabel(\"Fold\")\n",
    "plt.ylabel(\"Accuracy\")\n",
    "plt.title(\"Accuracy per Fold\")\n",
    "plt.xticks(folds)\n",
    "plt.ylim(0, 1)\n",
    "plt.grid(True)\n",
    "\n",
    "# Log Lossの推移\n",
    "plt.subplot(1, 2, 2)\n",
    "plt.plot(folds, scores_logloss, marker='o', linestyle='-', color='red', label=\"Log Loss\")\n",
    "plt.xlabel(\"Fold\")\n",
    "plt.ylabel(\"Log Loss\")\n",
    "plt.title(\"Log Loss per Fold\")\n",
    "plt.xticks(folds)\n",
    "plt.grid(True)\n",
    "\n",
    "plt.tight_layout()\n",
    "plt.show()\n",
    "\"\"\"\n"
   ]
  },
  {
   "cell_type": "markdown",
   "metadata": {},
   "source": [
    "### 重要な特徴量の可視化"
   ]
  },
  {
   "cell_type": "code",
   "execution_count": null,
   "metadata": {},
   "outputs": [
    {
     "data": {
      "image/png": "[encoded data removed]",
      "text/plain": [
       "<Figure size 1000x600 with 1 Axes>"
      ]
     },
     "metadata": {},
     "output_type": "display_data"
    }
   ],
   "source": [
    "\"\"\"\n",
    "# 特徴量の重要度を取得\n",
    "feature_importances = model.feature_importances_\n",
    "features = train_x.columns\n",
    "\n",
    "# データフレーム化\n",
    "importance_df = pd.DataFrame({'Feature': features, 'Importance': feature_importances})\n",
    "importance_df = importance_df.sort_values(by='Importance', ascending=False)\n",
    "\n",
    "# 可視化\n",
    "plt.figure(figsize=(10, 6))\n",
    "sns.barplot(x='Importance', y='Feature', data=importance_df, hue='Feature', palette='viridis', legend=False)\n",
    "plt.xlabel('Feature Importance')\n",
    "plt.ylabel('Feature Name')\n",
    "plt.title('Feature Importance from XGBoost')\n",
    "plt.show()\n",
    "\"\"\"\n"
   ]
  },
  {
   "cell_type": "code",
   "execution_count": null,
   "metadata": {},
   "outputs": [
    {
     "name": "stdout",
     "output_type": "stream",
     "text": [
      "Log Loss: 0.4065\n",
      "Accuracy: 0.8328\n",
      "AUC-ROC: 0.8768\n",
      "F1 Score: 0.7881\n",
      "Precision: 0.7630\n",
      "Recall: 0.8152\n",
      "Brier Score: 0.1249\n"
     ]
    }
   ],
   "source": [
    "\"\"\"\n",
    "from sklearn.metrics import log_loss, accuracy_score, roc_auc_score, f1_score, precision_score, recall_score, brier_score_loss\n",
    "\n",
    "# 各foldのスコアを保持するリスト\n",
    "scores_logloss = []\n",
    "scores_accuracy = []\n",
    "scores_auc = []\n",
    "scores_f1 = []\n",
    "scores_precision = []\n",
    "scores_recall = []\n",
    "scores_brier = []\n",
    "\n",
    "kf = KFold(n_splits=4, shuffle=True, random_state=71)\n",
    "for tr_idx, va_idx in kf.split(train_x):\n",
    "    tr_x, va_x = train_x.iloc[tr_idx], train_x.iloc[va_idx]\n",
    "    tr_y, va_y = train_y.iloc[tr_idx], train_y.iloc[va_idx]\n",
    "\n",
    "    model = XGBClassifier(n_estimators=20, random_state=71, max_depth=2, min_child_weight=6.0)\n",
    "    model.fit(tr_x, tr_y)\n",
    "\n",
    "    va_pred_prob = model.predict_proba(va_x)[:, 1]\n",
    "    va_pred_binary = va_pred_prob > 0.3625\n",
    "\n",
    "    # 各スコアを計算\n",
    "    scores_logloss.append(log_loss(va_y, va_pred_prob))\n",
    "    scores_accuracy.append(accuracy_score(va_y, va_pred_binary))\n",
    "    scores_auc.append(roc_auc_score(va_y, va_pred_prob))\n",
    "    scores_f1.append(f1_score(va_y, va_pred_binary))\n",
    "    scores_precision.append(precision_score(va_y, va_pred_binary))\n",
    "    scores_recall.append(recall_score(va_y, va_pred_binary))\n",
    "    scores_brier.append(brier_score_loss(va_y, va_pred_prob))\n",
    "\n",
    "# 平均スコアを出力\n",
    "print(f'Log Loss: {np.mean(scores_logloss):.4f}')\n",
    "print(f'Accuracy: {np.mean(scores_accuracy):.4f}')\n",
    "print(f'AUC-ROC: {np.mean(scores_auc):.4f}')\n",
    "print(f'F1 Score: {np.mean(scores_f1):.4f}')\n",
    "print(f'Precision: {np.mean(scores_precision):.4f}')\n",
    "print(f'Recall: {np.mean(scores_recall):.4f}')\n",
    "print(f'Brier Score: {np.mean(scores_brier):.4f}')\n",
    "\"\"\"\n"
   ]
  },
  {
   "cell_type": "markdown",
   "metadata": {},
   "source": [
    "### モデルの作成・予測"
   ]
  },
  {
   "cell_type": "code",
   "execution_count": null,
   "metadata": {},
   "outputs": [
    {
     "name": "stdout",
     "output_type": "stream",
     "text": [
      "   PassengerId  Survived\n",
      "0          892         0\n",
      "1          893         1\n",
      "2          894         0\n",
      "3          895         0\n",
      "4          896         1\n"
     ]
    }
   ],
   "source": [
    "\"\"\"\n",
    "# クロスバリデーションで最適なしきい値を見つける\n",
    "best_threshold = 0.3625  # 以前のコードで求めた最適なしきい値\n",
    "\n",
    "# モデル作成\n",
    "model = XGBClassifier(n_estimators=20, random_state=71, max_depth=2, min_child_weight=6.0)\n",
    "model.fit(train_x, train_y)\n",
    "\n",
    "# テストデータの予測確率を取得\n",
    "pred_prob = model.predict_proba(test_x)[:, 1]\n",
    "\n",
    "# 最適なしきい値を使用して予測値を二値に変換\n",
    "pred_label = np.where(pred_prob > best_threshold, 1, 0)\n",
    "\n",
    "# 提出用ファイルの作成\n",
    "submission = pd.DataFrame({\n",
    "    'PassengerId': test['PassengerId'], \n",
    "    'Survived': pred_label\n",
    "})\n",
    "\n",
    "# 提出用ファイルの保存（例: 'submission.csv'）\n",
    "#submission.to_csv('submit/submission_eight.csv', index=False)\n",
    "\n",
    "# 出力確認\n",
    "print(submission.head())\n",
    "\"\"\""
   ]
  },
  {
   "cell_type": "markdown",
   "metadata": {},
   "source": [
    "# 保存する前で0.76315"
   ]
  },
  {
   "cell_type": "markdown",
   "metadata": {},
   "source": [
    "# 数値の変更忘れずに！！！"
   ]
  }
 ],
 "metadata": {
  "kernelspec": {
   "display_name": "Python 3",
   "language": "python",
   "name": "python3"
  },
  "language_info": {
   "codemirror_mode": {
    "name": "ipython",
    "version": 3
   },
   "file_extension": ".py",
   "mimetype": "text/x-python",
   "name": "python",
   "nbconvert_exporter": "python",
   "pygments_lexer": "ipython3",
   "version": "3.12.6"
  }
 },
 "nbformat": 4,
 "nbformat_minor": 2
}
