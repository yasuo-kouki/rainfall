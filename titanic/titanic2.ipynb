{
 "cells": [
  {
   "cell_type": "code",
   "execution_count": 732,
   "metadata": {},
   "outputs": [],
   "source": [
    "import pandas as pd\n",
    "import numpy as np"
   ]
  },
  {
   "cell_type": "markdown",
   "metadata": {},
   "source": [
    "データの読み込み"
   ]
  },
  {
   "cell_type": "code",
   "execution_count": 733,
   "metadata": {},
   "outputs": [],
   "source": [
    "train = pd.read_csv('train.csv')\n",
    "test = pd.read_csv('test.csv')"
   ]
  },
  {
   "cell_type": "code",
   "execution_count": 734,
   "metadata": {},
   "outputs": [
    {
     "data": {
      "text/html": [
       "<div>\n",
       "<style scoped>\n",
       "    .dataframe tbody tr th:only-of-type {\n",
       "        vertical-align: middle;\n",
       "    }\n",
       "\n",
       "    .dataframe tbody tr th {\n",
       "        vertical-align: top;\n",
       "    }\n",
       "\n",
       "    .dataframe thead th {\n",
       "        text-align: right;\n",
       "    }\n",
       "</style>\n",
       "<table border=\"1\" class=\"dataframe\">\n",
       "  <thead>\n",
       "    <tr style=\"text-align: right;\">\n",
       "      <th></th>\n",
       "      <th>PassengerId</th>\n",
       "      <th>Survived</th>\n",
       "      <th>Pclass</th>\n",
       "      <th>Name</th>\n",
       "      <th>Sex</th>\n",
       "      <th>Age</th>\n",
       "      <th>SibSp</th>\n",
       "      <th>Parch</th>\n",
       "      <th>Ticket</th>\n",
       "      <th>Fare</th>\n",
       "      <th>Cabin</th>\n",
       "      <th>Embarked</th>\n",
       "    </tr>\n",
       "  </thead>\n",
       "  <tbody>\n",
       "    <tr>\n",
       "      <th>0</th>\n",
       "      <td>1</td>\n",
       "      <td>0</td>\n",
       "      <td>3</td>\n",
       "      <td>Braund, Mr. Owen Harris</td>\n",
       "      <td>male</td>\n",
       "      <td>22.0</td>\n",
       "      <td>1</td>\n",
       "      <td>0</td>\n",
       "      <td>A/5 21171</td>\n",
       "      <td>7.2500</td>\n",
       "      <td>NaN</td>\n",
       "      <td>S</td>\n",
       "    </tr>\n",
       "    <tr>\n",
       "      <th>1</th>\n",
       "      <td>2</td>\n",
       "      <td>1</td>\n",
       "      <td>1</td>\n",
       "      <td>Cumings, Mrs. John Bradley (Florence Briggs Th...</td>\n",
       "      <td>female</td>\n",
       "      <td>38.0</td>\n",
       "      <td>1</td>\n",
       "      <td>0</td>\n",
       "      <td>PC 17599</td>\n",
       "      <td>71.2833</td>\n",
       "      <td>C85</td>\n",
       "      <td>C</td>\n",
       "    </tr>\n",
       "    <tr>\n",
       "      <th>2</th>\n",
       "      <td>3</td>\n",
       "      <td>1</td>\n",
       "      <td>3</td>\n",
       "      <td>Heikkinen, Miss. Laina</td>\n",
       "      <td>female</td>\n",
       "      <td>26.0</td>\n",
       "      <td>0</td>\n",
       "      <td>0</td>\n",
       "      <td>STON/O2. 3101282</td>\n",
       "      <td>7.9250</td>\n",
       "      <td>NaN</td>\n",
       "      <td>S</td>\n",
       "    </tr>\n",
       "    <tr>\n",
       "      <th>3</th>\n",
       "      <td>4</td>\n",
       "      <td>1</td>\n",
       "      <td>1</td>\n",
       "      <td>Futrelle, Mrs. Jacques Heath (Lily May Peel)</td>\n",
       "      <td>female</td>\n",
       "      <td>35.0</td>\n",
       "      <td>1</td>\n",
       "      <td>0</td>\n",
       "      <td>113803</td>\n",
       "      <td>53.1000</td>\n",
       "      <td>C123</td>\n",
       "      <td>S</td>\n",
       "    </tr>\n",
       "    <tr>\n",
       "      <th>4</th>\n",
       "      <td>5</td>\n",
       "      <td>0</td>\n",
       "      <td>3</td>\n",
       "      <td>Allen, Mr. William Henry</td>\n",
       "      <td>male</td>\n",
       "      <td>35.0</td>\n",
       "      <td>0</td>\n",
       "      <td>0</td>\n",
       "      <td>373450</td>\n",
       "      <td>8.0500</td>\n",
       "      <td>NaN</td>\n",
       "      <td>S</td>\n",
       "    </tr>\n",
       "  </tbody>\n",
       "</table>\n",
       "</div>"
      ],
      "text/plain": [
       "   PassengerId  Survived  Pclass  \\\n",
       "0            1         0       3   \n",
       "1            2         1       1   \n",
       "2            3         1       3   \n",
       "3            4         1       1   \n",
       "4            5         0       3   \n",
       "\n",
       "                                                Name     Sex   Age  SibSp  \\\n",
       "0                            Braund, Mr. Owen Harris    male  22.0      1   \n",
       "1  Cumings, Mrs. John Bradley (Florence Briggs Th...  female  38.0      1   \n",
       "2                             Heikkinen, Miss. Laina  female  26.0      0   \n",
       "3       Futrelle, Mrs. Jacques Heath (Lily May Peel)  female  35.0      1   \n",
       "4                           Allen, Mr. William Henry    male  35.0      0   \n",
       "\n",
       "   Parch            Ticket     Fare Cabin Embarked  \n",
       "0      0         A/5 21171   7.2500   NaN        S  \n",
       "1      0          PC 17599  71.2833   C85        C  \n",
       "2      0  STON/O2. 3101282   7.9250   NaN        S  \n",
       "3      0            113803  53.1000  C123        S  \n",
       "4      0            373450   8.0500   NaN        S  "
      ]
     },
     "execution_count": 734,
     "metadata": {},
     "output_type": "execute_result"
    }
   ],
   "source": [
    "train.head()"
   ]
  },
  {
   "cell_type": "markdown",
   "metadata": {},
   "source": [
    "学習データを特徴量と目的変数に分ける"
   ]
  },
  {
   "cell_type": "code",
   "execution_count": 735,
   "metadata": {},
   "outputs": [],
   "source": [
    "train_x = train.drop(['Survived'],axis=1)\n",
    "train_y = train['Survived']\n",
    "\n",
    "#テストデータは特徴量のみなのでそのまま\n",
    "test_x = test.copy()"
   ]
  },
  {
   "cell_type": "markdown",
   "metadata": {},
   "source": [
    "データの揺れ(型)を確認する"
   ]
  },
  {
   "cell_type": "code",
   "execution_count": 736,
   "metadata": {},
   "outputs": [
    {
     "data": {
      "text/plain": [
       "PassengerId      int64\n",
       "Pclass           int64\n",
       "Name            object\n",
       "Sex             object\n",
       "Age            float64\n",
       "SibSp            int64\n",
       "Parch            int64\n",
       "Ticket          object\n",
       "Fare           float64\n",
       "Cabin           object\n",
       "Embarked        object\n",
       "dtype: object"
      ]
     },
     "execution_count": 736,
     "metadata": {},
     "output_type": "execute_result"
    }
   ],
   "source": [
    "train_x.dtypes"
   ]
  },
  {
   "cell_type": "markdown",
   "metadata": {},
   "source": [
    "データの欠損値の確認をする"
   ]
  },
  {
   "cell_type": "code",
   "execution_count": 737,
   "metadata": {},
   "outputs": [
    {
     "data": {
      "text/plain": [
       "PassengerId      0\n",
       "Pclass           0\n",
       "Name             0\n",
       "Sex              0\n",
       "Age            177\n",
       "SibSp            0\n",
       "Parch            0\n",
       "Ticket           0\n",
       "Fare             0\n",
       "Cabin          687\n",
       "Embarked         2\n",
       "dtype: int64"
      ]
     },
     "execution_count": 737,
     "metadata": {},
     "output_type": "execute_result"
    }
   ],
   "source": [
    "train_x.isnull().sum()"
   ]
  },
  {
   "cell_type": "code",
   "execution_count": 738,
   "metadata": {},
   "outputs": [
    {
     "data": {
      "text/plain": [
       "PassengerId      0\n",
       "Pclass           0\n",
       "Name             0\n",
       "Sex              0\n",
       "Age             86\n",
       "SibSp            0\n",
       "Parch            0\n",
       "Ticket           0\n",
       "Fare             1\n",
       "Cabin          327\n",
       "Embarked         0\n",
       "dtype: int64"
      ]
     },
     "execution_count": 738,
     "metadata": {},
     "output_type": "execute_result"
    }
   ],
   "source": [
    "test_x.isnull().sum()"
   ]
  },
  {
   "cell_type": "markdown",
   "metadata": {},
   "source": [
    "####  変数の削除をする"
   ]
  },
  {
   "cell_type": "code",
   "execution_count": 739,
   "metadata": {},
   "outputs": [],
   "source": [
    "#変数PassengeerIdを削除する\n",
    "train_x = train_x.drop(['PassengerId'],axis=1)\n",
    "test_x = test_x.drop(['PassengerId'],axis=1)"
   ]
  },
  {
   "cell_type": "markdown",
   "metadata": {},
   "source": [
    "## データの確認"
   ]
  },
  {
   "cell_type": "markdown",
   "metadata": {},
   "source": [
    "年齢の分布を確認"
   ]
  },
  {
   "cell_type": "code",
   "execution_count": 740,
   "metadata": {},
   "outputs": [
    {
     "data": {
      "image/png": "[encoded data removed]",
      "text/plain": [
       "<Figure size 800x500 with 1 Axes>"
      ]
     },
     "metadata": {},
     "output_type": "display_data"
    }
   ],
   "source": [
    "import matplotlib.pyplot as plt\n",
    "import seaborn as sns\n",
    "\n",
    "plt.figure(figsize=(8, 5))\n",
    "sns.histplot(train_x['Age'], bins=30, kde=True, color='blue')  # KDE=Trueで確率密度関数も描画\n",
    "plt.xlabel(\"Age\")\n",
    "plt.ylabel(\"Count\")\n",
    "plt.title(\"Distribution of Age\")\n",
    "plt.grid(True)\n",
    "plt.show()"
   ]
  },
  {
   "cell_type": "markdown",
   "metadata": {},
   "source": [
    "NaNが2つ以上ある行を確認"
   ]
  },
  {
   "cell_type": "code",
   "execution_count": 741,
   "metadata": {},
   "outputs": [
    {
     "name": "stdout",
     "output_type": "stream",
     "text": [
      "     Pclass                                      Name     Sex  Age  SibSp  \\\n",
      "5         3                          Moran, Mr. James    male  NaN      0   \n",
      "17        2              Williams, Mr. Charles Eugene    male  NaN      0   \n",
      "19        3                   Masselmani, Mrs. Fatima  female  NaN      0   \n",
      "26        3                   Emir, Mr. Farred Chehab    male  NaN      0   \n",
      "28        3             O'Dwyer, Miss. Ellen \"Nellie\"  female  NaN      0   \n",
      "..      ...                                       ...     ...  ...    ...   \n",
      "859       3                          Razi, Mr. Raihed    male  NaN      0   \n",
      "863       3         Sage, Miss. Dorothy Edith \"Dolly\"  female  NaN      8   \n",
      "868       3               van Melkebeke, Mr. Philemon    male  NaN      0   \n",
      "878       3                        Laleff, Mr. Kristo    male  NaN      0   \n",
      "888       3  Johnston, Miss. Catherine Helen \"Carrie\"  female  NaN      1   \n",
      "\n",
      "     Parch      Ticket     Fare Cabin Embarked  \n",
      "5        0      330877   8.4583   NaN        Q  \n",
      "17       0      244373  13.0000   NaN        S  \n",
      "19       0        2649   7.2250   NaN        C  \n",
      "26       0        2631   7.2250   NaN        C  \n",
      "28       0      330959   7.8792   NaN        Q  \n",
      "..     ...         ...      ...   ...      ...  \n",
      "859      0        2629   7.2292   NaN        C  \n",
      "863      2    CA. 2343  69.5500   NaN        S  \n",
      "868      0      345777   9.5000   NaN        S  \n",
      "878      0      349217   7.8958   NaN        S  \n",
      "888      2  W./C. 6607  23.4500   NaN        S  \n",
      "\n",
      "[158 rows x 10 columns]\n"
     ]
    }
   ],
   "source": [
    "nan_rows = train_x[train_x.isna().sum(axis=1) >= 2]\n",
    "print(nan_rows)\n",
    "#3個あるものはなかった"
   ]
  },
  {
   "cell_type": "markdown",
   "metadata": {},
   "source": [
    "ただ乗りしている人がいる！？"
   ]
  },
  {
   "cell_type": "code",
   "execution_count": 742,
   "metadata": {},
   "outputs": [
    {
     "name": "stdout",
     "output_type": "stream",
     "text": [
      "     Pclass                              Name   Sex   Age  SibSp  Parch  \\\n",
      "179       3               Leonard, Mr. Lionel  male  36.0      0      0   \n",
      "263       1             Harrison, Mr. William  male  40.0      0      0   \n",
      "271       3      Tornquist, Mr. William Henry  male  25.0      0      0   \n",
      "277       2       Parkes, Mr. Francis \"Frank\"  male   NaN      0      0   \n",
      "302       3   Johnson, Mr. William Cahoone Jr  male  19.0      0      0   \n",
      "413       2    Cunningham, Mr. Alfred Fleming  male   NaN      0      0   \n",
      "466       2             Campbell, Mr. William  male   NaN      0      0   \n",
      "481       2  Frost, Mr. Anthony Wood \"Archie\"  male   NaN      0      0   \n",
      "597       3               Johnson, Mr. Alfred  male  49.0      0      0   \n",
      "633       1     Parr, Mr. William Henry Marsh  male   NaN      0      0   \n",
      "674       2        Watson, Mr. Ennis Hastings  male   NaN      0      0   \n",
      "732       2              Knight, Mr. Robert J  male   NaN      0      0   \n",
      "806       1            Andrews, Mr. Thomas Jr  male  39.0      0      0   \n",
      "815       1                  Fry, Mr. Richard  male   NaN      0      0   \n",
      "822       1   Reuchlin, Jonkheer. John George  male  38.0      0      0   \n",
      "\n",
      "     Ticket  Fare Cabin Embarked  \n",
      "179    LINE   0.0   NaN        S  \n",
      "263  112059   0.0   B94        S  \n",
      "271    LINE   0.0   NaN        S  \n",
      "277  239853   0.0   NaN        S  \n",
      "302    LINE   0.0   NaN        S  \n",
      "413  239853   0.0   NaN        S  \n",
      "466  239853   0.0   NaN        S  \n",
      "481  239854   0.0   NaN        S  \n",
      "597    LINE   0.0   NaN        S  \n",
      "633  112052   0.0   NaN        S  \n",
      "674  239856   0.0   NaN        S  \n",
      "732  239855   0.0   NaN        S  \n",
      "806  112050   0.0   A36        S  \n",
      "815  112058   0.0  B102        S  \n",
      "822   19972   0.0   NaN        S  \n"
     ]
    }
   ],
   "source": [
    "fare_zero_rows = train_x[train_x['Fare'] == 0]\n",
    "print(fare_zero_rows)"
   ]
  },
  {
   "cell_type": "markdown",
   "metadata": {},
   "source": [
    "## 特徴量の作成"
   ]
  },
  {
   "cell_type": "markdown",
   "metadata": {},
   "source": [
    "### 行のNaNの数の特徴量を作成する"
   ]
  },
  {
   "cell_type": "code",
   "execution_count": 743,
   "metadata": {},
   "outputs": [],
   "source": [
    "#train_x[\"num_missing\"] = train_x.isna().sum(axis=1)\n",
    "#test_x[\"num_missing\"] = test_x.isna().sum(axis=1)"
   ]
  },
  {
   "cell_type": "markdown",
   "metadata": {},
   "source": [
    "### Fareが０の特徴量の列の作成"
   ]
  },
  {
   "cell_type": "code",
   "execution_count": 744,
   "metadata": {},
   "outputs": [],
   "source": [
    "#使えなかった\n",
    "train_x[\"fare_zero\"] = (train_x['Fare'] == 0).astype(int)\n",
    "test_x[\"fare_zero\"] = (test_x['Fare'] == 0).astype(int)"
   ]
  },
  {
   "cell_type": "markdown",
   "metadata": {},
   "source": [
    "### Cabinから新たな特徴量を作成する"
   ]
  },
  {
   "cell_type": "code",
   "execution_count": 745,
   "metadata": {},
   "outputs": [
    {
     "name": "stdout",
     "output_type": "stream",
     "text": [
      "0      NaN\n",
      "1        C\n",
      "2      NaN\n",
      "3        C\n",
      "4      NaN\n",
      "      ... \n",
      "886    NaN\n",
      "887      B\n",
      "888    NaN\n",
      "889      C\n",
      "890    NaN\n",
      "Name: Cabin_Deck, Length: 891, dtype: object\n"
     ]
    }
   ],
   "source": [
    "train_x['Cabin_Deck'] = train_x['Cabin'].astype(str).str[0]\n",
    "train_x.loc[train_x['Cabin'].isna(),'Cabin_Deck'] = np.nan\n",
    "\n",
    "test_x['Cabin_Deck'] = test_x['Cabin'].astype(str).str[0]\n",
    "test_x.loc[test_x['Cabin'].isna(),'Cabin_Deck'] = np.nan\n",
    "\n",
    "print(train_x['Cabin_Deck'])"
   ]
  },
  {
   "cell_type": "markdown",
   "metadata": {},
   "source": [
    "### Name列からタイトルを抽出"
   ]
  },
  {
   "cell_type": "code",
   "execution_count": 746,
   "metadata": {},
   "outputs": [
    {
     "name": "stdout",
     "output_type": "stream",
     "text": [
      "Title\n",
      "Mr        517\n",
      "Miss      182\n",
      "Mrs       125\n",
      "Master     40\n",
      "Rare       27\n",
      "Name: count, dtype: int64\n",
      "Title\n",
      "Mr        240\n",
      "Miss       78\n",
      "Mrs        72\n",
      "Master     21\n",
      "Rare        7\n",
      "Name: count, dtype: int64\n"
     ]
    }
   ],
   "source": [
    "# Name列からタイトルを抽出\n",
    "train_x['Title'] = train_x['Name'].str.extract(r',\\s*([^\\.]+)\\.')\n",
    "test_x['Title'] = test_x['Name'].str.extract(r',\\s*([^\\.]+)\\.')\n",
    "\n",
    "# 稀なタイトルを結合\n",
    "rare_titles = ['Lady', 'Countess', 'Capt', 'Col', 'Don', 'Dr', 'Major', 'Rev', 'Sir', \n",
    "               'Jonkheer', 'Dona', 'Mlle', 'Mme', 'Ms', 'the Countess']\n",
    "train_x['Title'] = train_x['Title'].replace(rare_titles,'Rare')\n",
    "test_x['Title'] = test_x['Title'].replace(rare_titles,'Rare')\n",
    "\n",
    "print(train_x['Title'].value_counts())\n",
    "print(test_x['Title'].value_counts())"
   ]
  },
  {
   "cell_type": "markdown",
   "metadata": {},
   "source": [
    "### 家族人数の特徴量の作成をする"
   ]
  },
  {
   "cell_type": "code",
   "execution_count": 747,
   "metadata": {},
   "outputs": [],
   "source": [
    "#家族人数の合計\n",
    "train_x['FamilySize'] = train_x['SibSp'] + train_x['Parch'] + 1\n",
    "test_x['FamilySize'] = test_x['SibSp'] + test_x['Parch'] + 1"
   ]
  },
  {
   "cell_type": "markdown",
   "metadata": {},
   "source": [
    "### 料金/家族人数の特徴量を作成する"
   ]
  },
  {
   "cell_type": "code",
   "execution_count": 748,
   "metadata": {},
   "outputs": [
    {
     "data": {
      "text/plain": [
       "0       3.62500\n",
       "1      35.64165\n",
       "2       7.92500\n",
       "3      26.55000\n",
       "4       8.05000\n",
       "         ...   \n",
       "886    13.00000\n",
       "887    30.00000\n",
       "888     5.86250\n",
       "889    30.00000\n",
       "890     7.75000\n",
       "Name: FarePerFamilyMember, Length: 891, dtype: float64"
      ]
     },
     "execution_count": 748,
     "metadata": {},
     "output_type": "execute_result"
    }
   ],
   "source": [
    "train_x['FarePerFamilyMember'] = train_x['Fare'] / train_x['FamilySize']\n",
    "test_x['FarePerFamilyMember'] = test_x['Fare'] / train_x['FamilySize']\n",
    "\n",
    "train_x['FarePerFamilyMember']"
   ]
  },
  {
   "cell_type": "markdown",
   "metadata": {},
   "source": [
    "### LastNameの特徴量を作成する"
   ]
  },
  {
   "cell_type": "code",
   "execution_count": 749,
   "metadata": {},
   "outputs": [],
   "source": [
    "#姓(LastName)を抽出して新しい列に追加\n",
    "train_x['LastName'] = train['Name'].str.split(',').str[0]\n",
    "test_x['LastName'] = test['Name'].str.split(',').str[0]"
   ]
  },
  {
   "cell_type": "code",
   "execution_count": 750,
   "metadata": {},
   "outputs": [
    {
     "data": {
      "text/plain": [
       "LastName\n",
       "Andersson    9\n",
       "Sage         7\n",
       "Panula       6\n",
       "Skoog        6\n",
       "Carter       6\n",
       "            ..\n",
       "Hanna        1\n",
       "Lewy         1\n",
       "Mineff       1\n",
       "Haas         1\n",
       "Dooley       1\n",
       "Name: count, Length: 667, dtype: int64"
      ]
     },
     "execution_count": 750,
     "metadata": {},
     "output_type": "execute_result"
    }
   ],
   "source": [
    "train_x['LastName'].value_counts()"
   ]
  },
  {
   "cell_type": "markdown",
   "metadata": {},
   "source": [
    "### LastNameからSameNameの列を作成する"
   ]
  },
  {
   "cell_type": "code",
   "execution_count": 751,
   "metadata": {},
   "outputs": [],
   "source": [
    "#LastNameの登場回数を記録\n",
    "train_x['Same_Name'] = train_x['LastName'].map(train_x['LastName'].value_counts())\n",
    "test_x['Same_Name'] = test_x['LastName'].map(test_x['LastName'].value_counts())"
   ]
  },
  {
   "cell_type": "markdown",
   "metadata": {},
   "source": [
    "### Ticketから特徴量を作る"
   ]
  },
  {
   "cell_type": "code",
   "execution_count": 752,
   "metadata": {},
   "outputs": [],
   "source": [
    "def classify_ticket(ticket):\n",
    "    #  1. Numeric（すべて数値）\n",
    "    if ticket.isdigit():\n",
    "        return \"Numeric\"\n",
    "    \n",
    "    #  2. SpecialChar（\"/\" や \".\" を含む場合）\n",
    "    elif \"/\" in ticket or \".\" in ticket:\n",
    "        return \"SpecialChar\"\n",
    "    \n",
    "    #  3. Alphanumeric（英字と数字の両方を含む場合）\n",
    "    elif any(char.isdigit() for char in ticket) and any(char.isalpha() for char in ticket):\n",
    "        return \"Alphanumeric\"\n",
    "    \n",
    "    #  4. Unknown（どれにも当てはまらない場合）\n",
    "    else:\n",
    "        return \"Unknown\""
   ]
  },
  {
   "cell_type": "code",
   "execution_count": 753,
   "metadata": {},
   "outputs": [
    {
     "name": "stdout",
     "output_type": "stream",
     "text": [
      "Ticket_Tpye\n",
      "Numeric         661\n",
      "SpecialChar     150\n",
      "Alphanumeric     76\n",
      "Unknown           4\n",
      "Name: count, dtype: int64\n"
     ]
    }
   ],
   "source": [
    "train_x[\"Ticket_Tpye\"] = train_x[\"Ticket\"].apply(classify_ticket)\n",
    "test_x[\"Ticket_Tpye\"] = test_x[\"Ticket\"].apply(classify_ticket)\n",
    "print(train_x['Ticket_Tpye'].value_counts())"
   ]
  },
  {
   "cell_type": "code",
   "execution_count": 754,
   "metadata": {},
   "outputs": [
    {
     "data": {
      "text/plain": [
       "0             A/5 21171\n",
       "2      STON/O2. 3101282\n",
       "12            A/5. 2151\n",
       "33           C.A. 24579\n",
       "37           A./5. 2152\n",
       "             ...       \n",
       "866       SC/PARIS 2149\n",
       "874           P/PP 3381\n",
       "883    C.A./SOTON 34068\n",
       "884     SOTON/OQ 392076\n",
       "888          W./C. 6607\n",
       "Name: Ticket, Length: 150, dtype: object"
      ]
     },
     "execution_count": 754,
     "metadata": {},
     "output_type": "execute_result"
    }
   ],
   "source": [
    "#正しく分類できているか確認\n",
    "train_x[train_x[\"Ticket_Tpye\"] == \"SpecialChar\"][\"Ticket\"]"
   ]
  },
  {
   "cell_type": "markdown",
   "metadata": {},
   "source": [
    "### 子どもだけの特徴量を作成したい"
   ]
  },
  {
   "cell_type": "code",
   "execution_count": 755,
   "metadata": {},
   "outputs": [
    {
     "name": "stdout",
     "output_type": "stream",
     "text": [
      "     Pclass                                               Name     Sex   Age  \\\n",
      "1         1  Cumings, Mrs. John Bradley (Florence Briggs Th...  female  38.0   \n",
      "3         1       Futrelle, Mrs. Jacques Heath (Lily May Peel)  female  35.0   \n",
      "9         2                Nasser, Mrs. Nicholas (Adele Achem)  female  14.0   \n",
      "18        3  Vander Planke, Mrs. Julius (Emelia Maria Vande...  female  31.0   \n",
      "25        3  Asplund, Mrs. Carl Oscar (Selma Augusta Emilia...  female  38.0   \n",
      "..      ...                                                ...     ...   ...   \n",
      "849       1       Goldenberg, Mrs. Samuel L (Edwiga Grabowska)  female   NaN   \n",
      "854       2      Carter, Mrs. Ernest Courtenay (Lilian Hughes)  female  44.0   \n",
      "856       1         Wick, Mrs. George Dennick (Mary Hitchcock)  female  45.0   \n",
      "871       1   Beckwith, Mrs. Richard Leonard (Sallie Monypeny)  female  47.0   \n",
      "874       2              Abelson, Mrs. Samuel (Hannah Wizosky)  female  28.0   \n",
      "\n",
      "     SibSp  Parch     Ticket      Fare Cabin Embarked  fare_zero Cabin_Deck  \\\n",
      "1        1      0   PC 17599   71.2833   C85        C          0          C   \n",
      "3        1      0     113803   53.1000  C123        S          0          C   \n",
      "9        1      0     237736   30.0708   NaN        C          0        NaN   \n",
      "18       1      0     345763   18.0000   NaN        S          0        NaN   \n",
      "25       1      5     347077   31.3875   NaN        S          0        NaN   \n",
      "..     ...    ...        ...       ...   ...      ...        ...        ...   \n",
      "849      1      0      17453   89.1042   C92        C          0          C   \n",
      "854      1      0     244252   26.0000   NaN        S          0        NaN   \n",
      "856      1      1      36928  164.8667   NaN        S          0        NaN   \n",
      "871      1      1      11751   52.5542   D35        S          0          D   \n",
      "874      1      0  P/PP 3381   24.0000   NaN        C          0        NaN   \n",
      "\n",
      "    Title  FamilySize  FarePerFamilyMember       LastName  Same_Name  \\\n",
      "1     Mrs           2            35.641650        Cumings          1   \n",
      "3     Mrs           2            26.550000       Futrelle          2   \n",
      "9     Mrs           2            15.035400         Nasser          2   \n",
      "18    Mrs           2             9.000000  Vander Planke          3   \n",
      "25    Mrs           7             4.483929        Asplund          4   \n",
      "..    ...         ...                  ...            ...        ...   \n",
      "849   Mrs           2            44.552100     Goldenberg          2   \n",
      "854   Mrs           2            13.000000         Carter          6   \n",
      "856   Mrs           3            54.955567           Wick          2   \n",
      "871   Mrs           3            17.518067       Beckwith          2   \n",
      "874   Mrs           2            12.000000        Abelson          2   \n",
      "\n",
      "      Ticket_Tpye  \n",
      "1    Alphanumeric  \n",
      "3         Numeric  \n",
      "9         Numeric  \n",
      "18        Numeric  \n",
      "25        Numeric  \n",
      "..            ...  \n",
      "849       Numeric  \n",
      "854       Numeric  \n",
      "856       Numeric  \n",
      "871       Numeric  \n",
      "874   SpecialChar  \n",
      "\n",
      "[75 rows x 18 columns]\n"
     ]
    }
   ],
   "source": [
    "#妻から夫を算出\n",
    "filtered_rows = train_x[(train_x[\"Title\"] == \"Mrs\") & (train_x[\"SibSp\"] == 1)]\n",
    "print(filtered_rows)"
   ]
  },
  {
   "cell_type": "markdown",
   "metadata": {},
   "source": [
    "### 子か親の欄を2人いる時は親だと仮定して特徴量の作成"
   ]
  },
  {
   "cell_type": "code",
   "execution_count": 756,
   "metadata": {},
   "outputs": [],
   "source": [
    "#train_x['Parch_child'] = (train_x['Parch']==2) & ((train_x['Title'] == 'Miss') | (train_x['Parch'] == 'Master'))\n",
    "#train_x"
   ]
  },
  {
   "cell_type": "markdown",
   "metadata": {},
   "source": [
    "### Ageデータの結合"
   ]
  },
  {
   "cell_type": "code",
   "execution_count": 757,
   "metadata": {},
   "outputs": [],
   "source": [
    "train_age_data = pd.read_csv('train_age_data.csv')\n",
    "test_age_data = pd.read_csv('test_age_data.csv')\n",
    "\n",
    "train_x = pd.concat([train_x,train_age_data['Predict_Age']],axis=1)\n",
    "test_x = pd.concat([test_x,test_age_data['Predict_Age']],axis=1)"
   ]
  },
  {
   "cell_type": "markdown",
   "metadata": {},
   "source": [
    "### Ageを二値に分類"
   ]
  },
  {
   "cell_type": "code",
   "execution_count": 758,
   "metadata": {},
   "outputs": [],
   "source": [
    "train_x['Age_missing'] = train_x['Age'].isnull().astype(int)\n",
    "test_x['Age_missing'] = test_x['Age'].isnull().astype(int)"
   ]
  },
  {
   "cell_type": "markdown",
   "metadata": {},
   "source": [
    "### 最終データ確認"
   ]
  },
  {
   "cell_type": "code",
   "execution_count": 759,
   "metadata": {},
   "outputs": [
    {
     "data": {
      "text/html": [
       "<div>\n",
       "<style scoped>\n",
       "    .dataframe tbody tr th:only-of-type {\n",
       "        vertical-align: middle;\n",
       "    }\n",
       "\n",
       "    .dataframe tbody tr th {\n",
       "        vertical-align: top;\n",
       "    }\n",
       "\n",
       "    .dataframe thead th {\n",
       "        text-align: right;\n",
       "    }\n",
       "</style>\n",
       "<table border=\"1\" class=\"dataframe\">\n",
       "  <thead>\n",
       "    <tr style=\"text-align: right;\">\n",
       "      <th></th>\n",
       "      <th>Pclass</th>\n",
       "      <th>Name</th>\n",
       "      <th>Sex</th>\n",
       "      <th>Age</th>\n",
       "      <th>SibSp</th>\n",
       "      <th>Parch</th>\n",
       "      <th>Ticket</th>\n",
       "      <th>Fare</th>\n",
       "      <th>Cabin</th>\n",
       "      <th>Embarked</th>\n",
       "      <th>fare_zero</th>\n",
       "      <th>Cabin_Deck</th>\n",
       "      <th>Title</th>\n",
       "      <th>FamilySize</th>\n",
       "      <th>FarePerFamilyMember</th>\n",
       "      <th>LastName</th>\n",
       "      <th>Same_Name</th>\n",
       "      <th>Ticket_Tpye</th>\n",
       "      <th>Predict_Age</th>\n",
       "      <th>Age_missing</th>\n",
       "    </tr>\n",
       "  </thead>\n",
       "  <tbody>\n",
       "    <tr>\n",
       "      <th>0</th>\n",
       "      <td>3</td>\n",
       "      <td>Braund, Mr. Owen Harris</td>\n",
       "      <td>male</td>\n",
       "      <td>22.0</td>\n",
       "      <td>1</td>\n",
       "      <td>0</td>\n",
       "      <td>A/5 21171</td>\n",
       "      <td>7.2500</td>\n",
       "      <td>NaN</td>\n",
       "      <td>S</td>\n",
       "      <td>0</td>\n",
       "      <td>NaN</td>\n",
       "      <td>Mr</td>\n",
       "      <td>2</td>\n",
       "      <td>3.62500</td>\n",
       "      <td>Braund</td>\n",
       "      <td>2</td>\n",
       "      <td>SpecialChar</td>\n",
       "      <td>22.0</td>\n",
       "      <td>0</td>\n",
       "    </tr>\n",
       "    <tr>\n",
       "      <th>1</th>\n",
       "      <td>1</td>\n",
       "      <td>Cumings, Mrs. John Bradley (Florence Briggs Th...</td>\n",
       "      <td>female</td>\n",
       "      <td>38.0</td>\n",
       "      <td>1</td>\n",
       "      <td>0</td>\n",
       "      <td>PC 17599</td>\n",
       "      <td>71.2833</td>\n",
       "      <td>C85</td>\n",
       "      <td>C</td>\n",
       "      <td>0</td>\n",
       "      <td>C</td>\n",
       "      <td>Mrs</td>\n",
       "      <td>2</td>\n",
       "      <td>35.64165</td>\n",
       "      <td>Cumings</td>\n",
       "      <td>1</td>\n",
       "      <td>Alphanumeric</td>\n",
       "      <td>38.0</td>\n",
       "      <td>0</td>\n",
       "    </tr>\n",
       "    <tr>\n",
       "      <th>2</th>\n",
       "      <td>3</td>\n",
       "      <td>Heikkinen, Miss. Laina</td>\n",
       "      <td>female</td>\n",
       "      <td>26.0</td>\n",
       "      <td>0</td>\n",
       "      <td>0</td>\n",
       "      <td>STON/O2. 3101282</td>\n",
       "      <td>7.9250</td>\n",
       "      <td>NaN</td>\n",
       "      <td>S</td>\n",
       "      <td>0</td>\n",
       "      <td>NaN</td>\n",
       "      <td>Miss</td>\n",
       "      <td>1</td>\n",
       "      <td>7.92500</td>\n",
       "      <td>Heikkinen</td>\n",
       "      <td>1</td>\n",
       "      <td>SpecialChar</td>\n",
       "      <td>26.0</td>\n",
       "      <td>0</td>\n",
       "    </tr>\n",
       "    <tr>\n",
       "      <th>3</th>\n",
       "      <td>1</td>\n",
       "      <td>Futrelle, Mrs. Jacques Heath (Lily May Peel)</td>\n",
       "      <td>female</td>\n",
       "      <td>35.0</td>\n",
       "      <td>1</td>\n",
       "      <td>0</td>\n",
       "      <td>113803</td>\n",
       "      <td>53.1000</td>\n",
       "      <td>C123</td>\n",
       "      <td>S</td>\n",
       "      <td>0</td>\n",
       "      <td>C</td>\n",
       "      <td>Mrs</td>\n",
       "      <td>2</td>\n",
       "      <td>26.55000</td>\n",
       "      <td>Futrelle</td>\n",
       "      <td>2</td>\n",
       "      <td>Numeric</td>\n",
       "      <td>35.0</td>\n",
       "      <td>0</td>\n",
       "    </tr>\n",
       "    <tr>\n",
       "      <th>4</th>\n",
       "      <td>3</td>\n",
       "      <td>Allen, Mr. William Henry</td>\n",
       "      <td>male</td>\n",
       "      <td>35.0</td>\n",
       "      <td>0</td>\n",
       "      <td>0</td>\n",
       "      <td>373450</td>\n",
       "      <td>8.0500</td>\n",
       "      <td>NaN</td>\n",
       "      <td>S</td>\n",
       "      <td>0</td>\n",
       "      <td>NaN</td>\n",
       "      <td>Mr</td>\n",
       "      <td>1</td>\n",
       "      <td>8.05000</td>\n",
       "      <td>Allen</td>\n",
       "      <td>2</td>\n",
       "      <td>Numeric</td>\n",
       "      <td>35.0</td>\n",
       "      <td>0</td>\n",
       "    </tr>\n",
       "  </tbody>\n",
       "</table>\n",
       "</div>"
      ],
      "text/plain": [
       "   Pclass                                               Name     Sex   Age  \\\n",
       "0       3                            Braund, Mr. Owen Harris    male  22.0   \n",
       "1       1  Cumings, Mrs. John Bradley (Florence Briggs Th...  female  38.0   \n",
       "2       3                             Heikkinen, Miss. Laina  female  26.0   \n",
       "3       1       Futrelle, Mrs. Jacques Heath (Lily May Peel)  female  35.0   \n",
       "4       3                           Allen, Mr. William Henry    male  35.0   \n",
       "\n",
       "   SibSp  Parch            Ticket     Fare Cabin Embarked  fare_zero  \\\n",
       "0      1      0         A/5 21171   7.2500   NaN        S          0   \n",
       "1      1      0          PC 17599  71.2833   C85        C          0   \n",
       "2      0      0  STON/O2. 3101282   7.9250   NaN        S          0   \n",
       "3      1      0            113803  53.1000  C123        S          0   \n",
       "4      0      0            373450   8.0500   NaN        S          0   \n",
       "\n",
       "  Cabin_Deck Title  FamilySize  FarePerFamilyMember   LastName  Same_Name  \\\n",
       "0        NaN    Mr           2              3.62500     Braund          2   \n",
       "1          C   Mrs           2             35.64165    Cumings          1   \n",
       "2        NaN  Miss           1              7.92500  Heikkinen          1   \n",
       "3          C   Mrs           2             26.55000   Futrelle          2   \n",
       "4        NaN    Mr           1              8.05000      Allen          2   \n",
       "\n",
       "    Ticket_Tpye  Predict_Age  Age_missing  \n",
       "0   SpecialChar         22.0            0  \n",
       "1  Alphanumeric         38.0            0  \n",
       "2   SpecialChar         26.0            0  \n",
       "3       Numeric         35.0            0  \n",
       "4       Numeric         35.0            0  "
      ]
     },
     "execution_count": 759,
     "metadata": {},
     "output_type": "execute_result"
    }
   ],
   "source": [
    "train_x.head()"
   ]
  },
  {
   "cell_type": "code",
   "execution_count": 760,
   "metadata": {},
   "outputs": [
    {
     "data": {
      "text/html": [
       "<div>\n",
       "<style scoped>\n",
       "    .dataframe tbody tr th:only-of-type {\n",
       "        vertical-align: middle;\n",
       "    }\n",
       "\n",
       "    .dataframe tbody tr th {\n",
       "        vertical-align: top;\n",
       "    }\n",
       "\n",
       "    .dataframe thead th {\n",
       "        text-align: right;\n",
       "    }\n",
       "</style>\n",
       "<table border=\"1\" class=\"dataframe\">\n",
       "  <thead>\n",
       "    <tr style=\"text-align: right;\">\n",
       "      <th></th>\n",
       "      <th>Pclass</th>\n",
       "      <th>Name</th>\n",
       "      <th>Sex</th>\n",
       "      <th>Age</th>\n",
       "      <th>SibSp</th>\n",
       "      <th>Parch</th>\n",
       "      <th>Ticket</th>\n",
       "      <th>Fare</th>\n",
       "      <th>Cabin</th>\n",
       "      <th>Embarked</th>\n",
       "      <th>fare_zero</th>\n",
       "      <th>Cabin_Deck</th>\n",
       "      <th>Title</th>\n",
       "      <th>FamilySize</th>\n",
       "      <th>FarePerFamilyMember</th>\n",
       "      <th>LastName</th>\n",
       "      <th>Same_Name</th>\n",
       "      <th>Ticket_Tpye</th>\n",
       "      <th>Predict_Age</th>\n",
       "      <th>Age_missing</th>\n",
       "    </tr>\n",
       "  </thead>\n",
       "  <tbody>\n",
       "    <tr>\n",
       "      <th>0</th>\n",
       "      <td>3</td>\n",
       "      <td>Kelly, Mr. James</td>\n",
       "      <td>male</td>\n",
       "      <td>34.5</td>\n",
       "      <td>0</td>\n",
       "      <td>0</td>\n",
       "      <td>330911</td>\n",
       "      <td>7.8292</td>\n",
       "      <td>NaN</td>\n",
       "      <td>Q</td>\n",
       "      <td>0</td>\n",
       "      <td>NaN</td>\n",
       "      <td>Mr</td>\n",
       "      <td>1</td>\n",
       "      <td>3.91460</td>\n",
       "      <td>Kelly</td>\n",
       "      <td>1</td>\n",
       "      <td>Numeric</td>\n",
       "      <td>34.5</td>\n",
       "      <td>0</td>\n",
       "    </tr>\n",
       "    <tr>\n",
       "      <th>1</th>\n",
       "      <td>3</td>\n",
       "      <td>Wilkes, Mrs. James (Ellen Needs)</td>\n",
       "      <td>female</td>\n",
       "      <td>47.0</td>\n",
       "      <td>1</td>\n",
       "      <td>0</td>\n",
       "      <td>363272</td>\n",
       "      <td>7.0000</td>\n",
       "      <td>NaN</td>\n",
       "      <td>S</td>\n",
       "      <td>0</td>\n",
       "      <td>NaN</td>\n",
       "      <td>Mrs</td>\n",
       "      <td>2</td>\n",
       "      <td>3.50000</td>\n",
       "      <td>Wilkes</td>\n",
       "      <td>1</td>\n",
       "      <td>Numeric</td>\n",
       "      <td>47.0</td>\n",
       "      <td>0</td>\n",
       "    </tr>\n",
       "    <tr>\n",
       "      <th>2</th>\n",
       "      <td>2</td>\n",
       "      <td>Myles, Mr. Thomas Francis</td>\n",
       "      <td>male</td>\n",
       "      <td>62.0</td>\n",
       "      <td>0</td>\n",
       "      <td>0</td>\n",
       "      <td>240276</td>\n",
       "      <td>9.6875</td>\n",
       "      <td>NaN</td>\n",
       "      <td>Q</td>\n",
       "      <td>0</td>\n",
       "      <td>NaN</td>\n",
       "      <td>Mr</td>\n",
       "      <td>1</td>\n",
       "      <td>9.68750</td>\n",
       "      <td>Myles</td>\n",
       "      <td>1</td>\n",
       "      <td>Numeric</td>\n",
       "      <td>62.0</td>\n",
       "      <td>0</td>\n",
       "    </tr>\n",
       "    <tr>\n",
       "      <th>3</th>\n",
       "      <td>3</td>\n",
       "      <td>Wirz, Mr. Albert</td>\n",
       "      <td>male</td>\n",
       "      <td>27.0</td>\n",
       "      <td>0</td>\n",
       "      <td>0</td>\n",
       "      <td>315154</td>\n",
       "      <td>8.6625</td>\n",
       "      <td>NaN</td>\n",
       "      <td>S</td>\n",
       "      <td>0</td>\n",
       "      <td>NaN</td>\n",
       "      <td>Mr</td>\n",
       "      <td>1</td>\n",
       "      <td>4.33125</td>\n",
       "      <td>Wirz</td>\n",
       "      <td>1</td>\n",
       "      <td>Numeric</td>\n",
       "      <td>27.0</td>\n",
       "      <td>0</td>\n",
       "    </tr>\n",
       "    <tr>\n",
       "      <th>4</th>\n",
       "      <td>3</td>\n",
       "      <td>Hirvonen, Mrs. Alexander (Helga E Lindqvist)</td>\n",
       "      <td>female</td>\n",
       "      <td>22.0</td>\n",
       "      <td>1</td>\n",
       "      <td>1</td>\n",
       "      <td>3101298</td>\n",
       "      <td>12.2875</td>\n",
       "      <td>NaN</td>\n",
       "      <td>S</td>\n",
       "      <td>0</td>\n",
       "      <td>NaN</td>\n",
       "      <td>Mrs</td>\n",
       "      <td>3</td>\n",
       "      <td>12.28750</td>\n",
       "      <td>Hirvonen</td>\n",
       "      <td>1</td>\n",
       "      <td>Numeric</td>\n",
       "      <td>22.0</td>\n",
       "      <td>0</td>\n",
       "    </tr>\n",
       "  </tbody>\n",
       "</table>\n",
       "</div>"
      ],
      "text/plain": [
       "   Pclass                                          Name     Sex   Age  SibSp  \\\n",
       "0       3                              Kelly, Mr. James    male  34.5      0   \n",
       "1       3              Wilkes, Mrs. James (Ellen Needs)  female  47.0      1   \n",
       "2       2                     Myles, Mr. Thomas Francis    male  62.0      0   \n",
       "3       3                              Wirz, Mr. Albert    male  27.0      0   \n",
       "4       3  Hirvonen, Mrs. Alexander (Helga E Lindqvist)  female  22.0      1   \n",
       "\n",
       "   Parch   Ticket     Fare Cabin Embarked  fare_zero Cabin_Deck Title  \\\n",
       "0      0   330911   7.8292   NaN        Q          0        NaN    Mr   \n",
       "1      0   363272   7.0000   NaN        S          0        NaN   Mrs   \n",
       "2      0   240276   9.6875   NaN        Q          0        NaN    Mr   \n",
       "3      0   315154   8.6625   NaN        S          0        NaN    Mr   \n",
       "4      1  3101298  12.2875   NaN        S          0        NaN   Mrs   \n",
       "\n",
       "   FamilySize  FarePerFamilyMember  LastName  Same_Name Ticket_Tpye  \\\n",
       "0           1              3.91460     Kelly          1     Numeric   \n",
       "1           2              3.50000    Wilkes          1     Numeric   \n",
       "2           1              9.68750     Myles          1     Numeric   \n",
       "3           1              4.33125      Wirz          1     Numeric   \n",
       "4           3             12.28750  Hirvonen          1     Numeric   \n",
       "\n",
       "   Predict_Age  Age_missing  \n",
       "0         34.5            0  \n",
       "1         47.0            0  \n",
       "2         62.0            0  \n",
       "3         27.0            0  \n",
       "4         22.0            0  "
      ]
     },
     "execution_count": 760,
     "metadata": {},
     "output_type": "execute_result"
    }
   ],
   "source": [
    "test_x.head()"
   ]
  },
  {
   "cell_type": "markdown",
   "metadata": {},
   "source": [
    "### 変更した特徴量の削除"
   ]
  },
  {
   "cell_type": "code",
   "execution_count": 761,
   "metadata": {},
   "outputs": [],
   "source": [
    "#変数を削除する\n",
    "train_x = train_x.drop(['Name','Ticket','LastName','Cabin','Parch' ,'Age_missing','fare_zero'],axis=1)\n",
    "test_x = test_x.drop(['Name','Ticket','LastName','Cabin','Parch','Age_missing','fare_zero'],axis=1)"
   ]
  },
  {
   "cell_type": "markdown",
   "metadata": {},
   "source": [
    "### label enocdingを行う"
   ]
  },
  {
   "cell_type": "code",
   "execution_count": 762,
   "metadata": {},
   "outputs": [],
   "source": [
    "from sklearn.preprocessing import LabelEncoder\n",
    "\n",
    "for c in ['Sex','Embarked','Ticket_Tpye','Title','Cabin_Deck']:\n",
    "    #学習データをどう変換するかを決める\n",
    "    le = LabelEncoder()\n",
    "    le.fit(train_x[c].fillna('NA')) #欠損値の変換\n",
    "\n",
    "    train_x[c] = le.transform(train_x[c].fillna('NA'))\n",
    "    test_x[c] = le.transform(test_x[c].fillna('NA'))"
   ]
  },
  {
   "cell_type": "code",
   "execution_count": 763,
   "metadata": {},
   "outputs": [
    {
     "data": {
      "text/html": [
       "<div>\n",
       "<style scoped>\n",
       "    .dataframe tbody tr th:only-of-type {\n",
       "        vertical-align: middle;\n",
       "    }\n",
       "\n",
       "    .dataframe tbody tr th {\n",
       "        vertical-align: top;\n",
       "    }\n",
       "\n",
       "    .dataframe thead th {\n",
       "        text-align: right;\n",
       "    }\n",
       "</style>\n",
       "<table border=\"1\" class=\"dataframe\">\n",
       "  <thead>\n",
       "    <tr style=\"text-align: right;\">\n",
       "      <th></th>\n",
       "      <th>Pclass</th>\n",
       "      <th>Sex</th>\n",
       "      <th>Age</th>\n",
       "      <th>SibSp</th>\n",
       "      <th>Fare</th>\n",
       "      <th>Embarked</th>\n",
       "      <th>Cabin_Deck</th>\n",
       "      <th>Title</th>\n",
       "      <th>FamilySize</th>\n",
       "      <th>FarePerFamilyMember</th>\n",
       "      <th>Same_Name</th>\n",
       "      <th>Ticket_Tpye</th>\n",
       "      <th>Predict_Age</th>\n",
       "      <th>Age_missing</th>\n",
       "    </tr>\n",
       "  </thead>\n",
       "  <tbody>\n",
       "    <tr>\n",
       "      <th>0</th>\n",
       "      <td>3</td>\n",
       "      <td>1</td>\n",
       "      <td>22.0</td>\n",
       "      <td>1</td>\n",
       "      <td>7.2500</td>\n",
       "      <td>3</td>\n",
       "      <td>7</td>\n",
       "      <td>2</td>\n",
       "      <td>2</td>\n",
       "      <td>3.62500</td>\n",
       "      <td>2</td>\n",
       "      <td>2</td>\n",
       "      <td>22.0</td>\n",
       "      <td>0</td>\n",
       "    </tr>\n",
       "    <tr>\n",
       "      <th>1</th>\n",
       "      <td>1</td>\n",
       "      <td>0</td>\n",
       "      <td>38.0</td>\n",
       "      <td>1</td>\n",
       "      <td>71.2833</td>\n",
       "      <td>0</td>\n",
       "      <td>2</td>\n",
       "      <td>3</td>\n",
       "      <td>2</td>\n",
       "      <td>35.64165</td>\n",
       "      <td>1</td>\n",
       "      <td>0</td>\n",
       "      <td>38.0</td>\n",
       "      <td>0</td>\n",
       "    </tr>\n",
       "    <tr>\n",
       "      <th>2</th>\n",
       "      <td>3</td>\n",
       "      <td>0</td>\n",
       "      <td>26.0</td>\n",
       "      <td>0</td>\n",
       "      <td>7.9250</td>\n",
       "      <td>3</td>\n",
       "      <td>7</td>\n",
       "      <td>1</td>\n",
       "      <td>1</td>\n",
       "      <td>7.92500</td>\n",
       "      <td>1</td>\n",
       "      <td>2</td>\n",
       "      <td>26.0</td>\n",
       "      <td>0</td>\n",
       "    </tr>\n",
       "    <tr>\n",
       "      <th>3</th>\n",
       "      <td>1</td>\n",
       "      <td>0</td>\n",
       "      <td>35.0</td>\n",
       "      <td>1</td>\n",
       "      <td>53.1000</td>\n",
       "      <td>3</td>\n",
       "      <td>2</td>\n",
       "      <td>3</td>\n",
       "      <td>2</td>\n",
       "      <td>26.55000</td>\n",
       "      <td>2</td>\n",
       "      <td>1</td>\n",
       "      <td>35.0</td>\n",
       "      <td>0</td>\n",
       "    </tr>\n",
       "    <tr>\n",
       "      <th>4</th>\n",
       "      <td>3</td>\n",
       "      <td>1</td>\n",
       "      <td>35.0</td>\n",
       "      <td>0</td>\n",
       "      <td>8.0500</td>\n",
       "      <td>3</td>\n",
       "      <td>7</td>\n",
       "      <td>2</td>\n",
       "      <td>1</td>\n",
       "      <td>8.05000</td>\n",
       "      <td>2</td>\n",
       "      <td>1</td>\n",
       "      <td>35.0</td>\n",
       "      <td>0</td>\n",
       "    </tr>\n",
       "  </tbody>\n",
       "</table>\n",
       "</div>"
      ],
      "text/plain": [
       "   Pclass  Sex   Age  SibSp     Fare  Embarked  Cabin_Deck  Title  FamilySize  \\\n",
       "0       3    1  22.0      1   7.2500         3           7      2           2   \n",
       "1       1    0  38.0      1  71.2833         0           2      3           2   \n",
       "2       3    0  26.0      0   7.9250         3           7      1           1   \n",
       "3       1    0  35.0      1  53.1000         3           2      3           2   \n",
       "4       3    1  35.0      0   8.0500         3           7      2           1   \n",
       "\n",
       "   FarePerFamilyMember  Same_Name  Ticket_Tpye  Predict_Age  Age_missing  \n",
       "0              3.62500          2            2         22.0            0  \n",
       "1             35.64165          1            0         38.0            0  \n",
       "2              7.92500          1            2         26.0            0  \n",
       "3             26.55000          2            1         35.0            0  \n",
       "4              8.05000          2            1         35.0            0  "
      ]
     },
     "execution_count": 763,
     "metadata": {},
     "output_type": "execute_result"
    }
   ],
   "source": [
    "train_x.head()"
   ]
  },
  {
   "cell_type": "markdown",
   "metadata": {},
   "source": [
    "### モデルの評価"
   ]
  },
  {
   "cell_type": "code",
   "execution_count": 764,
   "metadata": {},
   "outputs": [
    {
     "name": "stdout",
     "output_type": "stream",
     "text": [
      "logloss: 0.4121,accuracy: 0.8249\n"
     ]
    }
   ],
   "source": [
    "from sklearn.metrics import log_loss,accuracy_score\n",
    "from sklearn.model_selection import KFold\n",
    "from xgboost import XGBClassifier\n",
    "\n",
    "#各foldのスコアを保持するリスト\n",
    "scores_accuracy = []\n",
    "scores_logloss = []\n",
    "\n",
    "# クロスバリデーションデータ\n",
    "# 学習データを4つに分割し，うち1つをバリデーションデータとすることを，バリデーションデータを変えて繰り返す\n",
    "kf = KFold(n_splits=4,shuffle=True,random_state=71)\n",
    "for tr_idx,va_idx in kf.split(train_x):\n",
    "    # 学習データを学習データとバリデーションデータに分ける\n",
    "    tr_x,va_x = train_x.iloc[tr_idx],train_x.iloc[va_idx]\n",
    "    tr_y,va_y = train_y.iloc[tr_idx],train_y.iloc[va_idx]\n",
    "\n",
    "    #モデルの学習を行う\n",
    "    model = XGBClassifier(n_estimators=20,random_state=71,max_depth=3,min_child_weight=5.0)\n",
    "    model.fit(tr_x,tr_y)\n",
    "\n",
    "    #バリデーションデータに予測値を確率で算出する\n",
    "    va_pred = model.predict_proba(va_x)[:,1]\n",
    "\n",
    "    #バリデーションデータでのスコアを計算する\n",
    "    logloss = log_loss(va_y,va_pred)\n",
    "    accuracy = accuracy_score(va_y,va_pred > 0.5)\n",
    "\n",
    "    #そのfoldスコアを保存する\n",
    "    scores_logloss.append(logloss)\n",
    "    scores_accuracy.append(accuracy)\n",
    "\n",
    "# 各foldのスコアの平均を出力する\n",
    "logloss = np.mean(scores_logloss)\n",
    "accuracy = np.mean(scores_accuracy)\n",
    "print(f'logloss: {logloss:.4f},accuracy: {accuracy:.4f}')"
   ]
  },
  {
   "cell_type": "markdown",
   "metadata": {},
   "source": [
    "### モデルのチューニング"
   ]
  },
  {
   "cell_type": "code",
   "execution_count": 765,
   "metadata": {},
   "outputs": [
    {
     "name": "stdout",
     "output_type": "stream",
     "text": [
      "max_depth: 3, min_child_weight: 5.0\n"
     ]
    }
   ],
   "source": [
    "import itertools\n",
    "\n",
    "# チューニング候補とするパラメータを準備する\n",
    "param_space = {\n",
    "    'max_depth': [1, 2, 3, 4, 5, 6],\n",
    "    'min_child_weight': [1.0,2.0,3.0, 4.0, 5.0, 6.0]\n",
    "}\n",
    "\n",
    "# 探索するハイパーパラメータの組み合わせ\n",
    "param_combinations = itertools.product(param_space['max_depth'], param_space['min_child_weight'])\n",
    "\n",
    "# 各パラメータの組み合わせ、それに対するスコアを保存するリスト\n",
    "params = []\n",
    "scores = []\n",
    "\n",
    "# 各パラメータの組み合わせごとに、クロスバリデーションで評価を行う\n",
    "for max_depth, min_child_weight in param_combinations:\n",
    "\n",
    "    score_folds = []\n",
    "    # クロスバリデーションを行う\n",
    "    # 学習データを4つに分割し、うち1つをバリデーションデータとすることを、バリデーションデータを変えて繰り返す\n",
    "    kf = KFold(n_splits=4, shuffle=True, random_state=123456)\n",
    "    for tr_idx, va_idx in kf.split(train_x):\n",
    "        # 学習データを学習データとバリデーションデータに分ける\n",
    "        tr_x, va_x = train_x.iloc[tr_idx], train_x.iloc[va_idx]\n",
    "        tr_y, va_y = train_y.iloc[tr_idx], train_y.iloc[va_idx]\n",
    "\n",
    "        # モデルの学習を行う\n",
    "        model = XGBClassifier(n_estimators=20, random_state=71,\n",
    "                              max_depth=max_depth, min_child_weight=min_child_weight)\n",
    "        model.fit(tr_x, tr_y)\n",
    "\n",
    "        # バリデーションデータでのスコアを計算し、保存する\n",
    "        va_pred = model.predict_proba(va_x)[:, 1]\n",
    "        logloss = log_loss(va_y, va_pred)\n",
    "        score_folds.append(logloss)\n",
    "\n",
    "    # 各foldのスコアを平均する\n",
    "    score_mean = np.mean(score_folds)\n",
    "\n",
    "    # パラメータの組み合わせ、それに対するスコアを保存する\n",
    "    params.append((max_depth, min_child_weight))\n",
    "    scores.append(score_mean)\n",
    "\n",
    "# 最もスコアが良いものをベストなパラメータとする\n",
    "best_idx = np.argsort(scores)[0]\n",
    "best_param = params[best_idx]\n",
    "print(f'max_depth: {best_param[0]}, min_child_weight: {best_param[1]}')"
   ]
  },
  {
   "cell_type": "markdown",
   "metadata": {},
   "source": [
    "### 各Foldのスコアの変動を可視化"
   ]
  },
  {
   "cell_type": "code",
   "execution_count": 766,
   "metadata": {},
   "outputs": [
    {
     "data": {
      "image/png": "[encoded data removed]",
      "text/plain": [
       "<Figure size 1200x500 with 2 Axes>"
      ]
     },
     "metadata": {},
     "output_type": "display_data"
    }
   ],
   "source": [
    "import matplotlib.pyplot as plt\n",
    "import numpy as np\n",
    "\n",
    "# 各Foldのスコアの推移\n",
    "folds = np.arange(1, len(scores_accuracy) + 1)\n",
    "\n",
    "plt.figure(figsize=(12, 5))\n",
    "\n",
    "# Accuracyの推移\n",
    "plt.subplot(1, 2, 1)\n",
    "plt.plot(folds, scores_accuracy, marker='o', linestyle='-', label=\"Accuracy\")\n",
    "plt.xlabel(\"Fold\")\n",
    "plt.ylabel(\"Accuracy\")\n",
    "plt.title(\"Accuracy per Fold\")\n",
    "plt.xticks(folds)\n",
    "plt.ylim(0, 1)\n",
    "plt.grid(True)\n",
    "\n",
    "# Log Lossの推移\n",
    "plt.subplot(1, 2, 2)\n",
    "plt.plot(folds, scores_logloss, marker='o', linestyle='-', color='red', label=\"Log Loss\")\n",
    "plt.xlabel(\"Fold\")\n",
    "plt.ylabel(\"Log Loss\")\n",
    "plt.title(\"Log Loss per Fold\")\n",
    "plt.xticks(folds)\n",
    "plt.grid(True)\n",
    "\n",
    "plt.tight_layout()\n",
    "plt.show()\n"
   ]
  },
  {
   "cell_type": "markdown",
   "metadata": {},
   "source": [
    "### 重要な特徴量の可視化"
   ]
  },
  {
   "cell_type": "code",
   "execution_count": 767,
   "metadata": {},
   "outputs": [
    {
     "data": {
      "image/png": "[encoded data removed]",
      "text/plain": [
       "<Figure size 1000x600 with 1 Axes>"
      ]
     },
     "metadata": {},
     "output_type": "display_data"
    }
   ],
   "source": [
    "# 特徴量の重要度を取得\n",
    "feature_importances = model.feature_importances_\n",
    "features = train_x.columns\n",
    "\n",
    "# データフレーム化\n",
    "importance_df = pd.DataFrame({'Feature': features, 'Importance': feature_importances})\n",
    "importance_df = importance_df.sort_values(by='Importance', ascending=False)\n",
    "\n",
    "# 可視化\n",
    "plt.figure(figsize=(10, 6))\n",
    "sns.barplot(x='Importance', y='Feature', data=importance_df, hue='Feature', palette='viridis', legend=False)\n",
    "plt.xlabel('Feature Importance')\n",
    "plt.ylabel('Feature Name')\n",
    "plt.title('Feature Importance from XGBoost')\n",
    "plt.show()\n"
   ]
  },
  {
   "cell_type": "code",
   "execution_count": 768,
   "metadata": {},
   "outputs": [
    {
     "name": "stdout",
     "output_type": "stream",
     "text": [
      "      Feature  Importance\n",
      "1         Sex    0.509012\n",
      "0      Pclass    0.115614\n",
      "8  FamilySize    0.058800\n",
      "7       Title    0.058103\n",
      "6  Cabin_Deck    0.052082\n"
     ]
    },
    {
     "data": {
      "image/png": "[encoded data removed]",
      "text/plain": [
       "<Figure size 640x480 with 1 Axes>"
      ]
     },
     "metadata": {},
     "output_type": "display_data"
    }
   ],
   "source": [
    "# 上位の特徴量を表示\n",
    "print(importance_df.head())\n",
    "\n",
    "# 特徴量の重要度をプロット\n",
    "importance_df.plot(kind='bar', x='Feature', y='Importance', legend=False)\n",
    "plt.show()"
   ]
  },
  {
   "cell_type": "markdown",
   "metadata": {},
   "source": [
    "### モデルの作成"
   ]
  },
  {
   "cell_type": "code",
   "execution_count": 769,
   "metadata": {},
   "outputs": [],
   "source": [
    "from xgboost import XGBClassifier\n",
    "\n",
    "# モデルの作成および学習データを与えての学習\n",
    "model = XGBClassifier(n_estimators=20, random_state=71,max_depth=3,min_child_weight=5.0)\n",
    "model.fit(train_x, train_y)\n",
    "\n",
    "# テストデータの予測値を確率で出力する\n",
    "pred = model.predict_proba(test_x)[:, 1]\n",
    "\n",
    "# テストデータの予測値を二値に変換する\n",
    "pred_label = np.where(pred > 0.5, 1, 0)\n",
    "\n",
    "# 提出用ファイルの作成\n",
    "submission = pd.DataFrame({'PassengerId': test['PassengerId'], 'Survived': pred_label})\n",
    "#submission.to_csv('submission_six.csv', index=False)"
   ]
  },
  {
   "cell_type": "markdown",
   "metadata": {},
   "source": [
    "# 数値の変更忘れずに！！！"
   ]
  },
  {
   "cell_type": "code",
   "execution_count": 770,
   "metadata": {},
   "outputs": [
    {
     "data": {
      "text/html": [
       "<div>\n",
       "<style scoped>\n",
       "    .dataframe tbody tr th:only-of-type {\n",
       "        vertical-align: middle;\n",
       "    }\n",
       "\n",
       "    .dataframe tbody tr th {\n",
       "        vertical-align: top;\n",
       "    }\n",
       "\n",
       "    .dataframe thead th {\n",
       "        text-align: right;\n",
       "    }\n",
       "</style>\n",
       "<table border=\"1\" class=\"dataframe\">\n",
       "  <thead>\n",
       "    <tr style=\"text-align: right;\">\n",
       "      <th></th>\n",
       "      <th>PassengerId</th>\n",
       "      <th>Survived</th>\n",
       "    </tr>\n",
       "  </thead>\n",
       "  <tbody>\n",
       "    <tr>\n",
       "      <th>0</th>\n",
       "      <td>892</td>\n",
       "      <td>0</td>\n",
       "    </tr>\n",
       "    <tr>\n",
       "      <th>1</th>\n",
       "      <td>893</td>\n",
       "      <td>0</td>\n",
       "    </tr>\n",
       "    <tr>\n",
       "      <th>2</th>\n",
       "      <td>894</td>\n",
       "      <td>0</td>\n",
       "    </tr>\n",
       "    <tr>\n",
       "      <th>3</th>\n",
       "      <td>895</td>\n",
       "      <td>0</td>\n",
       "    </tr>\n",
       "    <tr>\n",
       "      <th>4</th>\n",
       "      <td>896</td>\n",
       "      <td>1</td>\n",
       "    </tr>\n",
       "    <tr>\n",
       "      <th>...</th>\n",
       "      <td>...</td>\n",
       "      <td>...</td>\n",
       "    </tr>\n",
       "    <tr>\n",
       "      <th>413</th>\n",
       "      <td>1305</td>\n",
       "      <td>0</td>\n",
       "    </tr>\n",
       "    <tr>\n",
       "      <th>414</th>\n",
       "      <td>1306</td>\n",
       "      <td>1</td>\n",
       "    </tr>\n",
       "    <tr>\n",
       "      <th>415</th>\n",
       "      <td>1307</td>\n",
       "      <td>0</td>\n",
       "    </tr>\n",
       "    <tr>\n",
       "      <th>416</th>\n",
       "      <td>1308</td>\n",
       "      <td>0</td>\n",
       "    </tr>\n",
       "    <tr>\n",
       "      <th>417</th>\n",
       "      <td>1309</td>\n",
       "      <td>1</td>\n",
       "    </tr>\n",
       "  </tbody>\n",
       "</table>\n",
       "<p>418 rows × 2 columns</p>\n",
       "</div>"
      ],
      "text/plain": [
       "     PassengerId  Survived\n",
       "0            892         0\n",
       "1            893         0\n",
       "2            894         0\n",
       "3            895         0\n",
       "4            896         1\n",
       "..           ...       ...\n",
       "413         1305         0\n",
       "414         1306         1\n",
       "415         1307         0\n",
       "416         1308         0\n",
       "417         1309         1\n",
       "\n",
       "[418 rows x 2 columns]"
      ]
     },
     "execution_count": 770,
     "metadata": {},
     "output_type": "execute_result"
    }
   ],
   "source": [
    "submission"
   ]
  },
  {
   "cell_type": "code",
   "execution_count": null,
   "metadata": {},
   "outputs": [],
   "source": []
  }
 ],
 "metadata": {
  "kernelspec": {
   "display_name": "Python 3",
   "language": "python",
   "name": "python3"
  },
  "language_info": {
   "codemirror_mode": {
    "name": "ipython",
    "version": 3
   },
   "file_extension": ".py",
   "mimetype": "text/x-python",
   "name": "python",
   "nbconvert_exporter": "python",
   "pygments_lexer": "ipython3",
   "version": "3.12.6"
  }
 },
 "nbformat": 4,
 "nbformat_minor": 2
}
